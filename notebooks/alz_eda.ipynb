{
 "cells": [
  {
   "cell_type": "markdown",
   "metadata": {},
   "source": [
    "## Importing Packages"
   ]
  },
  {
   "cell_type": "code",
   "execution_count": 8,
   "metadata": {},
   "outputs": [],
   "source": [
    "import pandas as pd \n",
    "import numpy as np \n",
    "import matplotlib.pyplot as plt \n",
    "import seaborn as sns\n",
    "\n",
    "%matplotlib inline"
   ]
  },
  {
   "cell_type": "markdown",
   "metadata": {},
   "source": [
    "## Reading in datasets"
   ]
  },
  {
   "cell_type": "code",
   "execution_count": 41,
   "metadata": {},
   "outputs": [],
   "source": [
    "aging_data = pd.read_csv('../data/Alzheimer_s_Disease_And_Healthy_Aging_Data_edited.csv')\n",
    "cog_dec = pd.read_csv('../data/Alzheimer_s_Disease_and_Healthy_Aging_Indicators__Cognitive_Decline.csv')\n",
    "caregiving =  pd.read_csv('../data/Alzheimer_s_Disease_and_Healthy_Aging_Indicators__Caregiving.csv')\n",
    "american_indian_female = pd.read_csv('../data/American Indian or Alaskan Native, Female, AD by State.csv',skipfooter = 76, engine = 'python')\n",
    "american_indian_male = pd.read_csv('../data/American Indian or Alaskan Native, Male, AD by State.csv',skipfooter = 76, engine = 'python')\n",
    "asian_male = pd.read_csv('../data/Asian or PI, Male, AD by State.csv', skipfooter = 78, engine = 'python')\n",
    "asian_female = pd.read_csv('../data/Asian or PI, Female, AD by State.csv', skipfooter = 78, engine = 'python')\n",
    "black_male = pd.read_csv('../data/Black, Male, AD by State.csv',skipfooter= 78,engine = 'python')\n",
    "black_female = pd.read_csv('../data/Black, Female, AD by State (1).csv',skipfooter = 78, engine = 'python')\n",
    "cumulative_72020 = pd.read_csv('../data/Cumulative_Provisional_Death_Counts_by_Sex__Race__and_Age_through_7_4_2020.csv')\n",
    "hispanic_male = pd.read_csv('../data/Hispanic, Male, AD by State.csv',skipfooter = 75, engine = 'python')\n",
    "hispanic_female = pd.read_csv('../data/Hispanic, Female, AD by State.csv',skipfooter = 77, engine = 'python')\n",
    "multiple_causes = pd.read_csv('../data/Multiple Cause of Death, 1999-2018.csv')\n",
    "white_male = pd.read_csv('../data/White, Male, AD by State.csv',skipfooter= 94, engine = 'python')\n",
    "white_female = pd.read_csv('../data/White, Female, AD by State.csv',skipfooter = 78, engine = 'python')"
   ]
  },
  {
   "source": [
    "## Data and Column Cleanup"
   ],
   "cell_type": "markdown",
   "metadata": {}
  },
  {
   "cell_type": "code",
   "execution_count": 10,
   "metadata": {},
   "outputs": [
    {
     "output_type": "execute_result",
     "data": {
      "text/plain": [
       "   ï»¿Notes    State Five-Year Age Groups  Gender Ethnicity  Year  Year Code  \\\n",
       "0       NaN  Alabama                30-34  Female     White  1999       1999   \n",
       "1       NaN  Alabama                30-34  Female     White  2000       2000   \n",
       "2       NaN  Alabama                30-34  Female     White  2001       2001   \n",
       "3       NaN  Alabama                30-34  Female     White  2002       2002   \n",
       "4       NaN  Alabama                30-34  Female     White  2003       2003   \n",
       "\n",
       "       Deaths Population  Crude Rate  \n",
       "0  Suppressed     106046  Suppressed  \n",
       "1  Suppressed     105657  Suppressed  \n",
       "2  Suppressed     105165  Suppressed  \n",
       "3  Suppressed     104248  Suppressed  \n",
       "4  Suppressed     102860  Suppressed  "
      ],
      "text/html": "<div>\n<style scoped>\n    .dataframe tbody tr th:only-of-type {\n        vertical-align: middle;\n    }\n\n    .dataframe tbody tr th {\n        vertical-align: top;\n    }\n\n    .dataframe thead th {\n        text-align: right;\n    }\n</style>\n<table border=\"1\" class=\"dataframe\">\n  <thead>\n    <tr style=\"text-align: right;\">\n      <th></th>\n      <th>ï»¿Notes</th>\n      <th>State</th>\n      <th>Five-Year Age Groups</th>\n      <th>Gender</th>\n      <th>Ethnicity</th>\n      <th>Year</th>\n      <th>Year Code</th>\n      <th>Deaths</th>\n      <th>Population</th>\n      <th>Crude Rate</th>\n    </tr>\n  </thead>\n  <tbody>\n    <tr>\n      <th>0</th>\n      <td>NaN</td>\n      <td>Alabama</td>\n      <td>30-34</td>\n      <td>Female</td>\n      <td>White</td>\n      <td>1999</td>\n      <td>1999</td>\n      <td>Suppressed</td>\n      <td>106046</td>\n      <td>Suppressed</td>\n    </tr>\n    <tr>\n      <th>1</th>\n      <td>NaN</td>\n      <td>Alabama</td>\n      <td>30-34</td>\n      <td>Female</td>\n      <td>White</td>\n      <td>2000</td>\n      <td>2000</td>\n      <td>Suppressed</td>\n      <td>105657</td>\n      <td>Suppressed</td>\n    </tr>\n    <tr>\n      <th>2</th>\n      <td>NaN</td>\n      <td>Alabama</td>\n      <td>30-34</td>\n      <td>Female</td>\n      <td>White</td>\n      <td>2001</td>\n      <td>2001</td>\n      <td>Suppressed</td>\n      <td>105165</td>\n      <td>Suppressed</td>\n    </tr>\n    <tr>\n      <th>3</th>\n      <td>NaN</td>\n      <td>Alabama</td>\n      <td>30-34</td>\n      <td>Female</td>\n      <td>White</td>\n      <td>2002</td>\n      <td>2002</td>\n      <td>Suppressed</td>\n      <td>104248</td>\n      <td>Suppressed</td>\n    </tr>\n    <tr>\n      <th>4</th>\n      <td>NaN</td>\n      <td>Alabama</td>\n      <td>30-34</td>\n      <td>Female</td>\n      <td>White</td>\n      <td>2003</td>\n      <td>2003</td>\n      <td>Suppressed</td>\n      <td>102860</td>\n      <td>Suppressed</td>\n    </tr>\n  </tbody>\n</table>\n</div>"
     },
     "metadata": {},
     "execution_count": 10
    }
   ],
   "source": [
    "white_female.head()"
   ]
  },
  {
   "cell_type": "code",
   "execution_count": 11,
   "metadata": {},
   "outputs": [
    {
     "output_type": "execute_result",
     "data": {
      "text/plain": [
       "       ï»¿Notes    State    age  Gender Ethnicity  Year  Year Code  \\\n",
       "0           NaN  Alabama  30-34  Female     White  1999       1999   \n",
       "1           NaN  Alabama  30-34  Female     White  2000       2000   \n",
       "2           NaN  Alabama  30-34  Female     White  2001       2001   \n",
       "3           NaN  Alabama  30-34  Female     White  2002       2002   \n",
       "4           NaN  Alabama  30-34  Female     White  2003       2003   \n",
       "...         ...      ...    ...     ...       ...   ...        ...   \n",
       "15295       NaN  Wyoming   100+  Female     White  2014       2014   \n",
       "15296       NaN  Wyoming   100+  Female     White  2015       2015   \n",
       "15297       NaN  Wyoming   100+  Female     White  2016       2016   \n",
       "15298       NaN  Wyoming   100+  Female     White  2017       2017   \n",
       "15299       NaN  Wyoming   100+  Female     White  2018       2018   \n",
       "\n",
       "           Deaths      Population      Crude Rate  \n",
       "0      Suppressed          106046      Suppressed  \n",
       "1      Suppressed          105657      Suppressed  \n",
       "2      Suppressed          105165      Suppressed  \n",
       "3      Suppressed          104248      Suppressed  \n",
       "4      Suppressed          102860      Suppressed  \n",
       "...           ...             ...             ...  \n",
       "15295  Suppressed  Not Applicable  Not Applicable  \n",
       "15296  Suppressed  Not Applicable  Not Applicable  \n",
       "15297  Suppressed  Not Applicable  Not Applicable  \n",
       "15298  Suppressed  Not Applicable  Not Applicable  \n",
       "15299          13  Not Applicable  Not Applicable  \n",
       "\n",
       "[15300 rows x 10 columns]"
      ],
      "text/html": "<div>\n<style scoped>\n    .dataframe tbody tr th:only-of-type {\n        vertical-align: middle;\n    }\n\n    .dataframe tbody tr th {\n        vertical-align: top;\n    }\n\n    .dataframe thead th {\n        text-align: right;\n    }\n</style>\n<table border=\"1\" class=\"dataframe\">\n  <thead>\n    <tr style=\"text-align: right;\">\n      <th></th>\n      <th>ï»¿Notes</th>\n      <th>State</th>\n      <th>age</th>\n      <th>Gender</th>\n      <th>Ethnicity</th>\n      <th>Year</th>\n      <th>Year Code</th>\n      <th>Deaths</th>\n      <th>Population</th>\n      <th>Crude Rate</th>\n    </tr>\n  </thead>\n  <tbody>\n    <tr>\n      <th>0</th>\n      <td>NaN</td>\n      <td>Alabama</td>\n      <td>30-34</td>\n      <td>Female</td>\n      <td>White</td>\n      <td>1999</td>\n      <td>1999</td>\n      <td>Suppressed</td>\n      <td>106046</td>\n      <td>Suppressed</td>\n    </tr>\n    <tr>\n      <th>1</th>\n      <td>NaN</td>\n      <td>Alabama</td>\n      <td>30-34</td>\n      <td>Female</td>\n      <td>White</td>\n      <td>2000</td>\n      <td>2000</td>\n      <td>Suppressed</td>\n      <td>105657</td>\n      <td>Suppressed</td>\n    </tr>\n    <tr>\n      <th>2</th>\n      <td>NaN</td>\n      <td>Alabama</td>\n      <td>30-34</td>\n      <td>Female</td>\n      <td>White</td>\n      <td>2001</td>\n      <td>2001</td>\n      <td>Suppressed</td>\n      <td>105165</td>\n      <td>Suppressed</td>\n    </tr>\n    <tr>\n      <th>3</th>\n      <td>NaN</td>\n      <td>Alabama</td>\n      <td>30-34</td>\n      <td>Female</td>\n      <td>White</td>\n      <td>2002</td>\n      <td>2002</td>\n      <td>Suppressed</td>\n      <td>104248</td>\n      <td>Suppressed</td>\n    </tr>\n    <tr>\n      <th>4</th>\n      <td>NaN</td>\n      <td>Alabama</td>\n      <td>30-34</td>\n      <td>Female</td>\n      <td>White</td>\n      <td>2003</td>\n      <td>2003</td>\n      <td>Suppressed</td>\n      <td>102860</td>\n      <td>Suppressed</td>\n    </tr>\n    <tr>\n      <th>...</th>\n      <td>...</td>\n      <td>...</td>\n      <td>...</td>\n      <td>...</td>\n      <td>...</td>\n      <td>...</td>\n      <td>...</td>\n      <td>...</td>\n      <td>...</td>\n      <td>...</td>\n    </tr>\n    <tr>\n      <th>15295</th>\n      <td>NaN</td>\n      <td>Wyoming</td>\n      <td>100+</td>\n      <td>Female</td>\n      <td>White</td>\n      <td>2014</td>\n      <td>2014</td>\n      <td>Suppressed</td>\n      <td>Not Applicable</td>\n      <td>Not Applicable</td>\n    </tr>\n    <tr>\n      <th>15296</th>\n      <td>NaN</td>\n      <td>Wyoming</td>\n      <td>100+</td>\n      <td>Female</td>\n      <td>White</td>\n      <td>2015</td>\n      <td>2015</td>\n      <td>Suppressed</td>\n      <td>Not Applicable</td>\n      <td>Not Applicable</td>\n    </tr>\n    <tr>\n      <th>15297</th>\n      <td>NaN</td>\n      <td>Wyoming</td>\n      <td>100+</td>\n      <td>Female</td>\n      <td>White</td>\n      <td>2016</td>\n      <td>2016</td>\n      <td>Suppressed</td>\n      <td>Not Applicable</td>\n      <td>Not Applicable</td>\n    </tr>\n    <tr>\n      <th>15298</th>\n      <td>NaN</td>\n      <td>Wyoming</td>\n      <td>100+</td>\n      <td>Female</td>\n      <td>White</td>\n      <td>2017</td>\n      <td>2017</td>\n      <td>Suppressed</td>\n      <td>Not Applicable</td>\n      <td>Not Applicable</td>\n    </tr>\n    <tr>\n      <th>15299</th>\n      <td>NaN</td>\n      <td>Wyoming</td>\n      <td>100+</td>\n      <td>Female</td>\n      <td>White</td>\n      <td>2018</td>\n      <td>2018</td>\n      <td>13</td>\n      <td>Not Applicable</td>\n      <td>Not Applicable</td>\n    </tr>\n  </tbody>\n</table>\n<p>15300 rows × 10 columns</p>\n</div>"
     },
     "metadata": {},
     "execution_count": 11
    }
   ],
   "source": [
    "white_female = white_female.rename(columns= {'Five-Year Age Groups':'age'})\n",
    "white_female"
   ]
  },
  {
   "cell_type": "code",
   "execution_count": 12,
   "metadata": {},
   "outputs": [],
   "source": [
    "white_female = white_female[white_female.age != '30-34']"
   ]
  },
  {
   "cell_type": "code",
   "execution_count": 13,
   "metadata": {},
   "outputs": [
    {
     "output_type": "execute_result",
     "data": {
      "text/plain": [
       "    ï»¿Notes    State    age  Gender Ethnicity  Year  Year Code      Deaths  \\\n",
       "20       NaN  Alabama  35-39  Female     White  1999       1999  Suppressed   \n",
       "21       NaN  Alabama  35-39  Female     White  2000       2000  Suppressed   \n",
       "22       NaN  Alabama  35-39  Female     White  2001       2001  Suppressed   \n",
       "23       NaN  Alabama  35-39  Female     White  2002       2002  Suppressed   \n",
       "24       NaN  Alabama  35-39  Female     White  2003       2003  Suppressed   \n",
       "\n",
       "   Population  Crude Rate  \n",
       "20     122659  Suppressed  \n",
       "21     121413  Suppressed  \n",
       "22     117197  Suppressed  \n",
       "23     113407  Suppressed  \n",
       "24     109786  Suppressed  "
      ],
      "text/html": "<div>\n<style scoped>\n    .dataframe tbody tr th:only-of-type {\n        vertical-align: middle;\n    }\n\n    .dataframe tbody tr th {\n        vertical-align: top;\n    }\n\n    .dataframe thead th {\n        text-align: right;\n    }\n</style>\n<table border=\"1\" class=\"dataframe\">\n  <thead>\n    <tr style=\"text-align: right;\">\n      <th></th>\n      <th>ï»¿Notes</th>\n      <th>State</th>\n      <th>age</th>\n      <th>Gender</th>\n      <th>Ethnicity</th>\n      <th>Year</th>\n      <th>Year Code</th>\n      <th>Deaths</th>\n      <th>Population</th>\n      <th>Crude Rate</th>\n    </tr>\n  </thead>\n  <tbody>\n    <tr>\n      <th>20</th>\n      <td>NaN</td>\n      <td>Alabama</td>\n      <td>35-39</td>\n      <td>Female</td>\n      <td>White</td>\n      <td>1999</td>\n      <td>1999</td>\n      <td>Suppressed</td>\n      <td>122659</td>\n      <td>Suppressed</td>\n    </tr>\n    <tr>\n      <th>21</th>\n      <td>NaN</td>\n      <td>Alabama</td>\n      <td>35-39</td>\n      <td>Female</td>\n      <td>White</td>\n      <td>2000</td>\n      <td>2000</td>\n      <td>Suppressed</td>\n      <td>121413</td>\n      <td>Suppressed</td>\n    </tr>\n    <tr>\n      <th>22</th>\n      <td>NaN</td>\n      <td>Alabama</td>\n      <td>35-39</td>\n      <td>Female</td>\n      <td>White</td>\n      <td>2001</td>\n      <td>2001</td>\n      <td>Suppressed</td>\n      <td>117197</td>\n      <td>Suppressed</td>\n    </tr>\n    <tr>\n      <th>23</th>\n      <td>NaN</td>\n      <td>Alabama</td>\n      <td>35-39</td>\n      <td>Female</td>\n      <td>White</td>\n      <td>2002</td>\n      <td>2002</td>\n      <td>Suppressed</td>\n      <td>113407</td>\n      <td>Suppressed</td>\n    </tr>\n    <tr>\n      <th>24</th>\n      <td>NaN</td>\n      <td>Alabama</td>\n      <td>35-39</td>\n      <td>Female</td>\n      <td>White</td>\n      <td>2003</td>\n      <td>2003</td>\n      <td>Suppressed</td>\n      <td>109786</td>\n      <td>Suppressed</td>\n    </tr>\n  </tbody>\n</table>\n</div>"
     },
     "metadata": {},
     "execution_count": 13
    }
   ],
   "source": [
    "white_female.head()"
   ]
  },
  {
   "cell_type": "code",
   "execution_count": 14,
   "metadata": {},
   "outputs": [
    {
     "output_type": "execute_result",
     "data": {
      "text/plain": [
       "       ï»¿Notes    State Five-Year Age Groups Code Gender  Ethnicity  Year  \\\n",
       "14275       NaN  Wyoming                      100+    Male     White  2014   \n",
       "14276       NaN  Wyoming                      100+    Male     White  2015   \n",
       "14277       NaN  Wyoming                      100+    Male     White  2016   \n",
       "14278       NaN  Wyoming                      100+    Male     White  2017   \n",
       "14279       NaN  Wyoming                      100+    Male     White  2018   \n",
       "\n",
       "           Deaths      Population      Crude Rate  \n",
       "14275  Suppressed  Not Applicable  Not Applicable  \n",
       "14276  Suppressed  Not Applicable  Not Applicable  \n",
       "14277  Suppressed  Not Applicable  Not Applicable  \n",
       "14278  Suppressed  Not Applicable  Not Applicable  \n",
       "14279  Suppressed  Not Applicable  Not Applicable  "
      ],
      "text/html": "<div>\n<style scoped>\n    .dataframe tbody tr th:only-of-type {\n        vertical-align: middle;\n    }\n\n    .dataframe tbody tr th {\n        vertical-align: top;\n    }\n\n    .dataframe thead th {\n        text-align: right;\n    }\n</style>\n<table border=\"1\" class=\"dataframe\">\n  <thead>\n    <tr style=\"text-align: right;\">\n      <th></th>\n      <th>ï»¿Notes</th>\n      <th>State</th>\n      <th>Five-Year Age Groups Code</th>\n      <th>Gender</th>\n      <th>Ethnicity</th>\n      <th>Year</th>\n      <th>Deaths</th>\n      <th>Population</th>\n      <th>Crude Rate</th>\n    </tr>\n  </thead>\n  <tbody>\n    <tr>\n      <th>14275</th>\n      <td>NaN</td>\n      <td>Wyoming</td>\n      <td>100+</td>\n      <td>Male</td>\n      <td>White</td>\n      <td>2014</td>\n      <td>Suppressed</td>\n      <td>Not Applicable</td>\n      <td>Not Applicable</td>\n    </tr>\n    <tr>\n      <th>14276</th>\n      <td>NaN</td>\n      <td>Wyoming</td>\n      <td>100+</td>\n      <td>Male</td>\n      <td>White</td>\n      <td>2015</td>\n      <td>Suppressed</td>\n      <td>Not Applicable</td>\n      <td>Not Applicable</td>\n    </tr>\n    <tr>\n      <th>14277</th>\n      <td>NaN</td>\n      <td>Wyoming</td>\n      <td>100+</td>\n      <td>Male</td>\n      <td>White</td>\n      <td>2016</td>\n      <td>Suppressed</td>\n      <td>Not Applicable</td>\n      <td>Not Applicable</td>\n    </tr>\n    <tr>\n      <th>14278</th>\n      <td>NaN</td>\n      <td>Wyoming</td>\n      <td>100+</td>\n      <td>Male</td>\n      <td>White</td>\n      <td>2017</td>\n      <td>Suppressed</td>\n      <td>Not Applicable</td>\n      <td>Not Applicable</td>\n    </tr>\n    <tr>\n      <th>14279</th>\n      <td>NaN</td>\n      <td>Wyoming</td>\n      <td>100+</td>\n      <td>Male</td>\n      <td>White</td>\n      <td>2018</td>\n      <td>Suppressed</td>\n      <td>Not Applicable</td>\n      <td>Not Applicable</td>\n    </tr>\n  </tbody>\n</table>\n</div>"
     },
     "metadata": {},
     "execution_count": 14
    }
   ],
   "source": [
    "white_male.tail()"
   ]
  },
  {
   "cell_type": "code",
   "execution_count": 15,
   "metadata": {},
   "outputs": [
    {
     "output_type": "execute_result",
     "data": {
      "text/plain": [
       "   ï»¿Notes    State    age Gender  Ethnicity  Year      Deaths Population  \\\n",
       "0       NaN  Alabama  35-39    Male     White  1999  Suppressed     123893   \n",
       "1       NaN  Alabama  35-39    Male     White  2000  Suppressed     122289   \n",
       "2       NaN  Alabama  35-39    Male     White  2001  Suppressed     117693   \n",
       "3       NaN  Alabama  35-39    Male     White  2002  Suppressed     113632   \n",
       "4       NaN  Alabama  35-39    Male     White  2003  Suppressed     110121   \n",
       "\n",
       "   Crude Rate  \n",
       "0  Suppressed  \n",
       "1  Suppressed  \n",
       "2  Suppressed  \n",
       "3  Suppressed  \n",
       "4  Suppressed  "
      ],
      "text/html": "<div>\n<style scoped>\n    .dataframe tbody tr th:only-of-type {\n        vertical-align: middle;\n    }\n\n    .dataframe tbody tr th {\n        vertical-align: top;\n    }\n\n    .dataframe thead th {\n        text-align: right;\n    }\n</style>\n<table border=\"1\" class=\"dataframe\">\n  <thead>\n    <tr style=\"text-align: right;\">\n      <th></th>\n      <th>ï»¿Notes</th>\n      <th>State</th>\n      <th>age</th>\n      <th>Gender</th>\n      <th>Ethnicity</th>\n      <th>Year</th>\n      <th>Deaths</th>\n      <th>Population</th>\n      <th>Crude Rate</th>\n    </tr>\n  </thead>\n  <tbody>\n    <tr>\n      <th>0</th>\n      <td>NaN</td>\n      <td>Alabama</td>\n      <td>35-39</td>\n      <td>Male</td>\n      <td>White</td>\n      <td>1999</td>\n      <td>Suppressed</td>\n      <td>123893</td>\n      <td>Suppressed</td>\n    </tr>\n    <tr>\n      <th>1</th>\n      <td>NaN</td>\n      <td>Alabama</td>\n      <td>35-39</td>\n      <td>Male</td>\n      <td>White</td>\n      <td>2000</td>\n      <td>Suppressed</td>\n      <td>122289</td>\n      <td>Suppressed</td>\n    </tr>\n    <tr>\n      <th>2</th>\n      <td>NaN</td>\n      <td>Alabama</td>\n      <td>35-39</td>\n      <td>Male</td>\n      <td>White</td>\n      <td>2001</td>\n      <td>Suppressed</td>\n      <td>117693</td>\n      <td>Suppressed</td>\n    </tr>\n    <tr>\n      <th>3</th>\n      <td>NaN</td>\n      <td>Alabama</td>\n      <td>35-39</td>\n      <td>Male</td>\n      <td>White</td>\n      <td>2002</td>\n      <td>Suppressed</td>\n      <td>113632</td>\n      <td>Suppressed</td>\n    </tr>\n    <tr>\n      <th>4</th>\n      <td>NaN</td>\n      <td>Alabama</td>\n      <td>35-39</td>\n      <td>Male</td>\n      <td>White</td>\n      <td>2003</td>\n      <td>Suppressed</td>\n      <td>110121</td>\n      <td>Suppressed</td>\n    </tr>\n  </tbody>\n</table>\n</div>"
     },
     "metadata": {},
     "execution_count": 15
    }
   ],
   "source": [
    "white_male = white_male.rename(columns = {'Five-Year Age Groups Code':'age'})\n",
    "white_male.head()"
   ]
  },
  {
   "cell_type": "code",
   "execution_count": 16,
   "metadata": {},
   "outputs": [
    {
     "output_type": "execute_result",
     "data": {
      "text/plain": [
       "       ï»¿Notes    State  State Code Five-Year Age Groups  \\\n",
       "15295       NaN  Wyoming          56           100+ years   \n",
       "15296       NaN  Wyoming          56           100+ years   \n",
       "15297       NaN  Wyoming          56           100+ years   \n",
       "15298       NaN  Wyoming          56           100+ years   \n",
       "15299       NaN  Wyoming          56           100+ years   \n",
       "\n",
       "      Five-Year Age Groups Code Ethnicity Gender Gender Code  Year  Year Code  \\\n",
       "15295                      100+     Black   Male           M  2014       2014   \n",
       "15296                      100+     Black   Male           M  2015       2015   \n",
       "15297                      100+     Black   Male           M  2016       2016   \n",
       "15298                      100+     Black   Male           M  2017       2017   \n",
       "15299                      100+     Black   Male           M  2018       2018   \n",
       "\n",
       "           Deaths      Population      Crude Rate  \n",
       "15295  Suppressed  Not Applicable  Not Applicable  \n",
       "15296  Suppressed  Not Applicable  Not Applicable  \n",
       "15297  Suppressed  Not Applicable  Not Applicable  \n",
       "15298  Suppressed  Not Applicable  Not Applicable  \n",
       "15299  Suppressed  Not Applicable  Not Applicable  "
      ],
      "text/html": "<div>\n<style scoped>\n    .dataframe tbody tr th:only-of-type {\n        vertical-align: middle;\n    }\n\n    .dataframe tbody tr th {\n        vertical-align: top;\n    }\n\n    .dataframe thead th {\n        text-align: right;\n    }\n</style>\n<table border=\"1\" class=\"dataframe\">\n  <thead>\n    <tr style=\"text-align: right;\">\n      <th></th>\n      <th>ï»¿Notes</th>\n      <th>State</th>\n      <th>State Code</th>\n      <th>Five-Year Age Groups</th>\n      <th>Five-Year Age Groups Code</th>\n      <th>Ethnicity</th>\n      <th>Gender</th>\n      <th>Gender Code</th>\n      <th>Year</th>\n      <th>Year Code</th>\n      <th>Deaths</th>\n      <th>Population</th>\n      <th>Crude Rate</th>\n    </tr>\n  </thead>\n  <tbody>\n    <tr>\n      <th>15295</th>\n      <td>NaN</td>\n      <td>Wyoming</td>\n      <td>56</td>\n      <td>100+ years</td>\n      <td>100+</td>\n      <td>Black</td>\n      <td>Male</td>\n      <td>M</td>\n      <td>2014</td>\n      <td>2014</td>\n      <td>Suppressed</td>\n      <td>Not Applicable</td>\n      <td>Not Applicable</td>\n    </tr>\n    <tr>\n      <th>15296</th>\n      <td>NaN</td>\n      <td>Wyoming</td>\n      <td>56</td>\n      <td>100+ years</td>\n      <td>100+</td>\n      <td>Black</td>\n      <td>Male</td>\n      <td>M</td>\n      <td>2015</td>\n      <td>2015</td>\n      <td>Suppressed</td>\n      <td>Not Applicable</td>\n      <td>Not Applicable</td>\n    </tr>\n    <tr>\n      <th>15297</th>\n      <td>NaN</td>\n      <td>Wyoming</td>\n      <td>56</td>\n      <td>100+ years</td>\n      <td>100+</td>\n      <td>Black</td>\n      <td>Male</td>\n      <td>M</td>\n      <td>2016</td>\n      <td>2016</td>\n      <td>Suppressed</td>\n      <td>Not Applicable</td>\n      <td>Not Applicable</td>\n    </tr>\n    <tr>\n      <th>15298</th>\n      <td>NaN</td>\n      <td>Wyoming</td>\n      <td>56</td>\n      <td>100+ years</td>\n      <td>100+</td>\n      <td>Black</td>\n      <td>Male</td>\n      <td>M</td>\n      <td>2017</td>\n      <td>2017</td>\n      <td>Suppressed</td>\n      <td>Not Applicable</td>\n      <td>Not Applicable</td>\n    </tr>\n    <tr>\n      <th>15299</th>\n      <td>NaN</td>\n      <td>Wyoming</td>\n      <td>56</td>\n      <td>100+ years</td>\n      <td>100+</td>\n      <td>Black</td>\n      <td>Male</td>\n      <td>M</td>\n      <td>2018</td>\n      <td>2018</td>\n      <td>Suppressed</td>\n      <td>Not Applicable</td>\n      <td>Not Applicable</td>\n    </tr>\n  </tbody>\n</table>\n</div>"
     },
     "metadata": {},
     "execution_count": 16
    }
   ],
   "source": [
    "black_male.tail()"
   ]
  },
  {
   "cell_type": "code",
   "execution_count": 17,
   "metadata": {},
   "outputs": [
    {
     "output_type": "execute_result",
     "data": {
      "text/plain": [
       "   ï»¿Notes    State Five-Year Age Groups Code Ethnicity Gender  Year  \\\n",
       "0       NaN  Alabama                     30-34     Black   Male  1999   \n",
       "1       NaN  Alabama                     30-34     Black   Male  2000   \n",
       "2       NaN  Alabama                     30-34     Black   Male  2001   \n",
       "3       NaN  Alabama                     30-34     Black   Male  2002   \n",
       "4       NaN  Alabama                     30-34     Black   Male  2003   \n",
       "\n",
       "       Deaths Population  Crude Rate  \n",
       "0  Suppressed      34931  Suppressed  \n",
       "1  Suppressed      34821  Suppressed  \n",
       "2  Suppressed      34582  Suppressed  \n",
       "3  Suppressed      34999  Suppressed  \n",
       "4  Suppressed      35431  Suppressed  "
      ],
      "text/html": "<div>\n<style scoped>\n    .dataframe tbody tr th:only-of-type {\n        vertical-align: middle;\n    }\n\n    .dataframe tbody tr th {\n        vertical-align: top;\n    }\n\n    .dataframe thead th {\n        text-align: right;\n    }\n</style>\n<table border=\"1\" class=\"dataframe\">\n  <thead>\n    <tr style=\"text-align: right;\">\n      <th></th>\n      <th>ï»¿Notes</th>\n      <th>State</th>\n      <th>Five-Year Age Groups Code</th>\n      <th>Ethnicity</th>\n      <th>Gender</th>\n      <th>Year</th>\n      <th>Deaths</th>\n      <th>Population</th>\n      <th>Crude Rate</th>\n    </tr>\n  </thead>\n  <tbody>\n    <tr>\n      <th>0</th>\n      <td>NaN</td>\n      <td>Alabama</td>\n      <td>30-34</td>\n      <td>Black</td>\n      <td>Male</td>\n      <td>1999</td>\n      <td>Suppressed</td>\n      <td>34931</td>\n      <td>Suppressed</td>\n    </tr>\n    <tr>\n      <th>1</th>\n      <td>NaN</td>\n      <td>Alabama</td>\n      <td>30-34</td>\n      <td>Black</td>\n      <td>Male</td>\n      <td>2000</td>\n      <td>Suppressed</td>\n      <td>34821</td>\n      <td>Suppressed</td>\n    </tr>\n    <tr>\n      <th>2</th>\n      <td>NaN</td>\n      <td>Alabama</td>\n      <td>30-34</td>\n      <td>Black</td>\n      <td>Male</td>\n      <td>2001</td>\n      <td>Suppressed</td>\n      <td>34582</td>\n      <td>Suppressed</td>\n    </tr>\n    <tr>\n      <th>3</th>\n      <td>NaN</td>\n      <td>Alabama</td>\n      <td>30-34</td>\n      <td>Black</td>\n      <td>Male</td>\n      <td>2002</td>\n      <td>Suppressed</td>\n      <td>34999</td>\n      <td>Suppressed</td>\n    </tr>\n    <tr>\n      <th>4</th>\n      <td>NaN</td>\n      <td>Alabama</td>\n      <td>30-34</td>\n      <td>Black</td>\n      <td>Male</td>\n      <td>2003</td>\n      <td>Suppressed</td>\n      <td>35431</td>\n      <td>Suppressed</td>\n    </tr>\n  </tbody>\n</table>\n</div>"
     },
     "metadata": {},
     "execution_count": 17
    }
   ],
   "source": [
    "black_male = black_male.drop(columns = ['State Code','Five-Year Age Groups','Gender Code','Year Code']) \n",
    "black_male.head()"
   ]
  },
  {
   "cell_type": "code",
   "execution_count": 18,
   "metadata": {},
   "outputs": [
    {
     "output_type": "execute_result",
     "data": {
      "text/plain": [
       "   ï»¿Notes    State    age Ethnicity Gender  Year      Deaths Population  \\\n",
       "0       NaN  Alabama  30-34     Black   Male  1999  Suppressed      34931   \n",
       "1       NaN  Alabama  30-34     Black   Male  2000  Suppressed      34821   \n",
       "2       NaN  Alabama  30-34     Black   Male  2001  Suppressed      34582   \n",
       "3       NaN  Alabama  30-34     Black   Male  2002  Suppressed      34999   \n",
       "4       NaN  Alabama  30-34     Black   Male  2003  Suppressed      35431   \n",
       "\n",
       "   Crude Rate  \n",
       "0  Suppressed  \n",
       "1  Suppressed  \n",
       "2  Suppressed  \n",
       "3  Suppressed  \n",
       "4  Suppressed  "
      ],
      "text/html": "<div>\n<style scoped>\n    .dataframe tbody tr th:only-of-type {\n        vertical-align: middle;\n    }\n\n    .dataframe tbody tr th {\n        vertical-align: top;\n    }\n\n    .dataframe thead th {\n        text-align: right;\n    }\n</style>\n<table border=\"1\" class=\"dataframe\">\n  <thead>\n    <tr style=\"text-align: right;\">\n      <th></th>\n      <th>ï»¿Notes</th>\n      <th>State</th>\n      <th>age</th>\n      <th>Ethnicity</th>\n      <th>Gender</th>\n      <th>Year</th>\n      <th>Deaths</th>\n      <th>Population</th>\n      <th>Crude Rate</th>\n    </tr>\n  </thead>\n  <tbody>\n    <tr>\n      <th>0</th>\n      <td>NaN</td>\n      <td>Alabama</td>\n      <td>30-34</td>\n      <td>Black</td>\n      <td>Male</td>\n      <td>1999</td>\n      <td>Suppressed</td>\n      <td>34931</td>\n      <td>Suppressed</td>\n    </tr>\n    <tr>\n      <th>1</th>\n      <td>NaN</td>\n      <td>Alabama</td>\n      <td>30-34</td>\n      <td>Black</td>\n      <td>Male</td>\n      <td>2000</td>\n      <td>Suppressed</td>\n      <td>34821</td>\n      <td>Suppressed</td>\n    </tr>\n    <tr>\n      <th>2</th>\n      <td>NaN</td>\n      <td>Alabama</td>\n      <td>30-34</td>\n      <td>Black</td>\n      <td>Male</td>\n      <td>2001</td>\n      <td>Suppressed</td>\n      <td>34582</td>\n      <td>Suppressed</td>\n    </tr>\n    <tr>\n      <th>3</th>\n      <td>NaN</td>\n      <td>Alabama</td>\n      <td>30-34</td>\n      <td>Black</td>\n      <td>Male</td>\n      <td>2002</td>\n      <td>Suppressed</td>\n      <td>34999</td>\n      <td>Suppressed</td>\n    </tr>\n    <tr>\n      <th>4</th>\n      <td>NaN</td>\n      <td>Alabama</td>\n      <td>30-34</td>\n      <td>Black</td>\n      <td>Male</td>\n      <td>2003</td>\n      <td>Suppressed</td>\n      <td>35431</td>\n      <td>Suppressed</td>\n    </tr>\n  </tbody>\n</table>\n</div>"
     },
     "metadata": {},
     "execution_count": 18
    }
   ],
   "source": [
    "black_male = black_male.rename(columns = {'Five-Year Age Groups Code': 'age'})\n",
    "black_male.head()"
   ]
  },
  {
   "cell_type": "code",
   "execution_count": 19,
   "metadata": {},
   "outputs": [
    {
     "output_type": "execute_result",
     "data": {
      "text/plain": [
       "       ï»¿Notes    State  State Code Five-Year Age Groups  \\\n",
       "15295       NaN  Wyoming          56           100+ years   \n",
       "15296       NaN  Wyoming          56           100+ years   \n",
       "15297       NaN  Wyoming          56           100+ years   \n",
       "15298       NaN  Wyoming          56           100+ years   \n",
       "15299       NaN  Wyoming          56           100+ years   \n",
       "\n",
       "      Five-Year Age Groups Code Ethnicity  Gender Gender Code  Year  \\\n",
       "15295                      100+     Black  Female           F  2014   \n",
       "15296                      100+     Black  Female           F  2015   \n",
       "15297                      100+     Black  Female           F  2016   \n",
       "15298                      100+     Black  Female           F  2017   \n",
       "15299                      100+     Black  Female           F  2018   \n",
       "\n",
       "       Year Code      Deaths      Population      Crude Rate  \n",
       "15295       2014  Suppressed  Not Applicable  Not Applicable  \n",
       "15296       2015  Suppressed  Not Applicable  Not Applicable  \n",
       "15297       2016  Suppressed  Not Applicable  Not Applicable  \n",
       "15298       2017  Suppressed  Not Applicable  Not Applicable  \n",
       "15299       2018  Suppressed  Not Applicable  Not Applicable  "
      ],
      "text/html": "<div>\n<style scoped>\n    .dataframe tbody tr th:only-of-type {\n        vertical-align: middle;\n    }\n\n    .dataframe tbody tr th {\n        vertical-align: top;\n    }\n\n    .dataframe thead th {\n        text-align: right;\n    }\n</style>\n<table border=\"1\" class=\"dataframe\">\n  <thead>\n    <tr style=\"text-align: right;\">\n      <th></th>\n      <th>ï»¿Notes</th>\n      <th>State</th>\n      <th>State Code</th>\n      <th>Five-Year Age Groups</th>\n      <th>Five-Year Age Groups Code</th>\n      <th>Ethnicity</th>\n      <th>Gender</th>\n      <th>Gender Code</th>\n      <th>Year</th>\n      <th>Year Code</th>\n      <th>Deaths</th>\n      <th>Population</th>\n      <th>Crude Rate</th>\n    </tr>\n  </thead>\n  <tbody>\n    <tr>\n      <th>15295</th>\n      <td>NaN</td>\n      <td>Wyoming</td>\n      <td>56</td>\n      <td>100+ years</td>\n      <td>100+</td>\n      <td>Black</td>\n      <td>Female</td>\n      <td>F</td>\n      <td>2014</td>\n      <td>2014</td>\n      <td>Suppressed</td>\n      <td>Not Applicable</td>\n      <td>Not Applicable</td>\n    </tr>\n    <tr>\n      <th>15296</th>\n      <td>NaN</td>\n      <td>Wyoming</td>\n      <td>56</td>\n      <td>100+ years</td>\n      <td>100+</td>\n      <td>Black</td>\n      <td>Female</td>\n      <td>F</td>\n      <td>2015</td>\n      <td>2015</td>\n      <td>Suppressed</td>\n      <td>Not Applicable</td>\n      <td>Not Applicable</td>\n    </tr>\n    <tr>\n      <th>15297</th>\n      <td>NaN</td>\n      <td>Wyoming</td>\n      <td>56</td>\n      <td>100+ years</td>\n      <td>100+</td>\n      <td>Black</td>\n      <td>Female</td>\n      <td>F</td>\n      <td>2016</td>\n      <td>2016</td>\n      <td>Suppressed</td>\n      <td>Not Applicable</td>\n      <td>Not Applicable</td>\n    </tr>\n    <tr>\n      <th>15298</th>\n      <td>NaN</td>\n      <td>Wyoming</td>\n      <td>56</td>\n      <td>100+ years</td>\n      <td>100+</td>\n      <td>Black</td>\n      <td>Female</td>\n      <td>F</td>\n      <td>2017</td>\n      <td>2017</td>\n      <td>Suppressed</td>\n      <td>Not Applicable</td>\n      <td>Not Applicable</td>\n    </tr>\n    <tr>\n      <th>15299</th>\n      <td>NaN</td>\n      <td>Wyoming</td>\n      <td>56</td>\n      <td>100+ years</td>\n      <td>100+</td>\n      <td>Black</td>\n      <td>Female</td>\n      <td>F</td>\n      <td>2018</td>\n      <td>2018</td>\n      <td>Suppressed</td>\n      <td>Not Applicable</td>\n      <td>Not Applicable</td>\n    </tr>\n  </tbody>\n</table>\n</div>"
     },
     "metadata": {},
     "execution_count": 19
    }
   ],
   "source": [
    "black_female.tail()"
   ]
  },
  {
   "cell_type": "code",
   "execution_count": 20,
   "metadata": {},
   "outputs": [
    {
     "output_type": "execute_result",
     "data": {
      "text/plain": [
       "   ï»¿Notes    State    age Ethnicity  Gender  Year      Deaths Population  \\\n",
       "0       NaN  Alabama  30-34     Black  Female  1999  Suppressed      42324   \n",
       "1       NaN  Alabama  30-34     Black  Female  2000  Suppressed      42199   \n",
       "2       NaN  Alabama  30-34     Black  Female  2001  Suppressed      42199   \n",
       "3       NaN  Alabama  30-34     Black  Female  2002  Suppressed      42531   \n",
       "4       NaN  Alabama  30-34     Black  Female  2003  Suppressed      42992   \n",
       "\n",
       "   Crude Rate  \n",
       "0  Suppressed  \n",
       "1  Suppressed  \n",
       "2  Suppressed  \n",
       "3  Suppressed  \n",
       "4  Suppressed  "
      ],
      "text/html": "<div>\n<style scoped>\n    .dataframe tbody tr th:only-of-type {\n        vertical-align: middle;\n    }\n\n    .dataframe tbody tr th {\n        vertical-align: top;\n    }\n\n    .dataframe thead th {\n        text-align: right;\n    }\n</style>\n<table border=\"1\" class=\"dataframe\">\n  <thead>\n    <tr style=\"text-align: right;\">\n      <th></th>\n      <th>ï»¿Notes</th>\n      <th>State</th>\n      <th>age</th>\n      <th>Ethnicity</th>\n      <th>Gender</th>\n      <th>Year</th>\n      <th>Deaths</th>\n      <th>Population</th>\n      <th>Crude Rate</th>\n    </tr>\n  </thead>\n  <tbody>\n    <tr>\n      <th>0</th>\n      <td>NaN</td>\n      <td>Alabama</td>\n      <td>30-34</td>\n      <td>Black</td>\n      <td>Female</td>\n      <td>1999</td>\n      <td>Suppressed</td>\n      <td>42324</td>\n      <td>Suppressed</td>\n    </tr>\n    <tr>\n      <th>1</th>\n      <td>NaN</td>\n      <td>Alabama</td>\n      <td>30-34</td>\n      <td>Black</td>\n      <td>Female</td>\n      <td>2000</td>\n      <td>Suppressed</td>\n      <td>42199</td>\n      <td>Suppressed</td>\n    </tr>\n    <tr>\n      <th>2</th>\n      <td>NaN</td>\n      <td>Alabama</td>\n      <td>30-34</td>\n      <td>Black</td>\n      <td>Female</td>\n      <td>2001</td>\n      <td>Suppressed</td>\n      <td>42199</td>\n      <td>Suppressed</td>\n    </tr>\n    <tr>\n      <th>3</th>\n      <td>NaN</td>\n      <td>Alabama</td>\n      <td>30-34</td>\n      <td>Black</td>\n      <td>Female</td>\n      <td>2002</td>\n      <td>Suppressed</td>\n      <td>42531</td>\n      <td>Suppressed</td>\n    </tr>\n    <tr>\n      <th>4</th>\n      <td>NaN</td>\n      <td>Alabama</td>\n      <td>30-34</td>\n      <td>Black</td>\n      <td>Female</td>\n      <td>2003</td>\n      <td>Suppressed</td>\n      <td>42992</td>\n      <td>Suppressed</td>\n    </tr>\n  </tbody>\n</table>\n</div>"
     },
     "metadata": {},
     "execution_count": 20
    }
   ],
   "source": [
    "black_female = black_female.drop(columns = ['State Code','Five-Year Age Groups','Gender Code','Year Code'])\n",
    "black_female = black_female.rename(columns = {'Five-Year Age Groups Code':'age'})\n",
    "black_female.head()"
   ]
  },
  {
   "cell_type": "code",
   "execution_count": 21,
   "metadata": {},
   "outputs": [
    {
     "output_type": "execute_result",
     "data": {
      "text/plain": [
       "      ï»¿Notes    State  State Code Five-Year Age Groups  \\\n",
       "16875      NaN  Wyoming          56           100+ years   \n",
       "16876      NaN  Wyoming          56           100+ years   \n",
       "16877      NaN  Wyoming          56           100+ years   \n",
       "16878    Total  Wyoming          56           100+ years   \n",
       "16879    Total  Wyoming          56           100+ years   \n",
       "\n",
       "      Five-Year Age Groups Code Ethnicity Gender Gender Code    Year  \\\n",
       "16875                      100+  Hispanic   Male           M  2016.0   \n",
       "16876                      100+  Hispanic   Male           M  2017.0   \n",
       "16877                      100+  Hispanic   Male           M  2018.0   \n",
       "16878                      100+  Hispanic   Male           M     NaN   \n",
       "16879                      100+  Hispanic    NaN         NaN     NaN   \n",
       "\n",
       "       Year Code      Deaths      Population      Crude Rate  \n",
       "16875     2016.0  Suppressed  Not Applicable  Not Applicable  \n",
       "16876     2017.0  Suppressed  Not Applicable  Not Applicable  \n",
       "16877     2018.0  Suppressed  Not Applicable  Not Applicable  \n",
       "16878        NaN  Suppressed  Not Applicable  Not Applicable  \n",
       "16879        NaN  Suppressed  Not Applicable  Not Applicable  "
      ],
      "text/html": "<div>\n<style scoped>\n    .dataframe tbody tr th:only-of-type {\n        vertical-align: middle;\n    }\n\n    .dataframe tbody tr th {\n        vertical-align: top;\n    }\n\n    .dataframe thead th {\n        text-align: right;\n    }\n</style>\n<table border=\"1\" class=\"dataframe\">\n  <thead>\n    <tr style=\"text-align: right;\">\n      <th></th>\n      <th>ï»¿Notes</th>\n      <th>State</th>\n      <th>State Code</th>\n      <th>Five-Year Age Groups</th>\n      <th>Five-Year Age Groups Code</th>\n      <th>Ethnicity</th>\n      <th>Gender</th>\n      <th>Gender Code</th>\n      <th>Year</th>\n      <th>Year Code</th>\n      <th>Deaths</th>\n      <th>Population</th>\n      <th>Crude Rate</th>\n    </tr>\n  </thead>\n  <tbody>\n    <tr>\n      <th>16875</th>\n      <td>NaN</td>\n      <td>Wyoming</td>\n      <td>56</td>\n      <td>100+ years</td>\n      <td>100+</td>\n      <td>Hispanic</td>\n      <td>Male</td>\n      <td>M</td>\n      <td>2016.0</td>\n      <td>2016.0</td>\n      <td>Suppressed</td>\n      <td>Not Applicable</td>\n      <td>Not Applicable</td>\n    </tr>\n    <tr>\n      <th>16876</th>\n      <td>NaN</td>\n      <td>Wyoming</td>\n      <td>56</td>\n      <td>100+ years</td>\n      <td>100+</td>\n      <td>Hispanic</td>\n      <td>Male</td>\n      <td>M</td>\n      <td>2017.0</td>\n      <td>2017.0</td>\n      <td>Suppressed</td>\n      <td>Not Applicable</td>\n      <td>Not Applicable</td>\n    </tr>\n    <tr>\n      <th>16877</th>\n      <td>NaN</td>\n      <td>Wyoming</td>\n      <td>56</td>\n      <td>100+ years</td>\n      <td>100+</td>\n      <td>Hispanic</td>\n      <td>Male</td>\n      <td>M</td>\n      <td>2018.0</td>\n      <td>2018.0</td>\n      <td>Suppressed</td>\n      <td>Not Applicable</td>\n      <td>Not Applicable</td>\n    </tr>\n    <tr>\n      <th>16878</th>\n      <td>Total</td>\n      <td>Wyoming</td>\n      <td>56</td>\n      <td>100+ years</td>\n      <td>100+</td>\n      <td>Hispanic</td>\n      <td>Male</td>\n      <td>M</td>\n      <td>NaN</td>\n      <td>NaN</td>\n      <td>Suppressed</td>\n      <td>Not Applicable</td>\n      <td>Not Applicable</td>\n    </tr>\n    <tr>\n      <th>16879</th>\n      <td>Total</td>\n      <td>Wyoming</td>\n      <td>56</td>\n      <td>100+ years</td>\n      <td>100+</td>\n      <td>Hispanic</td>\n      <td>NaN</td>\n      <td>NaN</td>\n      <td>NaN</td>\n      <td>NaN</td>\n      <td>Suppressed</td>\n      <td>Not Applicable</td>\n      <td>Not Applicable</td>\n    </tr>\n  </tbody>\n</table>\n</div>"
     },
     "metadata": {},
     "execution_count": 21
    }
   ],
   "source": [
    "hispanic_male.tail()"
   ]
  },
  {
   "cell_type": "code",
   "execution_count": 22,
   "metadata": {},
   "outputs": [
    {
     "output_type": "execute_result",
     "data": {
      "text/plain": [
       "  ï»¿Notes    State    age Ethnicity Gender    Year      Deaths Population  \\\n",
       "0      NaN  Alabama  30-34  Hispanic   Male  1999.0  Suppressed       3858   \n",
       "1      NaN  Alabama  30-34  Hispanic   Male  2000.0  Suppressed       4307   \n",
       "2      NaN  Alabama  30-34  Hispanic   Male  2001.0  Suppressed       5009   \n",
       "3      NaN  Alabama  30-34  Hispanic   Male  2002.0  Suppressed       5775   \n",
       "4      NaN  Alabama  30-34  Hispanic   Male  2003.0  Suppressed       6524   \n",
       "\n",
       "   Crude Rate  \n",
       "0  Suppressed  \n",
       "1  Suppressed  \n",
       "2  Suppressed  \n",
       "3  Suppressed  \n",
       "4  Suppressed  "
      ],
      "text/html": "<div>\n<style scoped>\n    .dataframe tbody tr th:only-of-type {\n        vertical-align: middle;\n    }\n\n    .dataframe tbody tr th {\n        vertical-align: top;\n    }\n\n    .dataframe thead th {\n        text-align: right;\n    }\n</style>\n<table border=\"1\" class=\"dataframe\">\n  <thead>\n    <tr style=\"text-align: right;\">\n      <th></th>\n      <th>ï»¿Notes</th>\n      <th>State</th>\n      <th>age</th>\n      <th>Ethnicity</th>\n      <th>Gender</th>\n      <th>Year</th>\n      <th>Deaths</th>\n      <th>Population</th>\n      <th>Crude Rate</th>\n    </tr>\n  </thead>\n  <tbody>\n    <tr>\n      <th>0</th>\n      <td>NaN</td>\n      <td>Alabama</td>\n      <td>30-34</td>\n      <td>Hispanic</td>\n      <td>Male</td>\n      <td>1999.0</td>\n      <td>Suppressed</td>\n      <td>3858</td>\n      <td>Suppressed</td>\n    </tr>\n    <tr>\n      <th>1</th>\n      <td>NaN</td>\n      <td>Alabama</td>\n      <td>30-34</td>\n      <td>Hispanic</td>\n      <td>Male</td>\n      <td>2000.0</td>\n      <td>Suppressed</td>\n      <td>4307</td>\n      <td>Suppressed</td>\n    </tr>\n    <tr>\n      <th>2</th>\n      <td>NaN</td>\n      <td>Alabama</td>\n      <td>30-34</td>\n      <td>Hispanic</td>\n      <td>Male</td>\n      <td>2001.0</td>\n      <td>Suppressed</td>\n      <td>5009</td>\n      <td>Suppressed</td>\n    </tr>\n    <tr>\n      <th>3</th>\n      <td>NaN</td>\n      <td>Alabama</td>\n      <td>30-34</td>\n      <td>Hispanic</td>\n      <td>Male</td>\n      <td>2002.0</td>\n      <td>Suppressed</td>\n      <td>5775</td>\n      <td>Suppressed</td>\n    </tr>\n    <tr>\n      <th>4</th>\n      <td>NaN</td>\n      <td>Alabama</td>\n      <td>30-34</td>\n      <td>Hispanic</td>\n      <td>Male</td>\n      <td>2003.0</td>\n      <td>Suppressed</td>\n      <td>6524</td>\n      <td>Suppressed</td>\n    </tr>\n  </tbody>\n</table>\n</div>"
     },
     "metadata": {},
     "execution_count": 22
    }
   ],
   "source": [
    "hispanic_male = hispanic_male.drop(columns = ['State Code','Five-Year Age Groups','Gender Code','Year Code'])\n",
    "hispanic_male = hispanic_male.rename(columns = {'Five-Year Age Groups Code':'age'})\n",
    "hispanic_male.head()"
   ]
  },
  {
   "cell_type": "code",
   "execution_count": 23,
   "metadata": {},
   "outputs": [
    {
     "output_type": "execute_result",
     "data": {
      "text/plain": [
       "       ï»¿Notes    State  State Code Five-Year Age Groups  \\\n",
       "15295       NaN  Wyoming          56           100+ years   \n",
       "15296       NaN  Wyoming          56           100+ years   \n",
       "15297       NaN  Wyoming          56           100+ years   \n",
       "15298       NaN  Wyoming          56           100+ years   \n",
       "15299       NaN  Wyoming          56           100+ years   \n",
       "\n",
       "      Five-Year Age Groups Code Ethnicity  Gender Gender Code  Year  \\\n",
       "15295                      100+  Hispanic  Female           F  2014   \n",
       "15296                      100+  Hispanic  Female           F  2015   \n",
       "15297                      100+  Hispanic  Female           F  2016   \n",
       "15298                      100+  Hispanic  Female           F  2017   \n",
       "15299                      100+  Hispanic  Female           F  2018   \n",
       "\n",
       "       Year Code      Deaths      Population      Crude Rate  \n",
       "15295       2014  Suppressed  Not Applicable  Not Applicable  \n",
       "15296       2015  Suppressed  Not Applicable  Not Applicable  \n",
       "15297       2016  Suppressed  Not Applicable  Not Applicable  \n",
       "15298       2017  Suppressed  Not Applicable  Not Applicable  \n",
       "15299       2018  Suppressed  Not Applicable  Not Applicable  "
      ],
      "text/html": "<div>\n<style scoped>\n    .dataframe tbody tr th:only-of-type {\n        vertical-align: middle;\n    }\n\n    .dataframe tbody tr th {\n        vertical-align: top;\n    }\n\n    .dataframe thead th {\n        text-align: right;\n    }\n</style>\n<table border=\"1\" class=\"dataframe\">\n  <thead>\n    <tr style=\"text-align: right;\">\n      <th></th>\n      <th>ï»¿Notes</th>\n      <th>State</th>\n      <th>State Code</th>\n      <th>Five-Year Age Groups</th>\n      <th>Five-Year Age Groups Code</th>\n      <th>Ethnicity</th>\n      <th>Gender</th>\n      <th>Gender Code</th>\n      <th>Year</th>\n      <th>Year Code</th>\n      <th>Deaths</th>\n      <th>Population</th>\n      <th>Crude Rate</th>\n    </tr>\n  </thead>\n  <tbody>\n    <tr>\n      <th>15295</th>\n      <td>NaN</td>\n      <td>Wyoming</td>\n      <td>56</td>\n      <td>100+ years</td>\n      <td>100+</td>\n      <td>Hispanic</td>\n      <td>Female</td>\n      <td>F</td>\n      <td>2014</td>\n      <td>2014</td>\n      <td>Suppressed</td>\n      <td>Not Applicable</td>\n      <td>Not Applicable</td>\n    </tr>\n    <tr>\n      <th>15296</th>\n      <td>NaN</td>\n      <td>Wyoming</td>\n      <td>56</td>\n      <td>100+ years</td>\n      <td>100+</td>\n      <td>Hispanic</td>\n      <td>Female</td>\n      <td>F</td>\n      <td>2015</td>\n      <td>2015</td>\n      <td>Suppressed</td>\n      <td>Not Applicable</td>\n      <td>Not Applicable</td>\n    </tr>\n    <tr>\n      <th>15297</th>\n      <td>NaN</td>\n      <td>Wyoming</td>\n      <td>56</td>\n      <td>100+ years</td>\n      <td>100+</td>\n      <td>Hispanic</td>\n      <td>Female</td>\n      <td>F</td>\n      <td>2016</td>\n      <td>2016</td>\n      <td>Suppressed</td>\n      <td>Not Applicable</td>\n      <td>Not Applicable</td>\n    </tr>\n    <tr>\n      <th>15298</th>\n      <td>NaN</td>\n      <td>Wyoming</td>\n      <td>56</td>\n      <td>100+ years</td>\n      <td>100+</td>\n      <td>Hispanic</td>\n      <td>Female</td>\n      <td>F</td>\n      <td>2017</td>\n      <td>2017</td>\n      <td>Suppressed</td>\n      <td>Not Applicable</td>\n      <td>Not Applicable</td>\n    </tr>\n    <tr>\n      <th>15299</th>\n      <td>NaN</td>\n      <td>Wyoming</td>\n      <td>56</td>\n      <td>100+ years</td>\n      <td>100+</td>\n      <td>Hispanic</td>\n      <td>Female</td>\n      <td>F</td>\n      <td>2018</td>\n      <td>2018</td>\n      <td>Suppressed</td>\n      <td>Not Applicable</td>\n      <td>Not Applicable</td>\n    </tr>\n  </tbody>\n</table>\n</div>"
     },
     "metadata": {},
     "execution_count": 23
    }
   ],
   "source": [
    "hispanic_female.tail()"
   ]
  },
  {
   "cell_type": "code",
   "execution_count": 24,
   "metadata": {},
   "outputs": [
    {
     "output_type": "execute_result",
     "data": {
      "text/plain": [
       "   ï»¿Notes    State    age Ethnicity  Gender  Year      Deaths Population  \\\n",
       "0       NaN  Alabama  30-34  Hispanic  Female  1999  Suppressed       2339   \n",
       "1       NaN  Alabama  30-34  Hispanic  Female  2000  Suppressed       2742   \n",
       "2       NaN  Alabama  30-34  Hispanic  Female  2001  Suppressed       3272   \n",
       "3       NaN  Alabama  30-34  Hispanic  Female  2002  Suppressed       3592   \n",
       "4       NaN  Alabama  30-34  Hispanic  Female  2003  Suppressed       4217   \n",
       "\n",
       "   Crude Rate  \n",
       "0  Suppressed  \n",
       "1  Suppressed  \n",
       "2  Suppressed  \n",
       "3  Suppressed  \n",
       "4  Suppressed  "
      ],
      "text/html": "<div>\n<style scoped>\n    .dataframe tbody tr th:only-of-type {\n        vertical-align: middle;\n    }\n\n    .dataframe tbody tr th {\n        vertical-align: top;\n    }\n\n    .dataframe thead th {\n        text-align: right;\n    }\n</style>\n<table border=\"1\" class=\"dataframe\">\n  <thead>\n    <tr style=\"text-align: right;\">\n      <th></th>\n      <th>ï»¿Notes</th>\n      <th>State</th>\n      <th>age</th>\n      <th>Ethnicity</th>\n      <th>Gender</th>\n      <th>Year</th>\n      <th>Deaths</th>\n      <th>Population</th>\n      <th>Crude Rate</th>\n    </tr>\n  </thead>\n  <tbody>\n    <tr>\n      <th>0</th>\n      <td>NaN</td>\n      <td>Alabama</td>\n      <td>30-34</td>\n      <td>Hispanic</td>\n      <td>Female</td>\n      <td>1999</td>\n      <td>Suppressed</td>\n      <td>2339</td>\n      <td>Suppressed</td>\n    </tr>\n    <tr>\n      <th>1</th>\n      <td>NaN</td>\n      <td>Alabama</td>\n      <td>30-34</td>\n      <td>Hispanic</td>\n      <td>Female</td>\n      <td>2000</td>\n      <td>Suppressed</td>\n      <td>2742</td>\n      <td>Suppressed</td>\n    </tr>\n    <tr>\n      <th>2</th>\n      <td>NaN</td>\n      <td>Alabama</td>\n      <td>30-34</td>\n      <td>Hispanic</td>\n      <td>Female</td>\n      <td>2001</td>\n      <td>Suppressed</td>\n      <td>3272</td>\n      <td>Suppressed</td>\n    </tr>\n    <tr>\n      <th>3</th>\n      <td>NaN</td>\n      <td>Alabama</td>\n      <td>30-34</td>\n      <td>Hispanic</td>\n      <td>Female</td>\n      <td>2002</td>\n      <td>Suppressed</td>\n      <td>3592</td>\n      <td>Suppressed</td>\n    </tr>\n    <tr>\n      <th>4</th>\n      <td>NaN</td>\n      <td>Alabama</td>\n      <td>30-34</td>\n      <td>Hispanic</td>\n      <td>Female</td>\n      <td>2003</td>\n      <td>Suppressed</td>\n      <td>4217</td>\n      <td>Suppressed</td>\n    </tr>\n  </tbody>\n</table>\n</div>"
     },
     "metadata": {},
     "execution_count": 24
    }
   ],
   "source": [
    "hispanic_female = hispanic_female.drop(columns = ['State Code','Five-Year Age Groups','Gender Code','Year Code'])\n",
    "hispanic_female = hispanic_female.rename(columns = {'Five-Year Age Groups Code':'age'})\n",
    "hispanic_female.head()\n"
   ]
  },
  {
   "cell_type": "code",
   "execution_count": 25,
   "metadata": {},
   "outputs": [
    {
     "output_type": "execute_result",
     "data": {
      "text/plain": [
       "      ï»¿Notes    State  State Code Five-Year Age Groups  \\\n",
       "16875      NaN  Wyoming          56           100+ years   \n",
       "16876      NaN  Wyoming          56           100+ years   \n",
       "16877      NaN  Wyoming          56           100+ years   \n",
       "16878    Total  Wyoming          56           100+ years   \n",
       "16879    Total  Wyoming          56           100+ years   \n",
       "\n",
       "      Five-Year Age Groups Code                          Ethnicity  Gender  \\\n",
       "16875                      100+  American Indian or Alaskan Native  Female   \n",
       "16876                      100+  American Indian or Alaskan Native  Female   \n",
       "16877                      100+  American Indian or Alaskan Native  Female   \n",
       "16878                      100+  American Indian or Alaskan Native  Female   \n",
       "16879                      100+  American Indian or Alaskan Native     NaN   \n",
       "\n",
       "      Gender Code    Year  Year Code      Deaths      Population  \\\n",
       "16875           F  2016.0     2016.0  Suppressed  Not Applicable   \n",
       "16876           F  2017.0     2017.0  Suppressed  Not Applicable   \n",
       "16877           F  2018.0     2018.0  Suppressed  Not Applicable   \n",
       "16878           F     NaN        NaN  Suppressed  Not Applicable   \n",
       "16879         NaN     NaN        NaN  Suppressed  Not Applicable   \n",
       "\n",
       "           Crude Rate  \n",
       "16875  Not Applicable  \n",
       "16876  Not Applicable  \n",
       "16877  Not Applicable  \n",
       "16878  Not Applicable  \n",
       "16879  Not Applicable  "
      ],
      "text/html": "<div>\n<style scoped>\n    .dataframe tbody tr th:only-of-type {\n        vertical-align: middle;\n    }\n\n    .dataframe tbody tr th {\n        vertical-align: top;\n    }\n\n    .dataframe thead th {\n        text-align: right;\n    }\n</style>\n<table border=\"1\" class=\"dataframe\">\n  <thead>\n    <tr style=\"text-align: right;\">\n      <th></th>\n      <th>ï»¿Notes</th>\n      <th>State</th>\n      <th>State Code</th>\n      <th>Five-Year Age Groups</th>\n      <th>Five-Year Age Groups Code</th>\n      <th>Ethnicity</th>\n      <th>Gender</th>\n      <th>Gender Code</th>\n      <th>Year</th>\n      <th>Year Code</th>\n      <th>Deaths</th>\n      <th>Population</th>\n      <th>Crude Rate</th>\n    </tr>\n  </thead>\n  <tbody>\n    <tr>\n      <th>16875</th>\n      <td>NaN</td>\n      <td>Wyoming</td>\n      <td>56</td>\n      <td>100+ years</td>\n      <td>100+</td>\n      <td>American Indian or Alaskan Native</td>\n      <td>Female</td>\n      <td>F</td>\n      <td>2016.0</td>\n      <td>2016.0</td>\n      <td>Suppressed</td>\n      <td>Not Applicable</td>\n      <td>Not Applicable</td>\n    </tr>\n    <tr>\n      <th>16876</th>\n      <td>NaN</td>\n      <td>Wyoming</td>\n      <td>56</td>\n      <td>100+ years</td>\n      <td>100+</td>\n      <td>American Indian or Alaskan Native</td>\n      <td>Female</td>\n      <td>F</td>\n      <td>2017.0</td>\n      <td>2017.0</td>\n      <td>Suppressed</td>\n      <td>Not Applicable</td>\n      <td>Not Applicable</td>\n    </tr>\n    <tr>\n      <th>16877</th>\n      <td>NaN</td>\n      <td>Wyoming</td>\n      <td>56</td>\n      <td>100+ years</td>\n      <td>100+</td>\n      <td>American Indian or Alaskan Native</td>\n      <td>Female</td>\n      <td>F</td>\n      <td>2018.0</td>\n      <td>2018.0</td>\n      <td>Suppressed</td>\n      <td>Not Applicable</td>\n      <td>Not Applicable</td>\n    </tr>\n    <tr>\n      <th>16878</th>\n      <td>Total</td>\n      <td>Wyoming</td>\n      <td>56</td>\n      <td>100+ years</td>\n      <td>100+</td>\n      <td>American Indian or Alaskan Native</td>\n      <td>Female</td>\n      <td>F</td>\n      <td>NaN</td>\n      <td>NaN</td>\n      <td>Suppressed</td>\n      <td>Not Applicable</td>\n      <td>Not Applicable</td>\n    </tr>\n    <tr>\n      <th>16879</th>\n      <td>Total</td>\n      <td>Wyoming</td>\n      <td>56</td>\n      <td>100+ years</td>\n      <td>100+</td>\n      <td>American Indian or Alaskan Native</td>\n      <td>NaN</td>\n      <td>NaN</td>\n      <td>NaN</td>\n      <td>NaN</td>\n      <td>Suppressed</td>\n      <td>Not Applicable</td>\n      <td>Not Applicable</td>\n    </tr>\n  </tbody>\n</table>\n</div>"
     },
     "metadata": {},
     "execution_count": 25
    }
   ],
   "source": [
    "american_indian_female.tail()"
   ]
  },
  {
   "cell_type": "code",
   "execution_count": 26,
   "metadata": {},
   "outputs": [
    {
     "output_type": "execute_result",
     "data": {
      "text/plain": [
       "  ï»¿Notes    State    age                          Ethnicity  Gender    Year  \\\n",
       "0      NaN  Alabama  30-34  American Indian or Alaskan Native  Female  1999.0   \n",
       "1      NaN  Alabama  30-34  American Indian or Alaskan Native  Female  2000.0   \n",
       "2      NaN  Alabama  30-34  American Indian or Alaskan Native  Female  2001.0   \n",
       "3      NaN  Alabama  30-34  American Indian or Alaskan Native  Female  2002.0   \n",
       "4      NaN  Alabama  30-34  American Indian or Alaskan Native  Female  2003.0   \n",
       "\n",
       "       Deaths Population  Crude Rate  \n",
       "0  Suppressed        770  Suppressed  \n",
       "1  Suppressed        826  Suppressed  \n",
       "2  Suppressed        766  Suppressed  \n",
       "3  Suppressed        776  Suppressed  \n",
       "4  Suppressed        798  Suppressed  "
      ],
      "text/html": "<div>\n<style scoped>\n    .dataframe tbody tr th:only-of-type {\n        vertical-align: middle;\n    }\n\n    .dataframe tbody tr th {\n        vertical-align: top;\n    }\n\n    .dataframe thead th {\n        text-align: right;\n    }\n</style>\n<table border=\"1\" class=\"dataframe\">\n  <thead>\n    <tr style=\"text-align: right;\">\n      <th></th>\n      <th>ï»¿Notes</th>\n      <th>State</th>\n      <th>age</th>\n      <th>Ethnicity</th>\n      <th>Gender</th>\n      <th>Year</th>\n      <th>Deaths</th>\n      <th>Population</th>\n      <th>Crude Rate</th>\n    </tr>\n  </thead>\n  <tbody>\n    <tr>\n      <th>0</th>\n      <td>NaN</td>\n      <td>Alabama</td>\n      <td>30-34</td>\n      <td>American Indian or Alaskan Native</td>\n      <td>Female</td>\n      <td>1999.0</td>\n      <td>Suppressed</td>\n      <td>770</td>\n      <td>Suppressed</td>\n    </tr>\n    <tr>\n      <th>1</th>\n      <td>NaN</td>\n      <td>Alabama</td>\n      <td>30-34</td>\n      <td>American Indian or Alaskan Native</td>\n      <td>Female</td>\n      <td>2000.0</td>\n      <td>Suppressed</td>\n      <td>826</td>\n      <td>Suppressed</td>\n    </tr>\n    <tr>\n      <th>2</th>\n      <td>NaN</td>\n      <td>Alabama</td>\n      <td>30-34</td>\n      <td>American Indian or Alaskan Native</td>\n      <td>Female</td>\n      <td>2001.0</td>\n      <td>Suppressed</td>\n      <td>766</td>\n      <td>Suppressed</td>\n    </tr>\n    <tr>\n      <th>3</th>\n      <td>NaN</td>\n      <td>Alabama</td>\n      <td>30-34</td>\n      <td>American Indian or Alaskan Native</td>\n      <td>Female</td>\n      <td>2002.0</td>\n      <td>Suppressed</td>\n      <td>776</td>\n      <td>Suppressed</td>\n    </tr>\n    <tr>\n      <th>4</th>\n      <td>NaN</td>\n      <td>Alabama</td>\n      <td>30-34</td>\n      <td>American Indian or Alaskan Native</td>\n      <td>Female</td>\n      <td>2003.0</td>\n      <td>Suppressed</td>\n      <td>798</td>\n      <td>Suppressed</td>\n    </tr>\n  </tbody>\n</table>\n</div>"
     },
     "metadata": {},
     "execution_count": 26
    }
   ],
   "source": [
    "american_indian_female = american_indian_female.drop(columns = ['State Code','Five-Year Age Groups','Gender Code','Year Code'])\n",
    "american_indian_female = american_indian_female.rename(columns = {'Five-Year Age Groups Code':'age'})\n",
    "american_indian_female.head()"
   ]
  },
  {
   "cell_type": "code",
   "execution_count": 27,
   "metadata": {},
   "outputs": [
    {
     "output_type": "execute_result",
     "data": {
      "text/plain": [
       "      ï»¿Notes    State  State Code Five-Year Age Groups  \\\n",
       "16875      NaN  Wyoming          56           100+ years   \n",
       "16876      NaN  Wyoming          56           100+ years   \n",
       "16877      NaN  Wyoming          56           100+ years   \n",
       "16878    Total  Wyoming          56           100+ years   \n",
       "16879    Total  Wyoming          56           100+ years   \n",
       "\n",
       "      Five-Year Age Groups Code                          Ethnicity Gender  \\\n",
       "16875                      100+  American Indian or Alaskan Native   Male   \n",
       "16876                      100+  American Indian or Alaskan Native   Male   \n",
       "16877                      100+  American Indian or Alaskan Native   Male   \n",
       "16878                      100+  American Indian or Alaskan Native   Male   \n",
       "16879                      100+  American Indian or Alaskan Native    NaN   \n",
       "\n",
       "      Gender Code    Year  Year Code      Deaths      Population  \\\n",
       "16875           M  2016.0     2016.0  Suppressed  Not Applicable   \n",
       "16876           M  2017.0     2017.0  Suppressed  Not Applicable   \n",
       "16877           M  2018.0     2018.0  Suppressed  Not Applicable   \n",
       "16878           M     NaN        NaN  Suppressed  Not Applicable   \n",
       "16879         NaN     NaN        NaN  Suppressed  Not Applicable   \n",
       "\n",
       "           Crude Rate  \n",
       "16875  Not Applicable  \n",
       "16876  Not Applicable  \n",
       "16877  Not Applicable  \n",
       "16878  Not Applicable  \n",
       "16879  Not Applicable  "
      ],
      "text/html": "<div>\n<style scoped>\n    .dataframe tbody tr th:only-of-type {\n        vertical-align: middle;\n    }\n\n    .dataframe tbody tr th {\n        vertical-align: top;\n    }\n\n    .dataframe thead th {\n        text-align: right;\n    }\n</style>\n<table border=\"1\" class=\"dataframe\">\n  <thead>\n    <tr style=\"text-align: right;\">\n      <th></th>\n      <th>ï»¿Notes</th>\n      <th>State</th>\n      <th>State Code</th>\n      <th>Five-Year Age Groups</th>\n      <th>Five-Year Age Groups Code</th>\n      <th>Ethnicity</th>\n      <th>Gender</th>\n      <th>Gender Code</th>\n      <th>Year</th>\n      <th>Year Code</th>\n      <th>Deaths</th>\n      <th>Population</th>\n      <th>Crude Rate</th>\n    </tr>\n  </thead>\n  <tbody>\n    <tr>\n      <th>16875</th>\n      <td>NaN</td>\n      <td>Wyoming</td>\n      <td>56</td>\n      <td>100+ years</td>\n      <td>100+</td>\n      <td>American Indian or Alaskan Native</td>\n      <td>Male</td>\n      <td>M</td>\n      <td>2016.0</td>\n      <td>2016.0</td>\n      <td>Suppressed</td>\n      <td>Not Applicable</td>\n      <td>Not Applicable</td>\n    </tr>\n    <tr>\n      <th>16876</th>\n      <td>NaN</td>\n      <td>Wyoming</td>\n      <td>56</td>\n      <td>100+ years</td>\n      <td>100+</td>\n      <td>American Indian or Alaskan Native</td>\n      <td>Male</td>\n      <td>M</td>\n      <td>2017.0</td>\n      <td>2017.0</td>\n      <td>Suppressed</td>\n      <td>Not Applicable</td>\n      <td>Not Applicable</td>\n    </tr>\n    <tr>\n      <th>16877</th>\n      <td>NaN</td>\n      <td>Wyoming</td>\n      <td>56</td>\n      <td>100+ years</td>\n      <td>100+</td>\n      <td>American Indian or Alaskan Native</td>\n      <td>Male</td>\n      <td>M</td>\n      <td>2018.0</td>\n      <td>2018.0</td>\n      <td>Suppressed</td>\n      <td>Not Applicable</td>\n      <td>Not Applicable</td>\n    </tr>\n    <tr>\n      <th>16878</th>\n      <td>Total</td>\n      <td>Wyoming</td>\n      <td>56</td>\n      <td>100+ years</td>\n      <td>100+</td>\n      <td>American Indian or Alaskan Native</td>\n      <td>Male</td>\n      <td>M</td>\n      <td>NaN</td>\n      <td>NaN</td>\n      <td>Suppressed</td>\n      <td>Not Applicable</td>\n      <td>Not Applicable</td>\n    </tr>\n    <tr>\n      <th>16879</th>\n      <td>Total</td>\n      <td>Wyoming</td>\n      <td>56</td>\n      <td>100+ years</td>\n      <td>100+</td>\n      <td>American Indian or Alaskan Native</td>\n      <td>NaN</td>\n      <td>NaN</td>\n      <td>NaN</td>\n      <td>NaN</td>\n      <td>Suppressed</td>\n      <td>Not Applicable</td>\n      <td>Not Applicable</td>\n    </tr>\n  </tbody>\n</table>\n</div>"
     },
     "metadata": {},
     "execution_count": 27
    }
   ],
   "source": [
    "american_indian_male.tail()"
   ]
  },
  {
   "cell_type": "code",
   "execution_count": 28,
   "metadata": {},
   "outputs": [
    {
     "output_type": "execute_result",
     "data": {
      "text/plain": [
       "  ï»¿Notes    State    age                          Ethnicity Gender    Year  \\\n",
       "0      NaN  Alabama  30-34  American Indian or Alaskan Native   Male  1999.0   \n",
       "1      NaN  Alabama  30-34  American Indian or Alaskan Native   Male  2000.0   \n",
       "2      NaN  Alabama  30-34  American Indian or Alaskan Native   Male  2001.0   \n",
       "3      NaN  Alabama  30-34  American Indian or Alaskan Native   Male  2002.0   \n",
       "4      NaN  Alabama  30-34  American Indian or Alaskan Native   Male  2003.0   \n",
       "\n",
       "       Deaths Population  Crude Rate  \n",
       "0  Suppressed        763  Suppressed  \n",
       "1  Suppressed        822  Suppressed  \n",
       "2  Suppressed        801  Suppressed  \n",
       "3  Suppressed        814  Suppressed  \n",
       "4  Suppressed        827  Suppressed  "
      ],
      "text/html": "<div>\n<style scoped>\n    .dataframe tbody tr th:only-of-type {\n        vertical-align: middle;\n    }\n\n    .dataframe tbody tr th {\n        vertical-align: top;\n    }\n\n    .dataframe thead th {\n        text-align: right;\n    }\n</style>\n<table border=\"1\" class=\"dataframe\">\n  <thead>\n    <tr style=\"text-align: right;\">\n      <th></th>\n      <th>ï»¿Notes</th>\n      <th>State</th>\n      <th>age</th>\n      <th>Ethnicity</th>\n      <th>Gender</th>\n      <th>Year</th>\n      <th>Deaths</th>\n      <th>Population</th>\n      <th>Crude Rate</th>\n    </tr>\n  </thead>\n  <tbody>\n    <tr>\n      <th>0</th>\n      <td>NaN</td>\n      <td>Alabama</td>\n      <td>30-34</td>\n      <td>American Indian or Alaskan Native</td>\n      <td>Male</td>\n      <td>1999.0</td>\n      <td>Suppressed</td>\n      <td>763</td>\n      <td>Suppressed</td>\n    </tr>\n    <tr>\n      <th>1</th>\n      <td>NaN</td>\n      <td>Alabama</td>\n      <td>30-34</td>\n      <td>American Indian or Alaskan Native</td>\n      <td>Male</td>\n      <td>2000.0</td>\n      <td>Suppressed</td>\n      <td>822</td>\n      <td>Suppressed</td>\n    </tr>\n    <tr>\n      <th>2</th>\n      <td>NaN</td>\n      <td>Alabama</td>\n      <td>30-34</td>\n      <td>American Indian or Alaskan Native</td>\n      <td>Male</td>\n      <td>2001.0</td>\n      <td>Suppressed</td>\n      <td>801</td>\n      <td>Suppressed</td>\n    </tr>\n    <tr>\n      <th>3</th>\n      <td>NaN</td>\n      <td>Alabama</td>\n      <td>30-34</td>\n      <td>American Indian or Alaskan Native</td>\n      <td>Male</td>\n      <td>2002.0</td>\n      <td>Suppressed</td>\n      <td>814</td>\n      <td>Suppressed</td>\n    </tr>\n    <tr>\n      <th>4</th>\n      <td>NaN</td>\n      <td>Alabama</td>\n      <td>30-34</td>\n      <td>American Indian or Alaskan Native</td>\n      <td>Male</td>\n      <td>2003.0</td>\n      <td>Suppressed</td>\n      <td>827</td>\n      <td>Suppressed</td>\n    </tr>\n  </tbody>\n</table>\n</div>"
     },
     "metadata": {},
     "execution_count": 28
    }
   ],
   "source": [
    "american_indian_male = american_indian_male.drop(columns = ['State Code','Five-Year Age Groups','Gender Code','Year Code'])\n",
    "american_indian_male = american_indian_male.rename(columns = {'Five-Year Age Groups Code':'age'})\n",
    "american_indian_male.head()"
   ]
  },
  {
   "cell_type": "code",
   "execution_count": 29,
   "metadata": {},
   "outputs": [
    {
     "output_type": "execute_result",
     "data": {
      "text/plain": [
       "       ï»¿Notes    State  State Code Five-Year Age Groups  \\\n",
       "15295       NaN  Wyoming          56           100+ years   \n",
       "15296       NaN  Wyoming          56           100+ years   \n",
       "15297       NaN  Wyoming          56           100+ years   \n",
       "15298       NaN  Wyoming          56           100+ years   \n",
       "15299       NaN  Wyoming          56           100+ years   \n",
       "\n",
       "      Five-Year Age Groups Code    Ethnicity  Gender Gender Code  Year  \\\n",
       "15295                      100+  Asian or PI  Female           F  2014   \n",
       "15296                      100+  Asian or PI  Female           F  2015   \n",
       "15297                      100+  Asian or PI  Female           F  2016   \n",
       "15298                      100+  Asian or PI  Female           F  2017   \n",
       "15299                      100+  Asian or PI  Female           F  2018   \n",
       "\n",
       "       Year Code      Deaths      Population      Crude Rate  \n",
       "15295       2014  Suppressed  Not Applicable  Not Applicable  \n",
       "15296       2015  Suppressed  Not Applicable  Not Applicable  \n",
       "15297       2016  Suppressed  Not Applicable  Not Applicable  \n",
       "15298       2017  Suppressed  Not Applicable  Not Applicable  \n",
       "15299       2018  Suppressed  Not Applicable  Not Applicable  "
      ],
      "text/html": "<div>\n<style scoped>\n    .dataframe tbody tr th:only-of-type {\n        vertical-align: middle;\n    }\n\n    .dataframe tbody tr th {\n        vertical-align: top;\n    }\n\n    .dataframe thead th {\n        text-align: right;\n    }\n</style>\n<table border=\"1\" class=\"dataframe\">\n  <thead>\n    <tr style=\"text-align: right;\">\n      <th></th>\n      <th>ï»¿Notes</th>\n      <th>State</th>\n      <th>State Code</th>\n      <th>Five-Year Age Groups</th>\n      <th>Five-Year Age Groups Code</th>\n      <th>Ethnicity</th>\n      <th>Gender</th>\n      <th>Gender Code</th>\n      <th>Year</th>\n      <th>Year Code</th>\n      <th>Deaths</th>\n      <th>Population</th>\n      <th>Crude Rate</th>\n    </tr>\n  </thead>\n  <tbody>\n    <tr>\n      <th>15295</th>\n      <td>NaN</td>\n      <td>Wyoming</td>\n      <td>56</td>\n      <td>100+ years</td>\n      <td>100+</td>\n      <td>Asian or PI</td>\n      <td>Female</td>\n      <td>F</td>\n      <td>2014</td>\n      <td>2014</td>\n      <td>Suppressed</td>\n      <td>Not Applicable</td>\n      <td>Not Applicable</td>\n    </tr>\n    <tr>\n      <th>15296</th>\n      <td>NaN</td>\n      <td>Wyoming</td>\n      <td>56</td>\n      <td>100+ years</td>\n      <td>100+</td>\n      <td>Asian or PI</td>\n      <td>Female</td>\n      <td>F</td>\n      <td>2015</td>\n      <td>2015</td>\n      <td>Suppressed</td>\n      <td>Not Applicable</td>\n      <td>Not Applicable</td>\n    </tr>\n    <tr>\n      <th>15297</th>\n      <td>NaN</td>\n      <td>Wyoming</td>\n      <td>56</td>\n      <td>100+ years</td>\n      <td>100+</td>\n      <td>Asian or PI</td>\n      <td>Female</td>\n      <td>F</td>\n      <td>2016</td>\n      <td>2016</td>\n      <td>Suppressed</td>\n      <td>Not Applicable</td>\n      <td>Not Applicable</td>\n    </tr>\n    <tr>\n      <th>15298</th>\n      <td>NaN</td>\n      <td>Wyoming</td>\n      <td>56</td>\n      <td>100+ years</td>\n      <td>100+</td>\n      <td>Asian or PI</td>\n      <td>Female</td>\n      <td>F</td>\n      <td>2017</td>\n      <td>2017</td>\n      <td>Suppressed</td>\n      <td>Not Applicable</td>\n      <td>Not Applicable</td>\n    </tr>\n    <tr>\n      <th>15299</th>\n      <td>NaN</td>\n      <td>Wyoming</td>\n      <td>56</td>\n      <td>100+ years</td>\n      <td>100+</td>\n      <td>Asian or PI</td>\n      <td>Female</td>\n      <td>F</td>\n      <td>2018</td>\n      <td>2018</td>\n      <td>Suppressed</td>\n      <td>Not Applicable</td>\n      <td>Not Applicable</td>\n    </tr>\n  </tbody>\n</table>\n</div>"
     },
     "metadata": {},
     "execution_count": 29
    }
   ],
   "source": [
    "asian_female.tail()"
   ]
  },
  {
   "cell_type": "code",
   "execution_count": 30,
   "metadata": {},
   "outputs": [
    {
     "output_type": "execute_result",
     "data": {
      "text/plain": [
       "   ï»¿Notes    State  State Code Five-Year Age Groups  \\\n",
       "0       NaN  Alabama           1          30-34 years   \n",
       "1       NaN  Alabama           1          30-34 years   \n",
       "2       NaN  Alabama           1          30-34 years   \n",
       "3       NaN  Alabama           1          30-34 years   \n",
       "4       NaN  Alabama           1          30-34 years   \n",
       "\n",
       "  Five-Year Age Groups Code    Ethnicity  Gender Gender Code  Year  Year Code  \\\n",
       "0                     30-34  Asian or PI  Female           F  1999       1999   \n",
       "1                     30-34  Asian or PI  Female           F  2000       2000   \n",
       "2                     30-34  Asian or PI  Female           F  2001       2001   \n",
       "3                     30-34  Asian or PI  Female           F  2002       2002   \n",
       "4                     30-34  Asian or PI  Female           F  2003       2003   \n",
       "\n",
       "       Deaths Population  Crude Rate  \n",
       "0  Suppressed       1620  Suppressed  \n",
       "1  Suppressed       1725  Suppressed  \n",
       "2  Suppressed       1860  Suppressed  \n",
       "3  Suppressed       2042  Suppressed  \n",
       "4  Suppressed       2139  Suppressed  "
      ],
      "text/html": "<div>\n<style scoped>\n    .dataframe tbody tr th:only-of-type {\n        vertical-align: middle;\n    }\n\n    .dataframe tbody tr th {\n        vertical-align: top;\n    }\n\n    .dataframe thead th {\n        text-align: right;\n    }\n</style>\n<table border=\"1\" class=\"dataframe\">\n  <thead>\n    <tr style=\"text-align: right;\">\n      <th></th>\n      <th>ï»¿Notes</th>\n      <th>State</th>\n      <th>State Code</th>\n      <th>Five-Year Age Groups</th>\n      <th>Five-Year Age Groups Code</th>\n      <th>Ethnicity</th>\n      <th>Gender</th>\n      <th>Gender Code</th>\n      <th>Year</th>\n      <th>Year Code</th>\n      <th>Deaths</th>\n      <th>Population</th>\n      <th>Crude Rate</th>\n    </tr>\n  </thead>\n  <tbody>\n    <tr>\n      <th>0</th>\n      <td>NaN</td>\n      <td>Alabama</td>\n      <td>1</td>\n      <td>30-34 years</td>\n      <td>30-34</td>\n      <td>Asian or PI</td>\n      <td>Female</td>\n      <td>F</td>\n      <td>1999</td>\n      <td>1999</td>\n      <td>Suppressed</td>\n      <td>1620</td>\n      <td>Suppressed</td>\n    </tr>\n    <tr>\n      <th>1</th>\n      <td>NaN</td>\n      <td>Alabama</td>\n      <td>1</td>\n      <td>30-34 years</td>\n      <td>30-34</td>\n      <td>Asian or PI</td>\n      <td>Female</td>\n      <td>F</td>\n      <td>2000</td>\n      <td>2000</td>\n      <td>Suppressed</td>\n      <td>1725</td>\n      <td>Suppressed</td>\n    </tr>\n    <tr>\n      <th>2</th>\n      <td>NaN</td>\n      <td>Alabama</td>\n      <td>1</td>\n      <td>30-34 years</td>\n      <td>30-34</td>\n      <td>Asian or PI</td>\n      <td>Female</td>\n      <td>F</td>\n      <td>2001</td>\n      <td>2001</td>\n      <td>Suppressed</td>\n      <td>1860</td>\n      <td>Suppressed</td>\n    </tr>\n    <tr>\n      <th>3</th>\n      <td>NaN</td>\n      <td>Alabama</td>\n      <td>1</td>\n      <td>30-34 years</td>\n      <td>30-34</td>\n      <td>Asian or PI</td>\n      <td>Female</td>\n      <td>F</td>\n      <td>2002</td>\n      <td>2002</td>\n      <td>Suppressed</td>\n      <td>2042</td>\n      <td>Suppressed</td>\n    </tr>\n    <tr>\n      <th>4</th>\n      <td>NaN</td>\n      <td>Alabama</td>\n      <td>1</td>\n      <td>30-34 years</td>\n      <td>30-34</td>\n      <td>Asian or PI</td>\n      <td>Female</td>\n      <td>F</td>\n      <td>2003</td>\n      <td>2003</td>\n      <td>Suppressed</td>\n      <td>2139</td>\n      <td>Suppressed</td>\n    </tr>\n  </tbody>\n</table>\n</div>"
     },
     "metadata": {},
     "execution_count": 30
    }
   ],
   "source": [
    "#asian_female = asian_female.drop(columns = ['State Code','Five-Year Age Groups','Gender Code','Year Code'])\n",
    "#asian_female = asian_female.rename(columns = {'Five-Year Age Groups Code':'age'})\n",
    "asian_female.head()"
   ]
  },
  {
   "cell_type": "code",
   "execution_count": 31,
   "metadata": {},
   "outputs": [
    {
     "output_type": "execute_result",
     "data": {
      "text/plain": [
       "       ï»¿Notes    State  State Code Five-Year Age Groups  \\\n",
       "15295       NaN  Wyoming          56           100+ years   \n",
       "15296       NaN  Wyoming          56           100+ years   \n",
       "15297       NaN  Wyoming          56           100+ years   \n",
       "15298       NaN  Wyoming          56           100+ years   \n",
       "15299       NaN  Wyoming          56           100+ years   \n",
       "\n",
       "      Five-Year Age Groups Code    Ethnicity Gender Gender Code  Year  \\\n",
       "15295                      100+  Asian or PI   Male           M  2014   \n",
       "15296                      100+  Asian or PI   Male           M  2015   \n",
       "15297                      100+  Asian or PI   Male           M  2016   \n",
       "15298                      100+  Asian or PI   Male           M  2017   \n",
       "15299                      100+  Asian or PI   Male           M  2018   \n",
       "\n",
       "       Year Code      Deaths      Population      Crude Rate  \n",
       "15295       2014  Suppressed  Not Applicable  Not Applicable  \n",
       "15296       2015  Suppressed  Not Applicable  Not Applicable  \n",
       "15297       2016  Suppressed  Not Applicable  Not Applicable  \n",
       "15298       2017  Suppressed  Not Applicable  Not Applicable  \n",
       "15299       2018  Suppressed  Not Applicable  Not Applicable  "
      ],
      "text/html": "<div>\n<style scoped>\n    .dataframe tbody tr th:only-of-type {\n        vertical-align: middle;\n    }\n\n    .dataframe tbody tr th {\n        vertical-align: top;\n    }\n\n    .dataframe thead th {\n        text-align: right;\n    }\n</style>\n<table border=\"1\" class=\"dataframe\">\n  <thead>\n    <tr style=\"text-align: right;\">\n      <th></th>\n      <th>ï»¿Notes</th>\n      <th>State</th>\n      <th>State Code</th>\n      <th>Five-Year Age Groups</th>\n      <th>Five-Year Age Groups Code</th>\n      <th>Ethnicity</th>\n      <th>Gender</th>\n      <th>Gender Code</th>\n      <th>Year</th>\n      <th>Year Code</th>\n      <th>Deaths</th>\n      <th>Population</th>\n      <th>Crude Rate</th>\n    </tr>\n  </thead>\n  <tbody>\n    <tr>\n      <th>15295</th>\n      <td>NaN</td>\n      <td>Wyoming</td>\n      <td>56</td>\n      <td>100+ years</td>\n      <td>100+</td>\n      <td>Asian or PI</td>\n      <td>Male</td>\n      <td>M</td>\n      <td>2014</td>\n      <td>2014</td>\n      <td>Suppressed</td>\n      <td>Not Applicable</td>\n      <td>Not Applicable</td>\n    </tr>\n    <tr>\n      <th>15296</th>\n      <td>NaN</td>\n      <td>Wyoming</td>\n      <td>56</td>\n      <td>100+ years</td>\n      <td>100+</td>\n      <td>Asian or PI</td>\n      <td>Male</td>\n      <td>M</td>\n      <td>2015</td>\n      <td>2015</td>\n      <td>Suppressed</td>\n      <td>Not Applicable</td>\n      <td>Not Applicable</td>\n    </tr>\n    <tr>\n      <th>15297</th>\n      <td>NaN</td>\n      <td>Wyoming</td>\n      <td>56</td>\n      <td>100+ years</td>\n      <td>100+</td>\n      <td>Asian or PI</td>\n      <td>Male</td>\n      <td>M</td>\n      <td>2016</td>\n      <td>2016</td>\n      <td>Suppressed</td>\n      <td>Not Applicable</td>\n      <td>Not Applicable</td>\n    </tr>\n    <tr>\n      <th>15298</th>\n      <td>NaN</td>\n      <td>Wyoming</td>\n      <td>56</td>\n      <td>100+ years</td>\n      <td>100+</td>\n      <td>Asian or PI</td>\n      <td>Male</td>\n      <td>M</td>\n      <td>2017</td>\n      <td>2017</td>\n      <td>Suppressed</td>\n      <td>Not Applicable</td>\n      <td>Not Applicable</td>\n    </tr>\n    <tr>\n      <th>15299</th>\n      <td>NaN</td>\n      <td>Wyoming</td>\n      <td>56</td>\n      <td>100+ years</td>\n      <td>100+</td>\n      <td>Asian or PI</td>\n      <td>Male</td>\n      <td>M</td>\n      <td>2018</td>\n      <td>2018</td>\n      <td>Suppressed</td>\n      <td>Not Applicable</td>\n      <td>Not Applicable</td>\n    </tr>\n  </tbody>\n</table>\n</div>"
     },
     "metadata": {},
     "execution_count": 31
    }
   ],
   "source": [
    "asian_male.tail()"
   ]
  },
  {
   "cell_type": "code",
   "execution_count": 32,
   "metadata": {},
   "outputs": [
    {
     "output_type": "execute_result",
     "data": {
      "text/plain": [
       "   ï»¿Notes    State    age    Ethnicity Gender  Year      Deaths Population  \\\n",
       "0       NaN  Alabama  30-34  Asian or PI   Male  1999  Suppressed       1532   \n",
       "1       NaN  Alabama  30-34  Asian or PI   Male  2000  Suppressed       1665   \n",
       "2       NaN  Alabama  30-34  Asian or PI   Male  2001  Suppressed       1768   \n",
       "3       NaN  Alabama  30-34  Asian or PI   Male  2002  Suppressed       1947   \n",
       "4       NaN  Alabama  30-34  Asian or PI   Male  2003  Suppressed       2154   \n",
       "\n",
       "   Crude Rate  \n",
       "0  Suppressed  \n",
       "1  Suppressed  \n",
       "2  Suppressed  \n",
       "3  Suppressed  \n",
       "4  Suppressed  "
      ],
      "text/html": "<div>\n<style scoped>\n    .dataframe tbody tr th:only-of-type {\n        vertical-align: middle;\n    }\n\n    .dataframe tbody tr th {\n        vertical-align: top;\n    }\n\n    .dataframe thead th {\n        text-align: right;\n    }\n</style>\n<table border=\"1\" class=\"dataframe\">\n  <thead>\n    <tr style=\"text-align: right;\">\n      <th></th>\n      <th>ï»¿Notes</th>\n      <th>State</th>\n      <th>age</th>\n      <th>Ethnicity</th>\n      <th>Gender</th>\n      <th>Year</th>\n      <th>Deaths</th>\n      <th>Population</th>\n      <th>Crude Rate</th>\n    </tr>\n  </thead>\n  <tbody>\n    <tr>\n      <th>0</th>\n      <td>NaN</td>\n      <td>Alabama</td>\n      <td>30-34</td>\n      <td>Asian or PI</td>\n      <td>Male</td>\n      <td>1999</td>\n      <td>Suppressed</td>\n      <td>1532</td>\n      <td>Suppressed</td>\n    </tr>\n    <tr>\n      <th>1</th>\n      <td>NaN</td>\n      <td>Alabama</td>\n      <td>30-34</td>\n      <td>Asian or PI</td>\n      <td>Male</td>\n      <td>2000</td>\n      <td>Suppressed</td>\n      <td>1665</td>\n      <td>Suppressed</td>\n    </tr>\n    <tr>\n      <th>2</th>\n      <td>NaN</td>\n      <td>Alabama</td>\n      <td>30-34</td>\n      <td>Asian or PI</td>\n      <td>Male</td>\n      <td>2001</td>\n      <td>Suppressed</td>\n      <td>1768</td>\n      <td>Suppressed</td>\n    </tr>\n    <tr>\n      <th>3</th>\n      <td>NaN</td>\n      <td>Alabama</td>\n      <td>30-34</td>\n      <td>Asian or PI</td>\n      <td>Male</td>\n      <td>2002</td>\n      <td>Suppressed</td>\n      <td>1947</td>\n      <td>Suppressed</td>\n    </tr>\n    <tr>\n      <th>4</th>\n      <td>NaN</td>\n      <td>Alabama</td>\n      <td>30-34</td>\n      <td>Asian or PI</td>\n      <td>Male</td>\n      <td>2003</td>\n      <td>Suppressed</td>\n      <td>2154</td>\n      <td>Suppressed</td>\n    </tr>\n  </tbody>\n</table>\n</div>"
     },
     "metadata": {},
     "execution_count": 32
    }
   ],
   "source": [
    "asian_male = asian_male.drop(columns = ['State Code','Five-Year Age Groups','Gender Code','Year Code'])\n",
    "asian_male = asian_male.rename(columns = {'Five-Year Age Groups Code':'age'})\n",
    "asian_male.head()"
   ]
  },
  {
   "source": [
    "## Merging Ethnicities into singular dataframe"
   ],
   "cell_type": "markdown",
   "metadata": {}
  },
  {
   "cell_type": "code",
   "execution_count": 33,
   "metadata": {},
   "outputs": [
    {
     "output_type": "execute_result",
     "data": {
      "text/plain": [
       "   ï»¿Notes    State    age Gender  Ethnicity  Year      Deaths Population  \\\n",
       "0       NaN  Alabama  35-39    Male     White  1999  Suppressed     123893   \n",
       "1       NaN  Alabama  35-39    Male     White  2000  Suppressed     122289   \n",
       "2       NaN  Alabama  35-39    Male     White  2001  Suppressed     117693   \n",
       "3       NaN  Alabama  35-39    Male     White  2002  Suppressed     113632   \n",
       "4       NaN  Alabama  35-39    Male     White  2003  Suppressed     110121   \n",
       "\n",
       "   Crude Rate  \n",
       "0  Suppressed  \n",
       "1  Suppressed  \n",
       "2  Suppressed  \n",
       "3  Suppressed  \n",
       "4  Suppressed  "
      ],
      "text/html": "<div>\n<style scoped>\n    .dataframe tbody tr th:only-of-type {\n        vertical-align: middle;\n    }\n\n    .dataframe tbody tr th {\n        vertical-align: top;\n    }\n\n    .dataframe thead th {\n        text-align: right;\n    }\n</style>\n<table border=\"1\" class=\"dataframe\">\n  <thead>\n    <tr style=\"text-align: right;\">\n      <th></th>\n      <th>ï»¿Notes</th>\n      <th>State</th>\n      <th>age</th>\n      <th>Gender</th>\n      <th>Ethnicity</th>\n      <th>Year</th>\n      <th>Deaths</th>\n      <th>Population</th>\n      <th>Crude Rate</th>\n    </tr>\n  </thead>\n  <tbody>\n    <tr>\n      <th>0</th>\n      <td>NaN</td>\n      <td>Alabama</td>\n      <td>35-39</td>\n      <td>Male</td>\n      <td>White</td>\n      <td>1999</td>\n      <td>Suppressed</td>\n      <td>123893</td>\n      <td>Suppressed</td>\n    </tr>\n    <tr>\n      <th>1</th>\n      <td>NaN</td>\n      <td>Alabama</td>\n      <td>35-39</td>\n      <td>Male</td>\n      <td>White</td>\n      <td>2000</td>\n      <td>Suppressed</td>\n      <td>122289</td>\n      <td>Suppressed</td>\n    </tr>\n    <tr>\n      <th>2</th>\n      <td>NaN</td>\n      <td>Alabama</td>\n      <td>35-39</td>\n      <td>Male</td>\n      <td>White</td>\n      <td>2001</td>\n      <td>Suppressed</td>\n      <td>117693</td>\n      <td>Suppressed</td>\n    </tr>\n    <tr>\n      <th>3</th>\n      <td>NaN</td>\n      <td>Alabama</td>\n      <td>35-39</td>\n      <td>Male</td>\n      <td>White</td>\n      <td>2002</td>\n      <td>Suppressed</td>\n      <td>113632</td>\n      <td>Suppressed</td>\n    </tr>\n    <tr>\n      <th>4</th>\n      <td>NaN</td>\n      <td>Alabama</td>\n      <td>35-39</td>\n      <td>Male</td>\n      <td>White</td>\n      <td>2003</td>\n      <td>Suppressed</td>\n      <td>110121</td>\n      <td>Suppressed</td>\n    </tr>\n  </tbody>\n</table>\n</div>"
     },
     "metadata": {},
     "execution_count": 33
    }
   ],
   "source": [
    "white_male.head()"
   ]
  },
  {
   "cell_type": "code",
   "execution_count": 34,
   "metadata": {},
   "outputs": [
    {
     "output_type": "execute_result",
     "data": {
      "text/plain": [
       "    ï»¿Notes_x    State  age_x Gender  Ethnicity_x  Year_x    Deaths_x  \\\n",
       "0          NaN  Alabama  35-39    Male       White    1999  Suppressed   \n",
       "1          NaN  Alabama  35-39    Male       White    1999  Suppressed   \n",
       "2          NaN  Alabama  35-39    Male       White    1999  Suppressed   \n",
       "3          NaN  Alabama  35-39    Male       White    1999  Suppressed   \n",
       "4          NaN  Alabama  35-39    Male       White    1999  Suppressed   \n",
       "5          NaN  Alabama  35-39    Male       White    1999  Suppressed   \n",
       "6          NaN  Alabama  35-39    Male       White    1999  Suppressed   \n",
       "7          NaN  Alabama  35-39    Male       White    1999  Suppressed   \n",
       "8          NaN  Alabama  35-39    Male       White    1999  Suppressed   \n",
       "9          NaN  Alabama  35-39    Male       White    1999  Suppressed   \n",
       "10         NaN  Alabama  35-39    Male       White    1999  Suppressed   \n",
       "11         NaN  Alabama  35-39    Male       White    1999  Suppressed   \n",
       "12         NaN  Alabama  35-39    Male       White    1999  Suppressed   \n",
       "13         NaN  Alabama  35-39    Male       White    1999  Suppressed   \n",
       "14         NaN  Alabama  35-39    Male       White    1999  Suppressed   \n",
       "15         NaN  Alabama  35-39    Male       White    1999  Suppressed   \n",
       "16         NaN  Alabama  35-39    Male       White    1999  Suppressed   \n",
       "17         NaN  Alabama  35-39    Male       White    1999  Suppressed   \n",
       "18         NaN  Alabama  35-39    Male       White    1999  Suppressed   \n",
       "19         NaN  Alabama  35-39    Male       White    1999  Suppressed   \n",
       "\n",
       "   Population_x Crude Rate_x  ï»¿Notes_y  age_y  Gender Ethnicity_y  Year_y  \\\n",
       "0        123893   Suppressed         NaN  35-39  Female       White    1999   \n",
       "1        123893   Suppressed         NaN  35-39  Female       White    2000   \n",
       "2        123893   Suppressed         NaN  35-39  Female       White    2001   \n",
       "3        123893   Suppressed         NaN  35-39  Female       White    2002   \n",
       "4        123893   Suppressed         NaN  35-39  Female       White    2003   \n",
       "5        123893   Suppressed         NaN  35-39  Female       White    2004   \n",
       "6        123893   Suppressed         NaN  35-39  Female       White    2005   \n",
       "7        123893   Suppressed         NaN  35-39  Female       White    2006   \n",
       "8        123893   Suppressed         NaN  35-39  Female       White    2007   \n",
       "9        123893   Suppressed         NaN  35-39  Female       White    2008   \n",
       "10       123893   Suppressed         NaN  35-39  Female       White    2009   \n",
       "11       123893   Suppressed         NaN  35-39  Female       White    2010   \n",
       "12       123893   Suppressed         NaN  35-39  Female       White    2011   \n",
       "13       123893   Suppressed         NaN  35-39  Female       White    2012   \n",
       "14       123893   Suppressed         NaN  35-39  Female       White    2013   \n",
       "15       123893   Suppressed         NaN  35-39  Female       White    2014   \n",
       "16       123893   Suppressed         NaN  35-39  Female       White    2015   \n",
       "17       123893   Suppressed         NaN  35-39  Female       White    2016   \n",
       "18       123893   Suppressed         NaN  35-39  Female       White    2017   \n",
       "19       123893   Suppressed         NaN  35-39  Female       White    2018   \n",
       "\n",
       "    Year Code    Deaths_y Population_y Crude Rate_y  \n",
       "0        1999  Suppressed       122659   Suppressed  \n",
       "1        2000  Suppressed       121413   Suppressed  \n",
       "2        2001  Suppressed       117197   Suppressed  \n",
       "3        2002  Suppressed       113407   Suppressed  \n",
       "4        2003  Suppressed       109786   Suppressed  \n",
       "5        2004  Suppressed       106783   Suppressed  \n",
       "6        2005  Suppressed       105602   Suppressed  \n",
       "7        2006  Suppressed       106897   Suppressed  \n",
       "8        2007  Suppressed       107355   Suppressed  \n",
       "9        2008  Suppressed       106884   Suppressed  \n",
       "10       2009  Suppressed       104981   Suppressed  \n",
       "11       2010  Suppressed       102688   Suppressed  \n",
       "12       2011  Suppressed        97424   Suppressed  \n",
       "13       2012  Suppressed        95644   Suppressed  \n",
       "14       2013  Suppressed        94791   Suppressed  \n",
       "15       2014  Suppressed        94585   Suppressed  \n",
       "16       2015  Suppressed        94657   Suppressed  \n",
       "17       2016  Suppressed        95595   Suppressed  \n",
       "18       2017  Suppressed        95946   Suppressed  \n",
       "19       2018  Suppressed        96673   Suppressed  "
      ],
      "text/html": "<div>\n<style scoped>\n    .dataframe tbody tr th:only-of-type {\n        vertical-align: middle;\n    }\n\n    .dataframe tbody tr th {\n        vertical-align: top;\n    }\n\n    .dataframe thead th {\n        text-align: right;\n    }\n</style>\n<table border=\"1\" class=\"dataframe\">\n  <thead>\n    <tr style=\"text-align: right;\">\n      <th></th>\n      <th>ï»¿Notes_x</th>\n      <th>State</th>\n      <th>age_x</th>\n      <th>Gender</th>\n      <th>Ethnicity_x</th>\n      <th>Year_x</th>\n      <th>Deaths_x</th>\n      <th>Population_x</th>\n      <th>Crude Rate_x</th>\n      <th>ï»¿Notes_y</th>\n      <th>age_y</th>\n      <th>Gender</th>\n      <th>Ethnicity_y</th>\n      <th>Year_y</th>\n      <th>Year Code</th>\n      <th>Deaths_y</th>\n      <th>Population_y</th>\n      <th>Crude Rate_y</th>\n    </tr>\n  </thead>\n  <tbody>\n    <tr>\n      <th>0</th>\n      <td>NaN</td>\n      <td>Alabama</td>\n      <td>35-39</td>\n      <td>Male</td>\n      <td>White</td>\n      <td>1999</td>\n      <td>Suppressed</td>\n      <td>123893</td>\n      <td>Suppressed</td>\n      <td>NaN</td>\n      <td>35-39</td>\n      <td>Female</td>\n      <td>White</td>\n      <td>1999</td>\n      <td>1999</td>\n      <td>Suppressed</td>\n      <td>122659</td>\n      <td>Suppressed</td>\n    </tr>\n    <tr>\n      <th>1</th>\n      <td>NaN</td>\n      <td>Alabama</td>\n      <td>35-39</td>\n      <td>Male</td>\n      <td>White</td>\n      <td>1999</td>\n      <td>Suppressed</td>\n      <td>123893</td>\n      <td>Suppressed</td>\n      <td>NaN</td>\n      <td>35-39</td>\n      <td>Female</td>\n      <td>White</td>\n      <td>2000</td>\n      <td>2000</td>\n      <td>Suppressed</td>\n      <td>121413</td>\n      <td>Suppressed</td>\n    </tr>\n    <tr>\n      <th>2</th>\n      <td>NaN</td>\n      <td>Alabama</td>\n      <td>35-39</td>\n      <td>Male</td>\n      <td>White</td>\n      <td>1999</td>\n      <td>Suppressed</td>\n      <td>123893</td>\n      <td>Suppressed</td>\n      <td>NaN</td>\n      <td>35-39</td>\n      <td>Female</td>\n      <td>White</td>\n      <td>2001</td>\n      <td>2001</td>\n      <td>Suppressed</td>\n      <td>117197</td>\n      <td>Suppressed</td>\n    </tr>\n    <tr>\n      <th>3</th>\n      <td>NaN</td>\n      <td>Alabama</td>\n      <td>35-39</td>\n      <td>Male</td>\n      <td>White</td>\n      <td>1999</td>\n      <td>Suppressed</td>\n      <td>123893</td>\n      <td>Suppressed</td>\n      <td>NaN</td>\n      <td>35-39</td>\n      <td>Female</td>\n      <td>White</td>\n      <td>2002</td>\n      <td>2002</td>\n      <td>Suppressed</td>\n      <td>113407</td>\n      <td>Suppressed</td>\n    </tr>\n    <tr>\n      <th>4</th>\n      <td>NaN</td>\n      <td>Alabama</td>\n      <td>35-39</td>\n      <td>Male</td>\n      <td>White</td>\n      <td>1999</td>\n      <td>Suppressed</td>\n      <td>123893</td>\n      <td>Suppressed</td>\n      <td>NaN</td>\n      <td>35-39</td>\n      <td>Female</td>\n      <td>White</td>\n      <td>2003</td>\n      <td>2003</td>\n      <td>Suppressed</td>\n      <td>109786</td>\n      <td>Suppressed</td>\n    </tr>\n    <tr>\n      <th>5</th>\n      <td>NaN</td>\n      <td>Alabama</td>\n      <td>35-39</td>\n      <td>Male</td>\n      <td>White</td>\n      <td>1999</td>\n      <td>Suppressed</td>\n      <td>123893</td>\n      <td>Suppressed</td>\n      <td>NaN</td>\n      <td>35-39</td>\n      <td>Female</td>\n      <td>White</td>\n      <td>2004</td>\n      <td>2004</td>\n      <td>Suppressed</td>\n      <td>106783</td>\n      <td>Suppressed</td>\n    </tr>\n    <tr>\n      <th>6</th>\n      <td>NaN</td>\n      <td>Alabama</td>\n      <td>35-39</td>\n      <td>Male</td>\n      <td>White</td>\n      <td>1999</td>\n      <td>Suppressed</td>\n      <td>123893</td>\n      <td>Suppressed</td>\n      <td>NaN</td>\n      <td>35-39</td>\n      <td>Female</td>\n      <td>White</td>\n      <td>2005</td>\n      <td>2005</td>\n      <td>Suppressed</td>\n      <td>105602</td>\n      <td>Suppressed</td>\n    </tr>\n    <tr>\n      <th>7</th>\n      <td>NaN</td>\n      <td>Alabama</td>\n      <td>35-39</td>\n      <td>Male</td>\n      <td>White</td>\n      <td>1999</td>\n      <td>Suppressed</td>\n      <td>123893</td>\n      <td>Suppressed</td>\n      <td>NaN</td>\n      <td>35-39</td>\n      <td>Female</td>\n      <td>White</td>\n      <td>2006</td>\n      <td>2006</td>\n      <td>Suppressed</td>\n      <td>106897</td>\n      <td>Suppressed</td>\n    </tr>\n    <tr>\n      <th>8</th>\n      <td>NaN</td>\n      <td>Alabama</td>\n      <td>35-39</td>\n      <td>Male</td>\n      <td>White</td>\n      <td>1999</td>\n      <td>Suppressed</td>\n      <td>123893</td>\n      <td>Suppressed</td>\n      <td>NaN</td>\n      <td>35-39</td>\n      <td>Female</td>\n      <td>White</td>\n      <td>2007</td>\n      <td>2007</td>\n      <td>Suppressed</td>\n      <td>107355</td>\n      <td>Suppressed</td>\n    </tr>\n    <tr>\n      <th>9</th>\n      <td>NaN</td>\n      <td>Alabama</td>\n      <td>35-39</td>\n      <td>Male</td>\n      <td>White</td>\n      <td>1999</td>\n      <td>Suppressed</td>\n      <td>123893</td>\n      <td>Suppressed</td>\n      <td>NaN</td>\n      <td>35-39</td>\n      <td>Female</td>\n      <td>White</td>\n      <td>2008</td>\n      <td>2008</td>\n      <td>Suppressed</td>\n      <td>106884</td>\n      <td>Suppressed</td>\n    </tr>\n    <tr>\n      <th>10</th>\n      <td>NaN</td>\n      <td>Alabama</td>\n      <td>35-39</td>\n      <td>Male</td>\n      <td>White</td>\n      <td>1999</td>\n      <td>Suppressed</td>\n      <td>123893</td>\n      <td>Suppressed</td>\n      <td>NaN</td>\n      <td>35-39</td>\n      <td>Female</td>\n      <td>White</td>\n      <td>2009</td>\n      <td>2009</td>\n      <td>Suppressed</td>\n      <td>104981</td>\n      <td>Suppressed</td>\n    </tr>\n    <tr>\n      <th>11</th>\n      <td>NaN</td>\n      <td>Alabama</td>\n      <td>35-39</td>\n      <td>Male</td>\n      <td>White</td>\n      <td>1999</td>\n      <td>Suppressed</td>\n      <td>123893</td>\n      <td>Suppressed</td>\n      <td>NaN</td>\n      <td>35-39</td>\n      <td>Female</td>\n      <td>White</td>\n      <td>2010</td>\n      <td>2010</td>\n      <td>Suppressed</td>\n      <td>102688</td>\n      <td>Suppressed</td>\n    </tr>\n    <tr>\n      <th>12</th>\n      <td>NaN</td>\n      <td>Alabama</td>\n      <td>35-39</td>\n      <td>Male</td>\n      <td>White</td>\n      <td>1999</td>\n      <td>Suppressed</td>\n      <td>123893</td>\n      <td>Suppressed</td>\n      <td>NaN</td>\n      <td>35-39</td>\n      <td>Female</td>\n      <td>White</td>\n      <td>2011</td>\n      <td>2011</td>\n      <td>Suppressed</td>\n      <td>97424</td>\n      <td>Suppressed</td>\n    </tr>\n    <tr>\n      <th>13</th>\n      <td>NaN</td>\n      <td>Alabama</td>\n      <td>35-39</td>\n      <td>Male</td>\n      <td>White</td>\n      <td>1999</td>\n      <td>Suppressed</td>\n      <td>123893</td>\n      <td>Suppressed</td>\n      <td>NaN</td>\n      <td>35-39</td>\n      <td>Female</td>\n      <td>White</td>\n      <td>2012</td>\n      <td>2012</td>\n      <td>Suppressed</td>\n      <td>95644</td>\n      <td>Suppressed</td>\n    </tr>\n    <tr>\n      <th>14</th>\n      <td>NaN</td>\n      <td>Alabama</td>\n      <td>35-39</td>\n      <td>Male</td>\n      <td>White</td>\n      <td>1999</td>\n      <td>Suppressed</td>\n      <td>123893</td>\n      <td>Suppressed</td>\n      <td>NaN</td>\n      <td>35-39</td>\n      <td>Female</td>\n      <td>White</td>\n      <td>2013</td>\n      <td>2013</td>\n      <td>Suppressed</td>\n      <td>94791</td>\n      <td>Suppressed</td>\n    </tr>\n    <tr>\n      <th>15</th>\n      <td>NaN</td>\n      <td>Alabama</td>\n      <td>35-39</td>\n      <td>Male</td>\n      <td>White</td>\n      <td>1999</td>\n      <td>Suppressed</td>\n      <td>123893</td>\n      <td>Suppressed</td>\n      <td>NaN</td>\n      <td>35-39</td>\n      <td>Female</td>\n      <td>White</td>\n      <td>2014</td>\n      <td>2014</td>\n      <td>Suppressed</td>\n      <td>94585</td>\n      <td>Suppressed</td>\n    </tr>\n    <tr>\n      <th>16</th>\n      <td>NaN</td>\n      <td>Alabama</td>\n      <td>35-39</td>\n      <td>Male</td>\n      <td>White</td>\n      <td>1999</td>\n      <td>Suppressed</td>\n      <td>123893</td>\n      <td>Suppressed</td>\n      <td>NaN</td>\n      <td>35-39</td>\n      <td>Female</td>\n      <td>White</td>\n      <td>2015</td>\n      <td>2015</td>\n      <td>Suppressed</td>\n      <td>94657</td>\n      <td>Suppressed</td>\n    </tr>\n    <tr>\n      <th>17</th>\n      <td>NaN</td>\n      <td>Alabama</td>\n      <td>35-39</td>\n      <td>Male</td>\n      <td>White</td>\n      <td>1999</td>\n      <td>Suppressed</td>\n      <td>123893</td>\n      <td>Suppressed</td>\n      <td>NaN</td>\n      <td>35-39</td>\n      <td>Female</td>\n      <td>White</td>\n      <td>2016</td>\n      <td>2016</td>\n      <td>Suppressed</td>\n      <td>95595</td>\n      <td>Suppressed</td>\n    </tr>\n    <tr>\n      <th>18</th>\n      <td>NaN</td>\n      <td>Alabama</td>\n      <td>35-39</td>\n      <td>Male</td>\n      <td>White</td>\n      <td>1999</td>\n      <td>Suppressed</td>\n      <td>123893</td>\n      <td>Suppressed</td>\n      <td>NaN</td>\n      <td>35-39</td>\n      <td>Female</td>\n      <td>White</td>\n      <td>2017</td>\n      <td>2017</td>\n      <td>Suppressed</td>\n      <td>95946</td>\n      <td>Suppressed</td>\n    </tr>\n    <tr>\n      <th>19</th>\n      <td>NaN</td>\n      <td>Alabama</td>\n      <td>35-39</td>\n      <td>Male</td>\n      <td>White</td>\n      <td>1999</td>\n      <td>Suppressed</td>\n      <td>123893</td>\n      <td>Suppressed</td>\n      <td>NaN</td>\n      <td>35-39</td>\n      <td>Female</td>\n      <td>White</td>\n      <td>2018</td>\n      <td>2018</td>\n      <td>Suppressed</td>\n      <td>96673</td>\n      <td>Suppressed</td>\n    </tr>\n  </tbody>\n</table>\n</div>"
     },
     "metadata": {},
     "execution_count": 34
    }
   ],
   "source": [
    "white_ad = white_male.merge(white_female,how = 'outer',on = 'State')\n",
    "white_ad.head(20)"
   ]
  },
  {
   "cell_type": "code",
   "execution_count": 35,
   "metadata": {},
   "outputs": [
    {
     "output_type": "execute_result",
     "data": {
      "text/plain": [
       "   ï»¿Notes_x    State  age_x Ethnicity_x Gender_x  Year_x    Deaths_x  \\\n",
       "0         NaN  Alabama  30-34       Black     Male    1999  Suppressed   \n",
       "1         NaN  Alabama  30-34       Black     Male    1999  Suppressed   \n",
       "2         NaN  Alabama  30-34       Black     Male    1999  Suppressed   \n",
       "3         NaN  Alabama  30-34       Black     Male    1999  Suppressed   \n",
       "4         NaN  Alabama  30-34       Black     Male    1999  Suppressed   \n",
       "5         NaN  Alabama  30-34       Black     Male    1999  Suppressed   \n",
       "6         NaN  Alabama  30-34       Black     Male    1999  Suppressed   \n",
       "7         NaN  Alabama  30-34       Black     Male    1999  Suppressed   \n",
       "8         NaN  Alabama  30-34       Black     Male    1999  Suppressed   \n",
       "9         NaN  Alabama  30-34       Black     Male    1999  Suppressed   \n",
       "\n",
       "  Population_x Crude Rate_x  ï»¿Notes_y  age_y Ethnicity_y Gender_y  Year_y  \\\n",
       "0        34931   Suppressed         NaN  30-34       Black   Female    1999   \n",
       "1        34931   Suppressed         NaN  30-34       Black   Female    2000   \n",
       "2        34931   Suppressed         NaN  30-34       Black   Female    2001   \n",
       "3        34931   Suppressed         NaN  30-34       Black   Female    2002   \n",
       "4        34931   Suppressed         NaN  30-34       Black   Female    2003   \n",
       "5        34931   Suppressed         NaN  30-34       Black   Female    2004   \n",
       "6        34931   Suppressed         NaN  30-34       Black   Female    2005   \n",
       "7        34931   Suppressed         NaN  30-34       Black   Female    2006   \n",
       "8        34931   Suppressed         NaN  30-34       Black   Female    2007   \n",
       "9        34931   Suppressed         NaN  30-34       Black   Female    2008   \n",
       "\n",
       "     Deaths_y Population_y Crude Rate_y  \n",
       "0  Suppressed        42324   Suppressed  \n",
       "1  Suppressed        42199   Suppressed  \n",
       "2  Suppressed        42199   Suppressed  \n",
       "3  Suppressed        42531   Suppressed  \n",
       "4  Suppressed        42992   Suppressed  \n",
       "5  Suppressed        43494   Suppressed  \n",
       "6  Suppressed        43407   Suppressed  \n",
       "7  Suppressed        43109   Suppressed  \n",
       "8  Suppressed        43353   Suppressed  \n",
       "9  Suppressed        43877   Suppressed  "
      ],
      "text/html": "<div>\n<style scoped>\n    .dataframe tbody tr th:only-of-type {\n        vertical-align: middle;\n    }\n\n    .dataframe tbody tr th {\n        vertical-align: top;\n    }\n\n    .dataframe thead th {\n        text-align: right;\n    }\n</style>\n<table border=\"1\" class=\"dataframe\">\n  <thead>\n    <tr style=\"text-align: right;\">\n      <th></th>\n      <th>ï»¿Notes_x</th>\n      <th>State</th>\n      <th>age_x</th>\n      <th>Ethnicity_x</th>\n      <th>Gender_x</th>\n      <th>Year_x</th>\n      <th>Deaths_x</th>\n      <th>Population_x</th>\n      <th>Crude Rate_x</th>\n      <th>ï»¿Notes_y</th>\n      <th>age_y</th>\n      <th>Ethnicity_y</th>\n      <th>Gender_y</th>\n      <th>Year_y</th>\n      <th>Deaths_y</th>\n      <th>Population_y</th>\n      <th>Crude Rate_y</th>\n    </tr>\n  </thead>\n  <tbody>\n    <tr>\n      <th>0</th>\n      <td>NaN</td>\n      <td>Alabama</td>\n      <td>30-34</td>\n      <td>Black</td>\n      <td>Male</td>\n      <td>1999</td>\n      <td>Suppressed</td>\n      <td>34931</td>\n      <td>Suppressed</td>\n      <td>NaN</td>\n      <td>30-34</td>\n      <td>Black</td>\n      <td>Female</td>\n      <td>1999</td>\n      <td>Suppressed</td>\n      <td>42324</td>\n      <td>Suppressed</td>\n    </tr>\n    <tr>\n      <th>1</th>\n      <td>NaN</td>\n      <td>Alabama</td>\n      <td>30-34</td>\n      <td>Black</td>\n      <td>Male</td>\n      <td>1999</td>\n      <td>Suppressed</td>\n      <td>34931</td>\n      <td>Suppressed</td>\n      <td>NaN</td>\n      <td>30-34</td>\n      <td>Black</td>\n      <td>Female</td>\n      <td>2000</td>\n      <td>Suppressed</td>\n      <td>42199</td>\n      <td>Suppressed</td>\n    </tr>\n    <tr>\n      <th>2</th>\n      <td>NaN</td>\n      <td>Alabama</td>\n      <td>30-34</td>\n      <td>Black</td>\n      <td>Male</td>\n      <td>1999</td>\n      <td>Suppressed</td>\n      <td>34931</td>\n      <td>Suppressed</td>\n      <td>NaN</td>\n      <td>30-34</td>\n      <td>Black</td>\n      <td>Female</td>\n      <td>2001</td>\n      <td>Suppressed</td>\n      <td>42199</td>\n      <td>Suppressed</td>\n    </tr>\n    <tr>\n      <th>3</th>\n      <td>NaN</td>\n      <td>Alabama</td>\n      <td>30-34</td>\n      <td>Black</td>\n      <td>Male</td>\n      <td>1999</td>\n      <td>Suppressed</td>\n      <td>34931</td>\n      <td>Suppressed</td>\n      <td>NaN</td>\n      <td>30-34</td>\n      <td>Black</td>\n      <td>Female</td>\n      <td>2002</td>\n      <td>Suppressed</td>\n      <td>42531</td>\n      <td>Suppressed</td>\n    </tr>\n    <tr>\n      <th>4</th>\n      <td>NaN</td>\n      <td>Alabama</td>\n      <td>30-34</td>\n      <td>Black</td>\n      <td>Male</td>\n      <td>1999</td>\n      <td>Suppressed</td>\n      <td>34931</td>\n      <td>Suppressed</td>\n      <td>NaN</td>\n      <td>30-34</td>\n      <td>Black</td>\n      <td>Female</td>\n      <td>2003</td>\n      <td>Suppressed</td>\n      <td>42992</td>\n      <td>Suppressed</td>\n    </tr>\n    <tr>\n      <th>5</th>\n      <td>NaN</td>\n      <td>Alabama</td>\n      <td>30-34</td>\n      <td>Black</td>\n      <td>Male</td>\n      <td>1999</td>\n      <td>Suppressed</td>\n      <td>34931</td>\n      <td>Suppressed</td>\n      <td>NaN</td>\n      <td>30-34</td>\n      <td>Black</td>\n      <td>Female</td>\n      <td>2004</td>\n      <td>Suppressed</td>\n      <td>43494</td>\n      <td>Suppressed</td>\n    </tr>\n    <tr>\n      <th>6</th>\n      <td>NaN</td>\n      <td>Alabama</td>\n      <td>30-34</td>\n      <td>Black</td>\n      <td>Male</td>\n      <td>1999</td>\n      <td>Suppressed</td>\n      <td>34931</td>\n      <td>Suppressed</td>\n      <td>NaN</td>\n      <td>30-34</td>\n      <td>Black</td>\n      <td>Female</td>\n      <td>2005</td>\n      <td>Suppressed</td>\n      <td>43407</td>\n      <td>Suppressed</td>\n    </tr>\n    <tr>\n      <th>7</th>\n      <td>NaN</td>\n      <td>Alabama</td>\n      <td>30-34</td>\n      <td>Black</td>\n      <td>Male</td>\n      <td>1999</td>\n      <td>Suppressed</td>\n      <td>34931</td>\n      <td>Suppressed</td>\n      <td>NaN</td>\n      <td>30-34</td>\n      <td>Black</td>\n      <td>Female</td>\n      <td>2006</td>\n      <td>Suppressed</td>\n      <td>43109</td>\n      <td>Suppressed</td>\n    </tr>\n    <tr>\n      <th>8</th>\n      <td>NaN</td>\n      <td>Alabama</td>\n      <td>30-34</td>\n      <td>Black</td>\n      <td>Male</td>\n      <td>1999</td>\n      <td>Suppressed</td>\n      <td>34931</td>\n      <td>Suppressed</td>\n      <td>NaN</td>\n      <td>30-34</td>\n      <td>Black</td>\n      <td>Female</td>\n      <td>2007</td>\n      <td>Suppressed</td>\n      <td>43353</td>\n      <td>Suppressed</td>\n    </tr>\n    <tr>\n      <th>9</th>\n      <td>NaN</td>\n      <td>Alabama</td>\n      <td>30-34</td>\n      <td>Black</td>\n      <td>Male</td>\n      <td>1999</td>\n      <td>Suppressed</td>\n      <td>34931</td>\n      <td>Suppressed</td>\n      <td>NaN</td>\n      <td>30-34</td>\n      <td>Black</td>\n      <td>Female</td>\n      <td>2008</td>\n      <td>Suppressed</td>\n      <td>43877</td>\n      <td>Suppressed</td>\n    </tr>\n  </tbody>\n</table>\n</div>"
     },
     "metadata": {},
     "execution_count": 35
    }
   ],
   "source": [
    "black_ad = black_male.merge(black_female,how = 'outer',on = 'State')\n",
    "black_ad.head(10)"
   ]
  },
  {
   "cell_type": "code",
   "execution_count": 36,
   "metadata": {},
   "outputs": [
    {
     "output_type": "execute_result",
     "data": {
      "text/plain": [
       "  ï»¿Notes_x    State  age_x                        Ethnicity_x Gender_x  \\\n",
       "0        NaN  Alabama  30-34  American Indian or Alaskan Native     Male   \n",
       "1        NaN  Alabama  30-34  American Indian or Alaskan Native     Male   \n",
       "2        NaN  Alabama  30-34  American Indian or Alaskan Native     Male   \n",
       "3        NaN  Alabama  30-34  American Indian or Alaskan Native     Male   \n",
       "4        NaN  Alabama  30-34  American Indian or Alaskan Native     Male   \n",
       "5        NaN  Alabama  30-34  American Indian or Alaskan Native     Male   \n",
       "6        NaN  Alabama  30-34  American Indian or Alaskan Native     Male   \n",
       "7        NaN  Alabama  30-34  American Indian or Alaskan Native     Male   \n",
       "8        NaN  Alabama  30-34  American Indian or Alaskan Native     Male   \n",
       "9        NaN  Alabama  30-34  American Indian or Alaskan Native     Male   \n",
       "\n",
       "   Year_x    Deaths_x Population_x Crude Rate_x ï»¿Notes_y  age_y  \\\n",
       "0  1999.0  Suppressed          763   Suppressed        NaN  30-34   \n",
       "1  1999.0  Suppressed          763   Suppressed        NaN  30-34   \n",
       "2  1999.0  Suppressed          763   Suppressed        NaN  30-34   \n",
       "3  1999.0  Suppressed          763   Suppressed        NaN  30-34   \n",
       "4  1999.0  Suppressed          763   Suppressed        NaN  30-34   \n",
       "5  1999.0  Suppressed          763   Suppressed        NaN  30-34   \n",
       "6  1999.0  Suppressed          763   Suppressed        NaN  30-34   \n",
       "7  1999.0  Suppressed          763   Suppressed        NaN  30-34   \n",
       "8  1999.0  Suppressed          763   Suppressed        NaN  30-34   \n",
       "9  1999.0  Suppressed          763   Suppressed        NaN  30-34   \n",
       "\n",
       "                         Ethnicity_y Gender_y  Year_y    Deaths_y  \\\n",
       "0  American Indian or Alaskan Native   Female  1999.0  Suppressed   \n",
       "1  American Indian or Alaskan Native   Female  2000.0  Suppressed   \n",
       "2  American Indian or Alaskan Native   Female  2001.0  Suppressed   \n",
       "3  American Indian or Alaskan Native   Female  2002.0  Suppressed   \n",
       "4  American Indian or Alaskan Native   Female  2003.0  Suppressed   \n",
       "5  American Indian or Alaskan Native   Female  2004.0  Suppressed   \n",
       "6  American Indian or Alaskan Native   Female  2005.0  Suppressed   \n",
       "7  American Indian or Alaskan Native   Female  2006.0  Suppressed   \n",
       "8  American Indian or Alaskan Native   Female  2007.0  Suppressed   \n",
       "9  American Indian or Alaskan Native   Female  2008.0  Suppressed   \n",
       "\n",
       "  Population_y Crude Rate_y  \n",
       "0          770   Suppressed  \n",
       "1          826   Suppressed  \n",
       "2          766   Suppressed  \n",
       "3          776   Suppressed  \n",
       "4          798   Suppressed  \n",
       "5          814   Suppressed  \n",
       "6          828   Suppressed  \n",
       "7          838   Suppressed  \n",
       "8          855   Suppressed  \n",
       "9          897   Suppressed  "
      ],
      "text/html": "<div>\n<style scoped>\n    .dataframe tbody tr th:only-of-type {\n        vertical-align: middle;\n    }\n\n    .dataframe tbody tr th {\n        vertical-align: top;\n    }\n\n    .dataframe thead th {\n        text-align: right;\n    }\n</style>\n<table border=\"1\" class=\"dataframe\">\n  <thead>\n    <tr style=\"text-align: right;\">\n      <th></th>\n      <th>ï»¿Notes_x</th>\n      <th>State</th>\n      <th>age_x</th>\n      <th>Ethnicity_x</th>\n      <th>Gender_x</th>\n      <th>Year_x</th>\n      <th>Deaths_x</th>\n      <th>Population_x</th>\n      <th>Crude Rate_x</th>\n      <th>ï»¿Notes_y</th>\n      <th>age_y</th>\n      <th>Ethnicity_y</th>\n      <th>Gender_y</th>\n      <th>Year_y</th>\n      <th>Deaths_y</th>\n      <th>Population_y</th>\n      <th>Crude Rate_y</th>\n    </tr>\n  </thead>\n  <tbody>\n    <tr>\n      <th>0</th>\n      <td>NaN</td>\n      <td>Alabama</td>\n      <td>30-34</td>\n      <td>American Indian or Alaskan Native</td>\n      <td>Male</td>\n      <td>1999.0</td>\n      <td>Suppressed</td>\n      <td>763</td>\n      <td>Suppressed</td>\n      <td>NaN</td>\n      <td>30-34</td>\n      <td>American Indian or Alaskan Native</td>\n      <td>Female</td>\n      <td>1999.0</td>\n      <td>Suppressed</td>\n      <td>770</td>\n      <td>Suppressed</td>\n    </tr>\n    <tr>\n      <th>1</th>\n      <td>NaN</td>\n      <td>Alabama</td>\n      <td>30-34</td>\n      <td>American Indian or Alaskan Native</td>\n      <td>Male</td>\n      <td>1999.0</td>\n      <td>Suppressed</td>\n      <td>763</td>\n      <td>Suppressed</td>\n      <td>NaN</td>\n      <td>30-34</td>\n      <td>American Indian or Alaskan Native</td>\n      <td>Female</td>\n      <td>2000.0</td>\n      <td>Suppressed</td>\n      <td>826</td>\n      <td>Suppressed</td>\n    </tr>\n    <tr>\n      <th>2</th>\n      <td>NaN</td>\n      <td>Alabama</td>\n      <td>30-34</td>\n      <td>American Indian or Alaskan Native</td>\n      <td>Male</td>\n      <td>1999.0</td>\n      <td>Suppressed</td>\n      <td>763</td>\n      <td>Suppressed</td>\n      <td>NaN</td>\n      <td>30-34</td>\n      <td>American Indian or Alaskan Native</td>\n      <td>Female</td>\n      <td>2001.0</td>\n      <td>Suppressed</td>\n      <td>766</td>\n      <td>Suppressed</td>\n    </tr>\n    <tr>\n      <th>3</th>\n      <td>NaN</td>\n      <td>Alabama</td>\n      <td>30-34</td>\n      <td>American Indian or Alaskan Native</td>\n      <td>Male</td>\n      <td>1999.0</td>\n      <td>Suppressed</td>\n      <td>763</td>\n      <td>Suppressed</td>\n      <td>NaN</td>\n      <td>30-34</td>\n      <td>American Indian or Alaskan Native</td>\n      <td>Female</td>\n      <td>2002.0</td>\n      <td>Suppressed</td>\n      <td>776</td>\n      <td>Suppressed</td>\n    </tr>\n    <tr>\n      <th>4</th>\n      <td>NaN</td>\n      <td>Alabama</td>\n      <td>30-34</td>\n      <td>American Indian or Alaskan Native</td>\n      <td>Male</td>\n      <td>1999.0</td>\n      <td>Suppressed</td>\n      <td>763</td>\n      <td>Suppressed</td>\n      <td>NaN</td>\n      <td>30-34</td>\n      <td>American Indian or Alaskan Native</td>\n      <td>Female</td>\n      <td>2003.0</td>\n      <td>Suppressed</td>\n      <td>798</td>\n      <td>Suppressed</td>\n    </tr>\n    <tr>\n      <th>5</th>\n      <td>NaN</td>\n      <td>Alabama</td>\n      <td>30-34</td>\n      <td>American Indian or Alaskan Native</td>\n      <td>Male</td>\n      <td>1999.0</td>\n      <td>Suppressed</td>\n      <td>763</td>\n      <td>Suppressed</td>\n      <td>NaN</td>\n      <td>30-34</td>\n      <td>American Indian or Alaskan Native</td>\n      <td>Female</td>\n      <td>2004.0</td>\n      <td>Suppressed</td>\n      <td>814</td>\n      <td>Suppressed</td>\n    </tr>\n    <tr>\n      <th>6</th>\n      <td>NaN</td>\n      <td>Alabama</td>\n      <td>30-34</td>\n      <td>American Indian or Alaskan Native</td>\n      <td>Male</td>\n      <td>1999.0</td>\n      <td>Suppressed</td>\n      <td>763</td>\n      <td>Suppressed</td>\n      <td>NaN</td>\n      <td>30-34</td>\n      <td>American Indian or Alaskan Native</td>\n      <td>Female</td>\n      <td>2005.0</td>\n      <td>Suppressed</td>\n      <td>828</td>\n      <td>Suppressed</td>\n    </tr>\n    <tr>\n      <th>7</th>\n      <td>NaN</td>\n      <td>Alabama</td>\n      <td>30-34</td>\n      <td>American Indian or Alaskan Native</td>\n      <td>Male</td>\n      <td>1999.0</td>\n      <td>Suppressed</td>\n      <td>763</td>\n      <td>Suppressed</td>\n      <td>NaN</td>\n      <td>30-34</td>\n      <td>American Indian or Alaskan Native</td>\n      <td>Female</td>\n      <td>2006.0</td>\n      <td>Suppressed</td>\n      <td>838</td>\n      <td>Suppressed</td>\n    </tr>\n    <tr>\n      <th>8</th>\n      <td>NaN</td>\n      <td>Alabama</td>\n      <td>30-34</td>\n      <td>American Indian or Alaskan Native</td>\n      <td>Male</td>\n      <td>1999.0</td>\n      <td>Suppressed</td>\n      <td>763</td>\n      <td>Suppressed</td>\n      <td>NaN</td>\n      <td>30-34</td>\n      <td>American Indian or Alaskan Native</td>\n      <td>Female</td>\n      <td>2007.0</td>\n      <td>Suppressed</td>\n      <td>855</td>\n      <td>Suppressed</td>\n    </tr>\n    <tr>\n      <th>9</th>\n      <td>NaN</td>\n      <td>Alabama</td>\n      <td>30-34</td>\n      <td>American Indian or Alaskan Native</td>\n      <td>Male</td>\n      <td>1999.0</td>\n      <td>Suppressed</td>\n      <td>763</td>\n      <td>Suppressed</td>\n      <td>NaN</td>\n      <td>30-34</td>\n      <td>American Indian or Alaskan Native</td>\n      <td>Female</td>\n      <td>2008.0</td>\n      <td>Suppressed</td>\n      <td>897</td>\n      <td>Suppressed</td>\n    </tr>\n  </tbody>\n</table>\n</div>"
     },
     "metadata": {},
     "execution_count": 36
    }
   ],
   "source": [
    "american_indian_ad = american_indian_male.merge(american_indian_female,how = 'outer', on = 'State')\n",
    "american_indian_ad.head(10)"
   ]
  },
  {
   "cell_type": "code",
   "execution_count": 37,
   "metadata": {},
   "outputs": [
    {
     "output_type": "execute_result",
     "data": {
      "text/plain": [
       "  ï»¿Notes_x    State  age_x Ethnicity_x Gender_x  Year_x    Deaths_x  \\\n",
       "0        NaN  Alabama  30-34    Hispanic     Male  1999.0  Suppressed   \n",
       "1        NaN  Alabama  30-34    Hispanic     Male  1999.0  Suppressed   \n",
       "2        NaN  Alabama  30-34    Hispanic     Male  1999.0  Suppressed   \n",
       "3        NaN  Alabama  30-34    Hispanic     Male  1999.0  Suppressed   \n",
       "4        NaN  Alabama  30-34    Hispanic     Male  1999.0  Suppressed   \n",
       "5        NaN  Alabama  30-34    Hispanic     Male  1999.0  Suppressed   \n",
       "6        NaN  Alabama  30-34    Hispanic     Male  1999.0  Suppressed   \n",
       "7        NaN  Alabama  30-34    Hispanic     Male  1999.0  Suppressed   \n",
       "8        NaN  Alabama  30-34    Hispanic     Male  1999.0  Suppressed   \n",
       "9        NaN  Alabama  30-34    Hispanic     Male  1999.0  Suppressed   \n",
       "\n",
       "  Population_x Crude Rate_x  ï»¿Notes_y  age_y Ethnicity_y Gender_y  Year_y  \\\n",
       "0         3858   Suppressed         NaN  30-34    Hispanic   Female    1999   \n",
       "1         3858   Suppressed         NaN  30-34    Hispanic   Female    2000   \n",
       "2         3858   Suppressed         NaN  30-34    Hispanic   Female    2001   \n",
       "3         3858   Suppressed         NaN  30-34    Hispanic   Female    2002   \n",
       "4         3858   Suppressed         NaN  30-34    Hispanic   Female    2003   \n",
       "5         3858   Suppressed         NaN  30-34    Hispanic   Female    2004   \n",
       "6         3858   Suppressed         NaN  30-34    Hispanic   Female    2005   \n",
       "7         3858   Suppressed         NaN  30-34    Hispanic   Female    2006   \n",
       "8         3858   Suppressed         NaN  30-34    Hispanic   Female    2007   \n",
       "9         3858   Suppressed         NaN  30-34    Hispanic   Female    2008   \n",
       "\n",
       "     Deaths_y Population_y Crude Rate_y  \n",
       "0  Suppressed         2339   Suppressed  \n",
       "1  Suppressed         2742   Suppressed  \n",
       "2  Suppressed         3272   Suppressed  \n",
       "3  Suppressed         3592   Suppressed  \n",
       "4  Suppressed         4217   Suppressed  \n",
       "5  Suppressed         4725   Suppressed  \n",
       "6  Suppressed         5257   Suppressed  \n",
       "7  Suppressed         5807   Suppressed  \n",
       "8  Suppressed         6461   Suppressed  \n",
       "9  Suppressed         6922   Suppressed  "
      ],
      "text/html": "<div>\n<style scoped>\n    .dataframe tbody tr th:only-of-type {\n        vertical-align: middle;\n    }\n\n    .dataframe tbody tr th {\n        vertical-align: top;\n    }\n\n    .dataframe thead th {\n        text-align: right;\n    }\n</style>\n<table border=\"1\" class=\"dataframe\">\n  <thead>\n    <tr style=\"text-align: right;\">\n      <th></th>\n      <th>ï»¿Notes_x</th>\n      <th>State</th>\n      <th>age_x</th>\n      <th>Ethnicity_x</th>\n      <th>Gender_x</th>\n      <th>Year_x</th>\n      <th>Deaths_x</th>\n      <th>Population_x</th>\n      <th>Crude Rate_x</th>\n      <th>ï»¿Notes_y</th>\n      <th>age_y</th>\n      <th>Ethnicity_y</th>\n      <th>Gender_y</th>\n      <th>Year_y</th>\n      <th>Deaths_y</th>\n      <th>Population_y</th>\n      <th>Crude Rate_y</th>\n    </tr>\n  </thead>\n  <tbody>\n    <tr>\n      <th>0</th>\n      <td>NaN</td>\n      <td>Alabama</td>\n      <td>30-34</td>\n      <td>Hispanic</td>\n      <td>Male</td>\n      <td>1999.0</td>\n      <td>Suppressed</td>\n      <td>3858</td>\n      <td>Suppressed</td>\n      <td>NaN</td>\n      <td>30-34</td>\n      <td>Hispanic</td>\n      <td>Female</td>\n      <td>1999</td>\n      <td>Suppressed</td>\n      <td>2339</td>\n      <td>Suppressed</td>\n    </tr>\n    <tr>\n      <th>1</th>\n      <td>NaN</td>\n      <td>Alabama</td>\n      <td>30-34</td>\n      <td>Hispanic</td>\n      <td>Male</td>\n      <td>1999.0</td>\n      <td>Suppressed</td>\n      <td>3858</td>\n      <td>Suppressed</td>\n      <td>NaN</td>\n      <td>30-34</td>\n      <td>Hispanic</td>\n      <td>Female</td>\n      <td>2000</td>\n      <td>Suppressed</td>\n      <td>2742</td>\n      <td>Suppressed</td>\n    </tr>\n    <tr>\n      <th>2</th>\n      <td>NaN</td>\n      <td>Alabama</td>\n      <td>30-34</td>\n      <td>Hispanic</td>\n      <td>Male</td>\n      <td>1999.0</td>\n      <td>Suppressed</td>\n      <td>3858</td>\n      <td>Suppressed</td>\n      <td>NaN</td>\n      <td>30-34</td>\n      <td>Hispanic</td>\n      <td>Female</td>\n      <td>2001</td>\n      <td>Suppressed</td>\n      <td>3272</td>\n      <td>Suppressed</td>\n    </tr>\n    <tr>\n      <th>3</th>\n      <td>NaN</td>\n      <td>Alabama</td>\n      <td>30-34</td>\n      <td>Hispanic</td>\n      <td>Male</td>\n      <td>1999.0</td>\n      <td>Suppressed</td>\n      <td>3858</td>\n      <td>Suppressed</td>\n      <td>NaN</td>\n      <td>30-34</td>\n      <td>Hispanic</td>\n      <td>Female</td>\n      <td>2002</td>\n      <td>Suppressed</td>\n      <td>3592</td>\n      <td>Suppressed</td>\n    </tr>\n    <tr>\n      <th>4</th>\n      <td>NaN</td>\n      <td>Alabama</td>\n      <td>30-34</td>\n      <td>Hispanic</td>\n      <td>Male</td>\n      <td>1999.0</td>\n      <td>Suppressed</td>\n      <td>3858</td>\n      <td>Suppressed</td>\n      <td>NaN</td>\n      <td>30-34</td>\n      <td>Hispanic</td>\n      <td>Female</td>\n      <td>2003</td>\n      <td>Suppressed</td>\n      <td>4217</td>\n      <td>Suppressed</td>\n    </tr>\n    <tr>\n      <th>5</th>\n      <td>NaN</td>\n      <td>Alabama</td>\n      <td>30-34</td>\n      <td>Hispanic</td>\n      <td>Male</td>\n      <td>1999.0</td>\n      <td>Suppressed</td>\n      <td>3858</td>\n      <td>Suppressed</td>\n      <td>NaN</td>\n      <td>30-34</td>\n      <td>Hispanic</td>\n      <td>Female</td>\n      <td>2004</td>\n      <td>Suppressed</td>\n      <td>4725</td>\n      <td>Suppressed</td>\n    </tr>\n    <tr>\n      <th>6</th>\n      <td>NaN</td>\n      <td>Alabama</td>\n      <td>30-34</td>\n      <td>Hispanic</td>\n      <td>Male</td>\n      <td>1999.0</td>\n      <td>Suppressed</td>\n      <td>3858</td>\n      <td>Suppressed</td>\n      <td>NaN</td>\n      <td>30-34</td>\n      <td>Hispanic</td>\n      <td>Female</td>\n      <td>2005</td>\n      <td>Suppressed</td>\n      <td>5257</td>\n      <td>Suppressed</td>\n    </tr>\n    <tr>\n      <th>7</th>\n      <td>NaN</td>\n      <td>Alabama</td>\n      <td>30-34</td>\n      <td>Hispanic</td>\n      <td>Male</td>\n      <td>1999.0</td>\n      <td>Suppressed</td>\n      <td>3858</td>\n      <td>Suppressed</td>\n      <td>NaN</td>\n      <td>30-34</td>\n      <td>Hispanic</td>\n      <td>Female</td>\n      <td>2006</td>\n      <td>Suppressed</td>\n      <td>5807</td>\n      <td>Suppressed</td>\n    </tr>\n    <tr>\n      <th>8</th>\n      <td>NaN</td>\n      <td>Alabama</td>\n      <td>30-34</td>\n      <td>Hispanic</td>\n      <td>Male</td>\n      <td>1999.0</td>\n      <td>Suppressed</td>\n      <td>3858</td>\n      <td>Suppressed</td>\n      <td>NaN</td>\n      <td>30-34</td>\n      <td>Hispanic</td>\n      <td>Female</td>\n      <td>2007</td>\n      <td>Suppressed</td>\n      <td>6461</td>\n      <td>Suppressed</td>\n    </tr>\n    <tr>\n      <th>9</th>\n      <td>NaN</td>\n      <td>Alabama</td>\n      <td>30-34</td>\n      <td>Hispanic</td>\n      <td>Male</td>\n      <td>1999.0</td>\n      <td>Suppressed</td>\n      <td>3858</td>\n      <td>Suppressed</td>\n      <td>NaN</td>\n      <td>30-34</td>\n      <td>Hispanic</td>\n      <td>Female</td>\n      <td>2008</td>\n      <td>Suppressed</td>\n      <td>6922</td>\n      <td>Suppressed</td>\n    </tr>\n  </tbody>\n</table>\n</div>"
     },
     "metadata": {},
     "execution_count": 37
    }
   ],
   "source": [
    "hispanic_ad = hispanic_male.merge(hispanic_female,how = 'outer',on = 'State')\n",
    "hispanic_ad.head(10)"
   ]
  },
  {
   "cell_type": "code",
   "execution_count": 39,
   "metadata": {},
   "outputs": [
    {
     "output_type": "execute_result",
     "data": {
      "text/plain": [
       "   ï»¿Notes_x    State    age  Ethnicity_x Gender_x  Year_x    Deaths_x  \\\n",
       "0         NaN  Alabama  30-34  Asian or PI     Male    1999  Suppressed   \n",
       "1         NaN  Alabama  30-34  Asian or PI     Male    1999  Suppressed   \n",
       "2         NaN  Alabama  30-34  Asian or PI     Male    1999  Suppressed   \n",
       "3         NaN  Alabama  30-34  Asian or PI     Male    1999  Suppressed   \n",
       "4         NaN  Alabama  30-34  Asian or PI     Male    1999  Suppressed   \n",
       "5         NaN  Alabama  30-34  Asian or PI     Male    1999  Suppressed   \n",
       "6         NaN  Alabama  30-34  Asian or PI     Male    1999  Suppressed   \n",
       "7         NaN  Alabama  30-34  Asian or PI     Male    1999  Suppressed   \n",
       "8         NaN  Alabama  30-34  Asian or PI     Male    1999  Suppressed   \n",
       "9         NaN  Alabama  30-34  Asian or PI     Male    1999  Suppressed   \n",
       "\n",
       "  Population_x Crude Rate_x  ï»¿Notes_y  ...  Five-Year Age Groups  \\\n",
       "0         1532   Suppressed         NaN  ...           30-34 years   \n",
       "1         1532   Suppressed         NaN  ...           30-34 years   \n",
       "2         1532   Suppressed         NaN  ...           30-34 years   \n",
       "3         1532   Suppressed         NaN  ...           30-34 years   \n",
       "4         1532   Suppressed         NaN  ...           30-34 years   \n",
       "5         1532   Suppressed         NaN  ...           30-34 years   \n",
       "6         1532   Suppressed         NaN  ...           30-34 years   \n",
       "7         1532   Suppressed         NaN  ...           30-34 years   \n",
       "8         1532   Suppressed         NaN  ...           30-34 years   \n",
       "9         1532   Suppressed         NaN  ...           30-34 years   \n",
       "\n",
       "  Five-Year Age Groups Code  Ethnicity_y Gender_y Gender Code Year_y  \\\n",
       "0                     30-34  Asian or PI   Female           F   1999   \n",
       "1                     30-34  Asian or PI   Female           F   2000   \n",
       "2                     30-34  Asian or PI   Female           F   2001   \n",
       "3                     30-34  Asian or PI   Female           F   2002   \n",
       "4                     30-34  Asian or PI   Female           F   2003   \n",
       "5                     30-34  Asian or PI   Female           F   2004   \n",
       "6                     30-34  Asian or PI   Female           F   2005   \n",
       "7                     30-34  Asian or PI   Female           F   2006   \n",
       "8                     30-34  Asian or PI   Female           F   2007   \n",
       "9                     30-34  Asian or PI   Female           F   2008   \n",
       "\n",
       "   Year Code    Deaths_y Population_y Crude Rate_y  \n",
       "0       1999  Suppressed         1620   Suppressed  \n",
       "1       2000  Suppressed         1725   Suppressed  \n",
       "2       2001  Suppressed         1860   Suppressed  \n",
       "3       2002  Suppressed         2042   Suppressed  \n",
       "4       2003  Suppressed         2139   Suppressed  \n",
       "5       2004  Suppressed         2393   Suppressed  \n",
       "6       2005  Suppressed         2510   Suppressed  \n",
       "7       2006  Suppressed         2695   Suppressed  \n",
       "8       2007  Suppressed         2648   Suppressed  \n",
       "9       2008  Suppressed         2672   Suppressed  \n",
       "\n",
       "[10 rows x 21 columns]"
      ],
      "text/html": "<div>\n<style scoped>\n    .dataframe tbody tr th:only-of-type {\n        vertical-align: middle;\n    }\n\n    .dataframe tbody tr th {\n        vertical-align: top;\n    }\n\n    .dataframe thead th {\n        text-align: right;\n    }\n</style>\n<table border=\"1\" class=\"dataframe\">\n  <thead>\n    <tr style=\"text-align: right;\">\n      <th></th>\n      <th>ï»¿Notes_x</th>\n      <th>State</th>\n      <th>age</th>\n      <th>Ethnicity_x</th>\n      <th>Gender_x</th>\n      <th>Year_x</th>\n      <th>Deaths_x</th>\n      <th>Population_x</th>\n      <th>Crude Rate_x</th>\n      <th>ï»¿Notes_y</th>\n      <th>...</th>\n      <th>Five-Year Age Groups</th>\n      <th>Five-Year Age Groups Code</th>\n      <th>Ethnicity_y</th>\n      <th>Gender_y</th>\n      <th>Gender Code</th>\n      <th>Year_y</th>\n      <th>Year Code</th>\n      <th>Deaths_y</th>\n      <th>Population_y</th>\n      <th>Crude Rate_y</th>\n    </tr>\n  </thead>\n  <tbody>\n    <tr>\n      <th>0</th>\n      <td>NaN</td>\n      <td>Alabama</td>\n      <td>30-34</td>\n      <td>Asian or PI</td>\n      <td>Male</td>\n      <td>1999</td>\n      <td>Suppressed</td>\n      <td>1532</td>\n      <td>Suppressed</td>\n      <td>NaN</td>\n      <td>...</td>\n      <td>30-34 years</td>\n      <td>30-34</td>\n      <td>Asian or PI</td>\n      <td>Female</td>\n      <td>F</td>\n      <td>1999</td>\n      <td>1999</td>\n      <td>Suppressed</td>\n      <td>1620</td>\n      <td>Suppressed</td>\n    </tr>\n    <tr>\n      <th>1</th>\n      <td>NaN</td>\n      <td>Alabama</td>\n      <td>30-34</td>\n      <td>Asian or PI</td>\n      <td>Male</td>\n      <td>1999</td>\n      <td>Suppressed</td>\n      <td>1532</td>\n      <td>Suppressed</td>\n      <td>NaN</td>\n      <td>...</td>\n      <td>30-34 years</td>\n      <td>30-34</td>\n      <td>Asian or PI</td>\n      <td>Female</td>\n      <td>F</td>\n      <td>2000</td>\n      <td>2000</td>\n      <td>Suppressed</td>\n      <td>1725</td>\n      <td>Suppressed</td>\n    </tr>\n    <tr>\n      <th>2</th>\n      <td>NaN</td>\n      <td>Alabama</td>\n      <td>30-34</td>\n      <td>Asian or PI</td>\n      <td>Male</td>\n      <td>1999</td>\n      <td>Suppressed</td>\n      <td>1532</td>\n      <td>Suppressed</td>\n      <td>NaN</td>\n      <td>...</td>\n      <td>30-34 years</td>\n      <td>30-34</td>\n      <td>Asian or PI</td>\n      <td>Female</td>\n      <td>F</td>\n      <td>2001</td>\n      <td>2001</td>\n      <td>Suppressed</td>\n      <td>1860</td>\n      <td>Suppressed</td>\n    </tr>\n    <tr>\n      <th>3</th>\n      <td>NaN</td>\n      <td>Alabama</td>\n      <td>30-34</td>\n      <td>Asian or PI</td>\n      <td>Male</td>\n      <td>1999</td>\n      <td>Suppressed</td>\n      <td>1532</td>\n      <td>Suppressed</td>\n      <td>NaN</td>\n      <td>...</td>\n      <td>30-34 years</td>\n      <td>30-34</td>\n      <td>Asian or PI</td>\n      <td>Female</td>\n      <td>F</td>\n      <td>2002</td>\n      <td>2002</td>\n      <td>Suppressed</td>\n      <td>2042</td>\n      <td>Suppressed</td>\n    </tr>\n    <tr>\n      <th>4</th>\n      <td>NaN</td>\n      <td>Alabama</td>\n      <td>30-34</td>\n      <td>Asian or PI</td>\n      <td>Male</td>\n      <td>1999</td>\n      <td>Suppressed</td>\n      <td>1532</td>\n      <td>Suppressed</td>\n      <td>NaN</td>\n      <td>...</td>\n      <td>30-34 years</td>\n      <td>30-34</td>\n      <td>Asian or PI</td>\n      <td>Female</td>\n      <td>F</td>\n      <td>2003</td>\n      <td>2003</td>\n      <td>Suppressed</td>\n      <td>2139</td>\n      <td>Suppressed</td>\n    </tr>\n    <tr>\n      <th>5</th>\n      <td>NaN</td>\n      <td>Alabama</td>\n      <td>30-34</td>\n      <td>Asian or PI</td>\n      <td>Male</td>\n      <td>1999</td>\n      <td>Suppressed</td>\n      <td>1532</td>\n      <td>Suppressed</td>\n      <td>NaN</td>\n      <td>...</td>\n      <td>30-34 years</td>\n      <td>30-34</td>\n      <td>Asian or PI</td>\n      <td>Female</td>\n      <td>F</td>\n      <td>2004</td>\n      <td>2004</td>\n      <td>Suppressed</td>\n      <td>2393</td>\n      <td>Suppressed</td>\n    </tr>\n    <tr>\n      <th>6</th>\n      <td>NaN</td>\n      <td>Alabama</td>\n      <td>30-34</td>\n      <td>Asian or PI</td>\n      <td>Male</td>\n      <td>1999</td>\n      <td>Suppressed</td>\n      <td>1532</td>\n      <td>Suppressed</td>\n      <td>NaN</td>\n      <td>...</td>\n      <td>30-34 years</td>\n      <td>30-34</td>\n      <td>Asian or PI</td>\n      <td>Female</td>\n      <td>F</td>\n      <td>2005</td>\n      <td>2005</td>\n      <td>Suppressed</td>\n      <td>2510</td>\n      <td>Suppressed</td>\n    </tr>\n    <tr>\n      <th>7</th>\n      <td>NaN</td>\n      <td>Alabama</td>\n      <td>30-34</td>\n      <td>Asian or PI</td>\n      <td>Male</td>\n      <td>1999</td>\n      <td>Suppressed</td>\n      <td>1532</td>\n      <td>Suppressed</td>\n      <td>NaN</td>\n      <td>...</td>\n      <td>30-34 years</td>\n      <td>30-34</td>\n      <td>Asian or PI</td>\n      <td>Female</td>\n      <td>F</td>\n      <td>2006</td>\n      <td>2006</td>\n      <td>Suppressed</td>\n      <td>2695</td>\n      <td>Suppressed</td>\n    </tr>\n    <tr>\n      <th>8</th>\n      <td>NaN</td>\n      <td>Alabama</td>\n      <td>30-34</td>\n      <td>Asian or PI</td>\n      <td>Male</td>\n      <td>1999</td>\n      <td>Suppressed</td>\n      <td>1532</td>\n      <td>Suppressed</td>\n      <td>NaN</td>\n      <td>...</td>\n      <td>30-34 years</td>\n      <td>30-34</td>\n      <td>Asian or PI</td>\n      <td>Female</td>\n      <td>F</td>\n      <td>2007</td>\n      <td>2007</td>\n      <td>Suppressed</td>\n      <td>2648</td>\n      <td>Suppressed</td>\n    </tr>\n    <tr>\n      <th>9</th>\n      <td>NaN</td>\n      <td>Alabama</td>\n      <td>30-34</td>\n      <td>Asian or PI</td>\n      <td>Male</td>\n      <td>1999</td>\n      <td>Suppressed</td>\n      <td>1532</td>\n      <td>Suppressed</td>\n      <td>NaN</td>\n      <td>...</td>\n      <td>30-34 years</td>\n      <td>30-34</td>\n      <td>Asian or PI</td>\n      <td>Female</td>\n      <td>F</td>\n      <td>2008</td>\n      <td>2008</td>\n      <td>Suppressed</td>\n      <td>2672</td>\n      <td>Suppressed</td>\n    </tr>\n  </tbody>\n</table>\n<p>10 rows × 21 columns</p>\n</div>"
     },
     "metadata": {},
     "execution_count": 39
    }
   ],
   "source": [
    "asian_ad = asian_male.merge(asian_female, how = 'outer',on = 'State')\n",
    "asian_ad.head(10)"
   ]
  },
  {
   "source": [
    "## Creating CSV files of race totals"
   ],
   "cell_type": "markdown",
   "metadata": {}
  },
  {
   "cell_type": "code",
   "execution_count": 43,
   "metadata": {},
   "outputs": [],
   "source": [
    "white_ad.to_csv('../data/white_ad.csv')\n",
    "black_ad.to_csv('../data/black_ad.csv')\n",
    "american_indian_ad.to_csv('../data/american_indian_ad.csv')\n",
    "asian_ad.to_csv('../data/asian_ad.csv')\n",
    "hispanic_ad.to_csv('../data/hispanic_ad.csv')"
   ]
  },
  {
   "source": [
    "## EDA on CDC data"
   ],
   "cell_type": "markdown",
   "metadata": {}
  },
  {
   "cell_type": "code",
   "execution_count": 42,
   "metadata": {},
   "outputs": [
    {
     "output_type": "execute_result",
     "data": {
      "text/plain": [
       "   YearStart  YearEnd LocationAbbr                     LocationDesc  \\\n",
       "0       2017     2017           ID                            Idaho   \n",
       "1       2017     2017           WA                       Washington   \n",
       "2       2017     2017           HI                           Hawaii   \n",
       "3       2017     2017           VT                          Vermont   \n",
       "4       2015     2015           OH                             Ohio   \n",
       "5       2017     2017           IL                         Illinois   \n",
       "6       2017     2017           US  United States, DC & Territories   \n",
       "7       2015     2015           HI                           Hawaii   \n",
       "8       2017     2017           ND                     North Dakota   \n",
       "9       2017     2017           US  United States, DC & Territories   \n",
       "\n",
       "                                 Class                          Topic  \\\n",
       "0  Nutrition/Physical Activity/Obesity  Eating 2 or more fruits daily   \n",
       "1  Nutrition/Physical Activity/Obesity  Eating 2 or more fruits daily   \n",
       "2  Nutrition/Physical Activity/Obesity  Eating 2 or more fruits daily   \n",
       "3  Nutrition/Physical Activity/Obesity  Eating 2 or more fruits daily   \n",
       "4  Nutrition/Physical Activity/Obesity  Eating 2 or more fruits daily   \n",
       "5  Nutrition/Physical Activity/Obesity  Eating 2 or more fruits daily   \n",
       "6  Nutrition/Physical Activity/Obesity  Eating 2 or more fruits daily   \n",
       "7  Nutrition/Physical Activity/Obesity  Eating 2 or more fruits daily   \n",
       "8  Nutrition/Physical Activity/Obesity  Eating 2 or more fruits daily   \n",
       "9  Nutrition/Physical Activity/Obesity  Eating 2 or more fruits daily   \n",
       "\n",
       "                                            Question  Response  \\\n",
       "0  Percentage of older adults who are eating 2 or...       NaN   \n",
       "1  Percentage of older adults who are eating 2 or...       NaN   \n",
       "2  Percentage of older adults who are eating 2 or...       NaN   \n",
       "3  Percentage of older adults who are eating 2 or...       NaN   \n",
       "4  Percentage of older adults who are eating 2 or...       NaN   \n",
       "5  Percentage of older adults who are eating 2 or...       NaN   \n",
       "6  Percentage of older adults who are eating 2 or...       NaN   \n",
       "7  Percentage of older adults who are eating 2 or...       NaN   \n",
       "8  Percentage of older adults who are eating 2 or...       NaN   \n",
       "9  Percentage of older adults who are eating 2 or...       NaN   \n",
       "\n",
       "  Data_Value_Unit Data_Value_Type  ...  Data_Value_Alt  \\\n",
       "0               %      Percentage  ...             NaN   \n",
       "1               %      Percentage  ...            31.4   \n",
       "2               %      Percentage  ...            36.3   \n",
       "3               %      Percentage  ...             NaN   \n",
       "4               %      Percentage  ...            20.3   \n",
       "5               %      Percentage  ...            41.1   \n",
       "6               %      Percentage  ...            28.7   \n",
       "7               %      Percentage  ...             NaN   \n",
       "8               %      Percentage  ...            31.5   \n",
       "9               %      Percentage  ...            31.1   \n",
       "\n",
       "   Data_Value_Footnote_Symbol Data_Value_Footnote Low_Confidence_Limit  \\\n",
       "0                           ~   No Data Available                  NaN   \n",
       "1                         NaN                 NaN                 21.7   \n",
       "2                         NaN                 NaN                 32.0   \n",
       "3                           ~   No Data Available                  NaN   \n",
       "4                         NaN                 NaN                 10.9   \n",
       "5                         NaN                 NaN                 27.9   \n",
       "6                         NaN                 NaN                 27.9   \n",
       "7                           ~   No Data Available                  NaN   \n",
       "8                         NaN                 NaN                 20.4   \n",
       "9                         NaN                 NaN                 30.5   \n",
       "\n",
       "   High_Confidence_Limit  Sample_Size                age  \\\n",
       "0                    NaN          NaN        50-64 years   \n",
       "1                   43.1          NaN        50-64 years   \n",
       "2                   40.9          NaN  65 years or older   \n",
       "3                    NaN          NaN  65 years or older   \n",
       "4                   34.8          NaN            Overall   \n",
       "5                   55.7          NaN  65 years or older   \n",
       "6                   29.5          NaN        50-64 years   \n",
       "7                    NaN          NaN  65 years or older   \n",
       "8                   45.1          NaN        50-64 years   \n",
       "9                   31.7          NaN        50-64 years   \n",
       "\n",
       "  StratificationCategory2           Stratification2  \\\n",
       "0          Race/Ethnicity    Asian/Pacific Islander   \n",
       "1          Race/Ethnicity    Asian/Pacific Islander   \n",
       "2          Race/Ethnicity    Asian/Pacific Islander   \n",
       "3          Race/Ethnicity    Asian/Pacific Islander   \n",
       "4          Race/Ethnicity                  Hispanic   \n",
       "5          Race/Ethnicity                  Hispanic   \n",
       "6                  Gender                      Male   \n",
       "7          Race/Ethnicity  Native Am/Alaskan Native   \n",
       "8          Race/Ethnicity  Native Am/Alaskan Native   \n",
       "9          Race/Ethnicity       White, non-Hispanic   \n",
       "\n",
       "                   GeoLocation  \n",
       "0    (43.68263001, -114.36373)  \n",
       "1  (47.52227863, -120.4700108)  \n",
       "2  (21.30485044, -157.8577494)  \n",
       "3  (43.62538124, -72.51764079)  \n",
       "4  (40.06021014, -82.40426006)  \n",
       "5  (40.48501028, -88.99771018)  \n",
       "6                          NaN  \n",
       "7  (21.30485044, -157.8577494)  \n",
       "8   (47.47531978, -100.118421)  \n",
       "9                          NaN  \n",
       "\n",
       "[10 rows x 21 columns]"
      ],
      "text/html": "<div>\n<style scoped>\n    .dataframe tbody tr th:only-of-type {\n        vertical-align: middle;\n    }\n\n    .dataframe tbody tr th {\n        vertical-align: top;\n    }\n\n    .dataframe thead th {\n        text-align: right;\n    }\n</style>\n<table border=\"1\" class=\"dataframe\">\n  <thead>\n    <tr style=\"text-align: right;\">\n      <th></th>\n      <th>YearStart</th>\n      <th>YearEnd</th>\n      <th>LocationAbbr</th>\n      <th>LocationDesc</th>\n      <th>Class</th>\n      <th>Topic</th>\n      <th>Question</th>\n      <th>Response</th>\n      <th>Data_Value_Unit</th>\n      <th>Data_Value_Type</th>\n      <th>...</th>\n      <th>Data_Value_Alt</th>\n      <th>Data_Value_Footnote_Symbol</th>\n      <th>Data_Value_Footnote</th>\n      <th>Low_Confidence_Limit</th>\n      <th>High_Confidence_Limit</th>\n      <th>Sample_Size</th>\n      <th>age</th>\n      <th>StratificationCategory2</th>\n      <th>Stratification2</th>\n      <th>GeoLocation</th>\n    </tr>\n  </thead>\n  <tbody>\n    <tr>\n      <th>0</th>\n      <td>2017</td>\n      <td>2017</td>\n      <td>ID</td>\n      <td>Idaho</td>\n      <td>Nutrition/Physical Activity/Obesity</td>\n      <td>Eating 2 or more fruits daily</td>\n      <td>Percentage of older adults who are eating 2 or...</td>\n      <td>NaN</td>\n      <td>%</td>\n      <td>Percentage</td>\n      <td>...</td>\n      <td>NaN</td>\n      <td>~</td>\n      <td>No Data Available</td>\n      <td>NaN</td>\n      <td>NaN</td>\n      <td>NaN</td>\n      <td>50-64 years</td>\n      <td>Race/Ethnicity</td>\n      <td>Asian/Pacific Islander</td>\n      <td>(43.68263001, -114.36373)</td>\n    </tr>\n    <tr>\n      <th>1</th>\n      <td>2017</td>\n      <td>2017</td>\n      <td>WA</td>\n      <td>Washington</td>\n      <td>Nutrition/Physical Activity/Obesity</td>\n      <td>Eating 2 or more fruits daily</td>\n      <td>Percentage of older adults who are eating 2 or...</td>\n      <td>NaN</td>\n      <td>%</td>\n      <td>Percentage</td>\n      <td>...</td>\n      <td>31.4</td>\n      <td>NaN</td>\n      <td>NaN</td>\n      <td>21.7</td>\n      <td>43.1</td>\n      <td>NaN</td>\n      <td>50-64 years</td>\n      <td>Race/Ethnicity</td>\n      <td>Asian/Pacific Islander</td>\n      <td>(47.52227863, -120.4700108)</td>\n    </tr>\n    <tr>\n      <th>2</th>\n      <td>2017</td>\n      <td>2017</td>\n      <td>HI</td>\n      <td>Hawaii</td>\n      <td>Nutrition/Physical Activity/Obesity</td>\n      <td>Eating 2 or more fruits daily</td>\n      <td>Percentage of older adults who are eating 2 or...</td>\n      <td>NaN</td>\n      <td>%</td>\n      <td>Percentage</td>\n      <td>...</td>\n      <td>36.3</td>\n      <td>NaN</td>\n      <td>NaN</td>\n      <td>32.0</td>\n      <td>40.9</td>\n      <td>NaN</td>\n      <td>65 years or older</td>\n      <td>Race/Ethnicity</td>\n      <td>Asian/Pacific Islander</td>\n      <td>(21.30485044, -157.8577494)</td>\n    </tr>\n    <tr>\n      <th>3</th>\n      <td>2017</td>\n      <td>2017</td>\n      <td>VT</td>\n      <td>Vermont</td>\n      <td>Nutrition/Physical Activity/Obesity</td>\n      <td>Eating 2 or more fruits daily</td>\n      <td>Percentage of older adults who are eating 2 or...</td>\n      <td>NaN</td>\n      <td>%</td>\n      <td>Percentage</td>\n      <td>...</td>\n      <td>NaN</td>\n      <td>~</td>\n      <td>No Data Available</td>\n      <td>NaN</td>\n      <td>NaN</td>\n      <td>NaN</td>\n      <td>65 years or older</td>\n      <td>Race/Ethnicity</td>\n      <td>Asian/Pacific Islander</td>\n      <td>(43.62538124, -72.51764079)</td>\n    </tr>\n    <tr>\n      <th>4</th>\n      <td>2015</td>\n      <td>2015</td>\n      <td>OH</td>\n      <td>Ohio</td>\n      <td>Nutrition/Physical Activity/Obesity</td>\n      <td>Eating 2 or more fruits daily</td>\n      <td>Percentage of older adults who are eating 2 or...</td>\n      <td>NaN</td>\n      <td>%</td>\n      <td>Percentage</td>\n      <td>...</td>\n      <td>20.3</td>\n      <td>NaN</td>\n      <td>NaN</td>\n      <td>10.9</td>\n      <td>34.8</td>\n      <td>NaN</td>\n      <td>Overall</td>\n      <td>Race/Ethnicity</td>\n      <td>Hispanic</td>\n      <td>(40.06021014, -82.40426006)</td>\n    </tr>\n    <tr>\n      <th>5</th>\n      <td>2017</td>\n      <td>2017</td>\n      <td>IL</td>\n      <td>Illinois</td>\n      <td>Nutrition/Physical Activity/Obesity</td>\n      <td>Eating 2 or more fruits daily</td>\n      <td>Percentage of older adults who are eating 2 or...</td>\n      <td>NaN</td>\n      <td>%</td>\n      <td>Percentage</td>\n      <td>...</td>\n      <td>41.1</td>\n      <td>NaN</td>\n      <td>NaN</td>\n      <td>27.9</td>\n      <td>55.7</td>\n      <td>NaN</td>\n      <td>65 years or older</td>\n      <td>Race/Ethnicity</td>\n      <td>Hispanic</td>\n      <td>(40.48501028, -88.99771018)</td>\n    </tr>\n    <tr>\n      <th>6</th>\n      <td>2017</td>\n      <td>2017</td>\n      <td>US</td>\n      <td>United States, DC &amp; Territories</td>\n      <td>Nutrition/Physical Activity/Obesity</td>\n      <td>Eating 2 or more fruits daily</td>\n      <td>Percentage of older adults who are eating 2 or...</td>\n      <td>NaN</td>\n      <td>%</td>\n      <td>Percentage</td>\n      <td>...</td>\n      <td>28.7</td>\n      <td>NaN</td>\n      <td>NaN</td>\n      <td>27.9</td>\n      <td>29.5</td>\n      <td>NaN</td>\n      <td>50-64 years</td>\n      <td>Gender</td>\n      <td>Male</td>\n      <td>NaN</td>\n    </tr>\n    <tr>\n      <th>7</th>\n      <td>2015</td>\n      <td>2015</td>\n      <td>HI</td>\n      <td>Hawaii</td>\n      <td>Nutrition/Physical Activity/Obesity</td>\n      <td>Eating 2 or more fruits daily</td>\n      <td>Percentage of older adults who are eating 2 or...</td>\n      <td>NaN</td>\n      <td>%</td>\n      <td>Percentage</td>\n      <td>...</td>\n      <td>NaN</td>\n      <td>~</td>\n      <td>No Data Available</td>\n      <td>NaN</td>\n      <td>NaN</td>\n      <td>NaN</td>\n      <td>65 years or older</td>\n      <td>Race/Ethnicity</td>\n      <td>Native Am/Alaskan Native</td>\n      <td>(21.30485044, -157.8577494)</td>\n    </tr>\n    <tr>\n      <th>8</th>\n      <td>2017</td>\n      <td>2017</td>\n      <td>ND</td>\n      <td>North Dakota</td>\n      <td>Nutrition/Physical Activity/Obesity</td>\n      <td>Eating 2 or more fruits daily</td>\n      <td>Percentage of older adults who are eating 2 or...</td>\n      <td>NaN</td>\n      <td>%</td>\n      <td>Percentage</td>\n      <td>...</td>\n      <td>31.5</td>\n      <td>NaN</td>\n      <td>NaN</td>\n      <td>20.4</td>\n      <td>45.1</td>\n      <td>NaN</td>\n      <td>50-64 years</td>\n      <td>Race/Ethnicity</td>\n      <td>Native Am/Alaskan Native</td>\n      <td>(47.47531978, -100.118421)</td>\n    </tr>\n    <tr>\n      <th>9</th>\n      <td>2017</td>\n      <td>2017</td>\n      <td>US</td>\n      <td>United States, DC &amp; Territories</td>\n      <td>Nutrition/Physical Activity/Obesity</td>\n      <td>Eating 2 or more fruits daily</td>\n      <td>Percentage of older adults who are eating 2 or...</td>\n      <td>NaN</td>\n      <td>%</td>\n      <td>Percentage</td>\n      <td>...</td>\n      <td>31.1</td>\n      <td>NaN</td>\n      <td>NaN</td>\n      <td>30.5</td>\n      <td>31.7</td>\n      <td>NaN</td>\n      <td>50-64 years</td>\n      <td>Race/Ethnicity</td>\n      <td>White, non-Hispanic</td>\n      <td>NaN</td>\n    </tr>\n  </tbody>\n</table>\n<p>10 rows × 21 columns</p>\n</div>"
     },
     "metadata": {},
     "execution_count": 42
    }
   ],
   "source": [
    "aging_data.head(10)"
   ]
  },
  {
   "cell_type": "code",
   "execution_count": null,
   "metadata": {},
   "outputs": [],
   "source": []
  }
 ],
 "metadata": {
  "kernelspec": {
   "display_name": "Python 3",
   "language": "python",
   "name": "python3"
  },
  "language_info": {
   "codemirror_mode": {
    "name": "ipython",
    "version": 3
   },
   "file_extension": ".py",
   "mimetype": "text/x-python",
   "name": "python",
   "nbconvert_exporter": "python",
   "pygments_lexer": "ipython3",
   "version": "3.8.5-final"
  }
 },
 "nbformat": 4,
 "nbformat_minor": 2
}