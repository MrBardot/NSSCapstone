{
 "cells": [
  {
   "cell_type": "markdown",
   "metadata": {},
   "source": [
    "## Importing Packages"
   ]
  },
  {
   "cell_type": "code",
   "execution_count": 8,
   "metadata": {},
   "outputs": [],
   "source": [
    "import pandas as pd \n",
    "import numpy as np \n",
    "import matplotlib.pyplot as plt \n",
    "import seaborn as sns\n",
    "\n",
    "%matplotlib inline"
   ]
  },
  {
   "cell_type": "markdown",
   "metadata": {},
   "source": [
    "## Reading in datasets"
   ]
  },
  {
   "cell_type": "code",
   "execution_count": 9,
   "metadata": {},
   "outputs": [],
   "source": [
    "aging_data = pd.read_csv('../data/Alzheimer_s_Disease_And_Healthy_Aging_Data.csv')\n",
    "cog_dec = pd.read_csv('../data/Alzheimer_s_Disease_and_Healthy_Aging_Indicators__Cognitive_Decline.csv')\n",
    "caregiving =  pd.read_csv('../data/Alzheimer_s_Disease_and_Healthy_Aging_Indicators__Caregiving.csv')\n",
    "american_indian_female = pd.read_csv('../data/American Indian or Alaskan Native, Female, AD by State.csv')\n",
    "american_indian_male = pd.read_csv('../data/American Indian or Alaskan Native, Male, AD by State.csv')\n",
    "asian_male = pd.read_csv('../data/Asian or PI, Male, AD by State.csv')\n",
    "asian_female = pd.read_csv('../data/Asian or PI, Female, AD by State.csv')\n",
    "black_male = pd.read_csv('../data/Black, Male, AD by State.csv')\n",
    "black_female = pd.read_csv('../data/Black, Female, AD by State (1).csv')\n",
    "cumulative_72020 = pd.read_csv('../data/Cumulative_Provisional_Death_Counts_by_Sex__Race__and_Age_through_7_4_2020.csv')\n",
    "hispanic_male = pd.read_csv('../data/Hispanic, Male, AD by State.csv')\n",
    "hispanic_female = pd.read_csv('../data/Hispanic, Female, AD by State.csv')\n",
    "multiple_causes = pd.read_csv('../data/Multiple Cause of Death, 1999-2018.csv')\n",
    "white_male = pd.read_csv('../data/White, Male, AD by State.csv')\n",
    "white_female = pd.read_csv('../data/White, Female, AD by State.csv')"
   ]
  },
  {
   "cell_type": "code",
   "execution_count": 10,
   "metadata": {},
   "outputs": [
    {
     "output_type": "execute_result",
     "data": {
      "text/plain": [
       "(15428, 38)"
      ]
     },
     "metadata": {},
     "execution_count": 10
    }
   ],
   "source": [
    "caregiving.shape"
   ]
  },
  {
   "cell_type": "code",
   "execution_count": 11,
   "metadata": {},
   "outputs": [
    {
     "output_type": "execute_result",
     "data": {
      "text/plain": [
       "(14374, 9)"
      ]
     },
     "metadata": {},
     "execution_count": 11
    }
   ],
   "source": [
    "white_male.shape"
   ]
  },
  {
   "cell_type": "code",
   "execution_count": 12,
   "metadata": {},
   "outputs": [
    {
     "output_type": "execute_result",
     "data": {
      "text/plain": [
       "(15378, 10)"
      ]
     },
     "metadata": {},
     "execution_count": 12
    }
   ],
   "source": [
    "white_female.shape"
   ]
  },
  {
   "source": [
    "## Data and Column Cleanup"
   ],
   "cell_type": "markdown",
   "metadata": {}
  },
  {
   "cell_type": "code",
   "execution_count": 13,
   "metadata": {},
   "outputs": [
    {
     "output_type": "execute_result",
     "data": {
      "text/plain": [
       "  Notes    State Five-Year Age Groups  Gender Ethnicity    Year  Year Code  \\\n",
       "0   NaN  Alabama                30-34  Female     White  1999.0     1999.0   \n",
       "1   NaN  Alabama                30-34  Female     White  2000.0     2000.0   \n",
       "2   NaN  Alabama                30-34  Female     White  2001.0     2001.0   \n",
       "3   NaN  Alabama                30-34  Female     White  2002.0     2002.0   \n",
       "4   NaN  Alabama                30-34  Female     White  2003.0     2003.0   \n",
       "5   NaN  Alabama                30-34  Female     White  2004.0     2004.0   \n",
       "6   NaN  Alabama                30-34  Female     White  2005.0     2005.0   \n",
       "7   NaN  Alabama                30-34  Female     White  2006.0     2006.0   \n",
       "8   NaN  Alabama                30-34  Female     White  2007.0     2007.0   \n",
       "9   NaN  Alabama                30-34  Female     White  2008.0     2008.0   \n",
       "\n",
       "       Deaths Population  Crude Rate  \n",
       "0  Suppressed     106046  Suppressed  \n",
       "1  Suppressed     105657  Suppressed  \n",
       "2  Suppressed     105165  Suppressed  \n",
       "3  Suppressed     104248  Suppressed  \n",
       "4  Suppressed     102860  Suppressed  \n",
       "5  Suppressed     100674  Suppressed  \n",
       "6  Suppressed      97726  Suppressed  \n",
       "7  Suppressed      94084  Suppressed  \n",
       "8  Suppressed      92274  Suppressed  \n",
       "9  Suppressed      92014  Suppressed  "
      ],
      "text/html": "<div>\n<style scoped>\n    .dataframe tbody tr th:only-of-type {\n        vertical-align: middle;\n    }\n\n    .dataframe tbody tr th {\n        vertical-align: top;\n    }\n\n    .dataframe thead th {\n        text-align: right;\n    }\n</style>\n<table border=\"1\" class=\"dataframe\">\n  <thead>\n    <tr style=\"text-align: right;\">\n      <th></th>\n      <th>Notes</th>\n      <th>State</th>\n      <th>Five-Year Age Groups</th>\n      <th>Gender</th>\n      <th>Ethnicity</th>\n      <th>Year</th>\n      <th>Year Code</th>\n      <th>Deaths</th>\n      <th>Population</th>\n      <th>Crude Rate</th>\n    </tr>\n  </thead>\n  <tbody>\n    <tr>\n      <th>0</th>\n      <td>NaN</td>\n      <td>Alabama</td>\n      <td>30-34</td>\n      <td>Female</td>\n      <td>White</td>\n      <td>1999.0</td>\n      <td>1999.0</td>\n      <td>Suppressed</td>\n      <td>106046</td>\n      <td>Suppressed</td>\n    </tr>\n    <tr>\n      <th>1</th>\n      <td>NaN</td>\n      <td>Alabama</td>\n      <td>30-34</td>\n      <td>Female</td>\n      <td>White</td>\n      <td>2000.0</td>\n      <td>2000.0</td>\n      <td>Suppressed</td>\n      <td>105657</td>\n      <td>Suppressed</td>\n    </tr>\n    <tr>\n      <th>2</th>\n      <td>NaN</td>\n      <td>Alabama</td>\n      <td>30-34</td>\n      <td>Female</td>\n      <td>White</td>\n      <td>2001.0</td>\n      <td>2001.0</td>\n      <td>Suppressed</td>\n      <td>105165</td>\n      <td>Suppressed</td>\n    </tr>\n    <tr>\n      <th>3</th>\n      <td>NaN</td>\n      <td>Alabama</td>\n      <td>30-34</td>\n      <td>Female</td>\n      <td>White</td>\n      <td>2002.0</td>\n      <td>2002.0</td>\n      <td>Suppressed</td>\n      <td>104248</td>\n      <td>Suppressed</td>\n    </tr>\n    <tr>\n      <th>4</th>\n      <td>NaN</td>\n      <td>Alabama</td>\n      <td>30-34</td>\n      <td>Female</td>\n      <td>White</td>\n      <td>2003.0</td>\n      <td>2003.0</td>\n      <td>Suppressed</td>\n      <td>102860</td>\n      <td>Suppressed</td>\n    </tr>\n    <tr>\n      <th>5</th>\n      <td>NaN</td>\n      <td>Alabama</td>\n      <td>30-34</td>\n      <td>Female</td>\n      <td>White</td>\n      <td>2004.0</td>\n      <td>2004.0</td>\n      <td>Suppressed</td>\n      <td>100674</td>\n      <td>Suppressed</td>\n    </tr>\n    <tr>\n      <th>6</th>\n      <td>NaN</td>\n      <td>Alabama</td>\n      <td>30-34</td>\n      <td>Female</td>\n      <td>White</td>\n      <td>2005.0</td>\n      <td>2005.0</td>\n      <td>Suppressed</td>\n      <td>97726</td>\n      <td>Suppressed</td>\n    </tr>\n    <tr>\n      <th>7</th>\n      <td>NaN</td>\n      <td>Alabama</td>\n      <td>30-34</td>\n      <td>Female</td>\n      <td>White</td>\n      <td>2006.0</td>\n      <td>2006.0</td>\n      <td>Suppressed</td>\n      <td>94084</td>\n      <td>Suppressed</td>\n    </tr>\n    <tr>\n      <th>8</th>\n      <td>NaN</td>\n      <td>Alabama</td>\n      <td>30-34</td>\n      <td>Female</td>\n      <td>White</td>\n      <td>2007.0</td>\n      <td>2007.0</td>\n      <td>Suppressed</td>\n      <td>92274</td>\n      <td>Suppressed</td>\n    </tr>\n    <tr>\n      <th>9</th>\n      <td>NaN</td>\n      <td>Alabama</td>\n      <td>30-34</td>\n      <td>Female</td>\n      <td>White</td>\n      <td>2008.0</td>\n      <td>2008.0</td>\n      <td>Suppressed</td>\n      <td>92014</td>\n      <td>Suppressed</td>\n    </tr>\n  </tbody>\n</table>\n</div>"
     },
     "metadata": {},
     "execution_count": 13
    }
   ],
   "source": [
    "white_female.head(10)"
   ]
  },
  {
   "cell_type": "code",
   "execution_count": 9,
   "metadata": {},
   "outputs": [
    {
     "output_type": "execute_result",
     "data": {
      "text/plain": [
       "(15378, 8)"
      ]
     },
     "metadata": {},
     "execution_count": 9
    }
   ],
   "source": [
    "white_female.shape"
   ]
  },
  {
   "cell_type": "code",
   "execution_count": 10,
   "metadata": {},
   "outputs": [
    {
     "output_type": "execute_result",
     "data": {
      "text/plain": [
       "  Notes    State Five-Year Age Groups  Gender    Year      Deaths Population  \\\n",
       "0   NaN  Alabama          30-34 years  Female  1999.0  Suppressed     106046   \n",
       "1   NaN  Alabama          30-34 years  Female  2000.0  Suppressed     105657   \n",
       "2   NaN  Alabama          30-34 years  Female  2001.0  Suppressed     105165   \n",
       "3   NaN  Alabama          30-34 years  Female  2002.0  Suppressed     104248   \n",
       "4   NaN  Alabama          30-34 years  Female  2003.0  Suppressed     102860   \n",
       "\n",
       "   Crude Rate  \n",
       "0  Suppressed  \n",
       "1  Suppressed  \n",
       "2  Suppressed  \n",
       "3  Suppressed  \n",
       "4  Suppressed  "
      ],
      "text/html": "<div>\n<style scoped>\n    .dataframe tbody tr th:only-of-type {\n        vertical-align: middle;\n    }\n\n    .dataframe tbody tr th {\n        vertical-align: top;\n    }\n\n    .dataframe thead th {\n        text-align: right;\n    }\n</style>\n<table border=\"1\" class=\"dataframe\">\n  <thead>\n    <tr style=\"text-align: right;\">\n      <th></th>\n      <th>Notes</th>\n      <th>State</th>\n      <th>Five-Year Age Groups</th>\n      <th>Gender</th>\n      <th>Year</th>\n      <th>Deaths</th>\n      <th>Population</th>\n      <th>Crude Rate</th>\n    </tr>\n  </thead>\n  <tbody>\n    <tr>\n      <th>0</th>\n      <td>NaN</td>\n      <td>Alabama</td>\n      <td>30-34 years</td>\n      <td>Female</td>\n      <td>1999.0</td>\n      <td>Suppressed</td>\n      <td>106046</td>\n      <td>Suppressed</td>\n    </tr>\n    <tr>\n      <th>1</th>\n      <td>NaN</td>\n      <td>Alabama</td>\n      <td>30-34 years</td>\n      <td>Female</td>\n      <td>2000.0</td>\n      <td>Suppressed</td>\n      <td>105657</td>\n      <td>Suppressed</td>\n    </tr>\n    <tr>\n      <th>2</th>\n      <td>NaN</td>\n      <td>Alabama</td>\n      <td>30-34 years</td>\n      <td>Female</td>\n      <td>2001.0</td>\n      <td>Suppressed</td>\n      <td>105165</td>\n      <td>Suppressed</td>\n    </tr>\n    <tr>\n      <th>3</th>\n      <td>NaN</td>\n      <td>Alabama</td>\n      <td>30-34 years</td>\n      <td>Female</td>\n      <td>2002.0</td>\n      <td>Suppressed</td>\n      <td>104248</td>\n      <td>Suppressed</td>\n    </tr>\n    <tr>\n      <th>4</th>\n      <td>NaN</td>\n      <td>Alabama</td>\n      <td>30-34 years</td>\n      <td>Female</td>\n      <td>2003.0</td>\n      <td>Suppressed</td>\n      <td>102860</td>\n      <td>Suppressed</td>\n    </tr>\n  </tbody>\n</table>\n</div>"
     },
     "metadata": {},
     "execution_count": 10
    }
   ],
   "source": [
    "white_female.head()"
   ]
  },
  {
   "cell_type": "code",
   "execution_count": 15,
   "metadata": {},
   "outputs": [
    {
     "output_type": "execute_result",
     "data": {
      "text/plain": [
       "  Notes    State Five-Year Age Groups Code Gender  Ethnicity    Year  \\\n",
       "0   NaN  Alabama                     35-39    Male     White  1999.0   \n",
       "1   NaN  Alabama                     35-39    Male     White  2000.0   \n",
       "2   NaN  Alabama                     35-39    Male     White  2001.0   \n",
       "3   NaN  Alabama                     35-39    Male     White  2002.0   \n",
       "4   NaN  Alabama                     35-39    Male     White  2003.0   \n",
       "\n",
       "       Deaths Population  Crude Rate  \n",
       "0  Suppressed     123893  Suppressed  \n",
       "1  Suppressed     122289  Suppressed  \n",
       "2  Suppressed     117693  Suppressed  \n",
       "3  Suppressed     113632  Suppressed  \n",
       "4  Suppressed     110121  Suppressed  "
      ],
      "text/html": "<div>\n<style scoped>\n    .dataframe tbody tr th:only-of-type {\n        vertical-align: middle;\n    }\n\n    .dataframe tbody tr th {\n        vertical-align: top;\n    }\n\n    .dataframe thead th {\n        text-align: right;\n    }\n</style>\n<table border=\"1\" class=\"dataframe\">\n  <thead>\n    <tr style=\"text-align: right;\">\n      <th></th>\n      <th>Notes</th>\n      <th>State</th>\n      <th>Five-Year Age Groups Code</th>\n      <th>Gender</th>\n      <th>Ethnicity</th>\n      <th>Year</th>\n      <th>Deaths</th>\n      <th>Population</th>\n      <th>Crude Rate</th>\n    </tr>\n  </thead>\n  <tbody>\n    <tr>\n      <th>0</th>\n      <td>NaN</td>\n      <td>Alabama</td>\n      <td>35-39</td>\n      <td>Male</td>\n      <td>White</td>\n      <td>1999.0</td>\n      <td>Suppressed</td>\n      <td>123893</td>\n      <td>Suppressed</td>\n    </tr>\n    <tr>\n      <th>1</th>\n      <td>NaN</td>\n      <td>Alabama</td>\n      <td>35-39</td>\n      <td>Male</td>\n      <td>White</td>\n      <td>2000.0</td>\n      <td>Suppressed</td>\n      <td>122289</td>\n      <td>Suppressed</td>\n    </tr>\n    <tr>\n      <th>2</th>\n      <td>NaN</td>\n      <td>Alabama</td>\n      <td>35-39</td>\n      <td>Male</td>\n      <td>White</td>\n      <td>2001.0</td>\n      <td>Suppressed</td>\n      <td>117693</td>\n      <td>Suppressed</td>\n    </tr>\n    <tr>\n      <th>3</th>\n      <td>NaN</td>\n      <td>Alabama</td>\n      <td>35-39</td>\n      <td>Male</td>\n      <td>White</td>\n      <td>2002.0</td>\n      <td>Suppressed</td>\n      <td>113632</td>\n      <td>Suppressed</td>\n    </tr>\n    <tr>\n      <th>4</th>\n      <td>NaN</td>\n      <td>Alabama</td>\n      <td>35-39</td>\n      <td>Male</td>\n      <td>White</td>\n      <td>2003.0</td>\n      <td>Suppressed</td>\n      <td>110121</td>\n      <td>Suppressed</td>\n    </tr>\n  </tbody>\n</table>\n</div>"
     },
     "metadata": {},
     "execution_count": 15
    }
   ],
   "source": [
    "white_male.head()"
   ]
  },
  {
   "cell_type": "code",
   "execution_count": null,
   "metadata": {},
   "outputs": [],
   "source": []
  }
 ],
 "metadata": {
  "kernelspec": {
   "display_name": "Python 3",
   "language": "python",
   "name": "python3"
  },
  "language_info": {
   "codemirror_mode": {
    "name": "ipython",
    "version": 3
   },
   "file_extension": ".py",
   "mimetype": "text/x-python",
   "name": "python",
   "nbconvert_exporter": "python",
   "pygments_lexer": "ipython3",
   "version": "3.8.5-final"
  }
 },
 "nbformat": 4,
 "nbformat_minor": 2
}