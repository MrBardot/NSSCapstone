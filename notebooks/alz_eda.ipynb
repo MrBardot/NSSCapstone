{
 "cells": [
  {
   "cell_type": "markdown",
   "metadata": {},
   "source": [
    "## Importing Packages"
   ]
  },
  {
   "cell_type": "code",
   "execution_count": 1,
   "metadata": {},
   "outputs": [],
   "source": [
    "import pandas as pd \n",
    "import numpy as np \n",
    "import matplotlib.pyplot as plt \n",
    "import seaborn as sns\n",
    "\n",
    "%matplotlib inline"
   ]
  },
  {
   "cell_type": "markdown",
   "metadata": {},
   "source": [
    "## Reading in datasets"
   ]
  },
  {
   "cell_type": "code",
   "execution_count": 12,
   "metadata": {},
   "outputs": [],
   "source": [
    "aging_data = pd.read_csv('../data/Alzheimer_s_Disease_And_Healthy_Aging_Data.csv')\n",
    "cog_dec = pd.read_csv('../data/Alzheimer_s_Disease_and_Healthy_Aging_Indicators__Cognitive_Decline.csv')\n",
    "caregiving =  pd.read_csv('../data/Alzheimer_s_Disease_and_Healthy_Aging_Indicators__Caregiving.csv')\n",
    "american_indian_female = pd.read_csv('../data/American Indian or Alaskan Native, Female, AD by State.csv')\n",
    "american_indian_male = pd.read_csv('../data/American Indian or Alaskan Native, Male, AD by State.csv')\n",
    "asian_male = pd.read_csv('../data/Asian or PI, Male, AD by State.csv')\n",
    "asian_female = pd.read_csv('../data/Asian or PI, Female, AD by State.csv')\n",
    "black_male = pd.read_csv('../data/Black, Male, AD by State.csv')\n",
    "black_female = pd.read_csv('../data/Black, Female, AD by State (1).csv')\n",
    "cumulative_72020 = pd.read_csv('../data/Cumulative_Provisional_Death_Counts_by_Sex__Race__and_Age_through_7_4_2020.csv')\n",
    "hispanic_male = pd.read_csv('../data/Hispanic, Male, AD by State.csv')\n",
    "hispanic_female = pd.read_csv('../data/Hispanic, Female, AD by State.csv')\n",
    "multiple_causes = pd.read_csv('../data/Multiple Cause of Death, 1999-2018.csv')\n",
    "white_male = pd.read_csv('../data/White, Male, AD by State.csv')\n",
    "white_female = pd.read_csv('../data/White, Female, AD by State.csv')"
   ]
  },
  {
   "cell_type": "markdown",
   "metadata": {},
   "source": [
    "## Checking properties of each dataset"
   ]
  },
  {
   "cell_type": "code",
   "execution_count": 5,
   "metadata": {
    "collapsed": true
   },
   "outputs": [
    {
     "name": "stdout",
     "output_type": "stream",
     "text": [
      "<class 'pandas.core.frame.DataFrame'>\n",
      "RangeIndex: 144173 entries, 0 to 144172\n",
      "Data columns (total 38 columns):\n",
      " #   Column                      Non-Null Count   Dtype  \n",
      "---  ------                      --------------   -----  \n",
      " 0   YearStart                   144173 non-null  int64  \n",
      " 1   YearEnd                     144173 non-null  int64  \n",
      " 2   LocationAbbr                144173 non-null  object \n",
      " 3   LocationDesc                144173 non-null  object \n",
      " 4   Datasource                  144173 non-null  object \n",
      " 5   Class                       144173 non-null  object \n",
      " 6   Topic                       144173 non-null  object \n",
      " 7   Question                    144173 non-null  object \n",
      " 8   Response                    0 non-null       float64\n",
      " 9   Data_Value_Unit             144173 non-null  object \n",
      " 10  DataValueTypeID             144173 non-null  object \n",
      " 11  Data_Value_Type             144173 non-null  object \n",
      " 12  Data_Value                  97421 non-null   float64\n",
      " 13  Data_Value_Alt              97421 non-null   float64\n",
      " 14  Data_Value_Footnote_Symbol  57575 non-null   object \n",
      " 15  Data_Value_Footnote         57575 non-null   object \n",
      " 16  Low_Confidence_Limit        97266 non-null   float64\n",
      " 17  High_Confidence_Limit       97266 non-null   float64\n",
      " 18  Sample_Size                 0 non-null       float64\n",
      " 19  StratificationCategory1     144173 non-null  object \n",
      " 20  Stratification1             144173 non-null  object \n",
      " 21  StratificationCategory2     144173 non-null  object \n",
      " 22  Stratification2             144173 non-null  object \n",
      " 23  StratificationCategory3     0 non-null       float64\n",
      " 24  Stratification3             0 non-null       float64\n",
      " 25  GeoLocation                 128714 non-null  object \n",
      " 26  ClassID                     144173 non-null  object \n",
      " 27  TopicID                     144173 non-null  object \n",
      " 28  QuestionID                  144173 non-null  object \n",
      " 29  ResponseID                  0 non-null       float64\n",
      " 30  LocationID                  144173 non-null  int64  \n",
      " 31  StratificationCategoryID1   144173 non-null  object \n",
      " 32  StratificationID1           144173 non-null  object \n",
      " 33  StratificationCategoryID2   144173 non-null  object \n",
      " 34  StratificationID2           144173 non-null  object \n",
      " 35  StratificationCategoryID3   0 non-null       float64\n",
      " 36  StratificationID3           0 non-null       float64\n",
      " 37  Report                      0 non-null       float64\n",
      "dtypes: float64(12), int64(3), object(23)\n",
      "memory usage: 41.8+ MB\n"
     ]
    }
   ],
   "source": [
    "aging_data.info()"
   ]
  },
  {
   "cell_type": "code",
   "execution_count": 6,
   "metadata": {
    "collapsed": true
   },
   "outputs": [
    {
     "name": "stdout",
     "output_type": "stream",
     "text": [
      "<class 'pandas.core.frame.DataFrame'>\n",
      "RangeIndex: 13386 entries, 0 to 13385\n",
      "Data columns (total 38 columns):\n",
      " #   Column                      Non-Null Count  Dtype  \n",
      "---  ------                      --------------  -----  \n",
      " 0   YearStart                   13386 non-null  int64  \n",
      " 1   YearEnd                     13386 non-null  int64  \n",
      " 2   LocationAbbr                13386 non-null  object \n",
      " 3   LocationDesc                13386 non-null  object \n",
      " 4   Datasource                  13386 non-null  object \n",
      " 5   Class                       13386 non-null  object \n",
      " 6   Topic                       13386 non-null  object \n",
      " 7   Question                    13386 non-null  object \n",
      " 8   Response                    0 non-null      float64\n",
      " 9   Data_Value_Unit             13386 non-null  object \n",
      " 10  DataValueTypeID             13386 non-null  object \n",
      " 11  Data_Value_Type             13386 non-null  object \n",
      " 12  Data_Value                  8478 non-null   float64\n",
      " 13  Data_Value_Alt              8478 non-null   float64\n",
      " 14  Data_Value_Footnote_Symbol  7044 non-null   object \n",
      " 15  Data_Value_Footnote         7044 non-null   object \n",
      " 16  Low_Confidence_Limit        8400 non-null   float64\n",
      " 17  High_Confidence_Limit       8400 non-null   float64\n",
      " 18  Sample_Size                 0 non-null      float64\n",
      " 19  StratificationCategory1     13386 non-null  object \n",
      " 20  Stratification1             13386 non-null  object \n",
      " 21  StratificationCategory2     13386 non-null  object \n",
      " 22  Stratification2             13386 non-null  object \n",
      " 23  StratificationCategory3     0 non-null      float64\n",
      " 24  Stratification3             0 non-null      float64\n",
      " 25  GeoLocation                 11094 non-null  object \n",
      " 26  ClassID                     13386 non-null  object \n",
      " 27  TopicID                     13386 non-null  object \n",
      " 28  QuestionID                  13386 non-null  object \n",
      " 29  ResponseID                  0 non-null      float64\n",
      " 30  LocationID                  13386 non-null  int64  \n",
      " 31  StratificationCategoryID1   13386 non-null  object \n",
      " 32  StratificationID1           13386 non-null  object \n",
      " 33  StratificationCategoryID2   13386 non-null  object \n",
      " 34  StratificationID2           13386 non-null  object \n",
      " 35  StratificationCategoryID3   0 non-null      float64\n",
      " 36  StratificationID3           0 non-null      float64\n",
      " 37  Report                      0 non-null      float64\n",
      "dtypes: float64(12), int64(3), object(23)\n",
      "memory usage: 3.9+ MB\n"
     ]
    }
   ],
   "source": [
    "cog_dec.info()"
   ]
  },
  {
   "cell_type": "code",
   "execution_count": 7,
   "metadata": {
    "collapsed": true
   },
   "outputs": [
    {
     "name": "stdout",
     "output_type": "stream",
     "text": [
      "<class 'pandas.core.frame.DataFrame'>\n",
      "RangeIndex: 15428 entries, 0 to 15427\n",
      "Data columns (total 38 columns):\n",
      " #   Column                      Non-Null Count  Dtype  \n",
      "---  ------                      --------------  -----  \n",
      " 0   YearStart                   15428 non-null  int64  \n",
      " 1   YearEnd                     15428 non-null  int64  \n",
      " 2   LocationAbbr                15428 non-null  object \n",
      " 3   LocationDesc                15428 non-null  object \n",
      " 4   Datasource                  15428 non-null  object \n",
      " 5   Class                       15428 non-null  object \n",
      " 6   Topic                       15428 non-null  object \n",
      " 7   Question                    15428 non-null  object \n",
      " 8   Response                    0 non-null      float64\n",
      " 9   Data_Value_Unit             15428 non-null  object \n",
      " 10  DataValueTypeID             15428 non-null  object \n",
      " 11  Data_Value_Type             15428 non-null  object \n",
      " 12  Data_Value                  10046 non-null  float64\n",
      " 13  Data_Value_Alt              10046 non-null  float64\n",
      " 14  Data_Value_Footnote_Symbol  8364 non-null   object \n",
      " 15  Data_Value_Footnote         8364 non-null   object \n",
      " 16  Low_Confidence_Limit        9969 non-null   float64\n",
      " 17  High_Confidence_Limit       9969 non-null   float64\n",
      " 18  Sample_Size                 0 non-null      float64\n",
      " 19  StratificationCategory1     15428 non-null  object \n",
      " 20  Stratification1             15428 non-null  object \n",
      " 21  StratificationCategory2     15428 non-null  object \n",
      " 22  Stratification2             15428 non-null  object \n",
      " 23  StratificationCategory3     0 non-null      float64\n",
      " 24  Stratification3             0 non-null      float64\n",
      " 25  GeoLocation                 12437 non-null  object \n",
      " 26  ClassID                     15428 non-null  object \n",
      " 27  TopicID                     15428 non-null  object \n",
      " 28  QuestionID                  15428 non-null  object \n",
      " 29  ResponseID                  0 non-null      float64\n",
      " 30  LocationID                  15428 non-null  int64  \n",
      " 31  StratificationCategoryID1   15428 non-null  object \n",
      " 32  StratificationID1           15428 non-null  object \n",
      " 33  StratificationCategoryID2   15428 non-null  object \n",
      " 34  StratificationID2           15428 non-null  object \n",
      " 35  StratificationCategoryID3   0 non-null      float64\n",
      " 36  StratificationID3           0 non-null      float64\n",
      " 37  Report                      0 non-null      float64\n",
      "dtypes: float64(12), int64(3), object(23)\n",
      "memory usage: 4.5+ MB\n"
     ]
    }
   ],
   "source": [
    "caregiving.info()"
   ]
  },
  {
   "cell_type": "code",
   "execution_count": 8,
   "metadata": {
    "collapsed": true
   },
   "outputs": [
    {
     "name": "stdout",
     "output_type": "stream",
     "text": [
      "<class 'pandas.core.frame.DataFrame'>\n",
      "RangeIndex: 16956 entries, 0 to 16955\n",
      "Data columns (total 13 columns):\n",
      " #   Column                     Non-Null Count  Dtype  \n",
      "---  ------                     --------------  -----  \n",
      " 0   Notes                      1656 non-null   object \n",
      " 1   State                      16881 non-null  object \n",
      " 2   State Code                 16881 non-null  float64\n",
      " 3   Five-Year Age Groups       16830 non-null  object \n",
      " 4   Five-Year Age Groups Code  16830 non-null  object \n",
      " 5   Ethnicity                  16956 non-null  object \n",
      " 6   Gender                     16065 non-null  object \n",
      " 7   Gender Code                16065 non-null  object \n",
      " 8   Year                       15300 non-null  float64\n",
      " 9   Year Code                  15300 non-null  float64\n",
      " 10  Deaths                     16882 non-null  object \n",
      " 11  Population                 16882 non-null  object \n",
      " 12  Crude Rate                 16882 non-null  object \n",
      "dtypes: float64(3), object(10)\n",
      "memory usage: 1.7+ MB\n"
     ]
    }
   ],
   "source": [
    "american_indian_male.info()"
   ]
  },
  {
   "cell_type": "code",
   "execution_count": 9,
   "metadata": {
    "collapsed": true
   },
   "outputs": [
    {
     "name": "stdout",
     "output_type": "stream",
     "text": [
      "<class 'pandas.core.frame.DataFrame'>\n",
      "RangeIndex: 16956 entries, 0 to 16955\n",
      "Data columns (total 13 columns):\n",
      " #   Column                     Non-Null Count  Dtype  \n",
      "---  ------                     --------------  -----  \n",
      " 0   Notes                      1656 non-null   object \n",
      " 1   State                      16881 non-null  object \n",
      " 2   State Code                 16881 non-null  float64\n",
      " 3   Five-Year Age Groups       16830 non-null  object \n",
      " 4   Five-Year Age Groups Code  16830 non-null  object \n",
      " 5   Ethnicity                  16956 non-null  object \n",
      " 6   Gender                     16065 non-null  object \n",
      " 7   Gender Code                16065 non-null  object \n",
      " 8   Year                       15300 non-null  float64\n",
      " 9   Year Code                  15300 non-null  float64\n",
      " 10  Deaths                     16882 non-null  object \n",
      " 11  Population                 16882 non-null  object \n",
      " 12  Crude Rate                 16882 non-null  object \n",
      "dtypes: float64(3), object(10)\n",
      "memory usage: 1.7+ MB\n"
     ]
    }
   ],
   "source": [
    "american_indian_female.info()"
   ]
  },
  {
   "cell_type": "code",
   "execution_count": 10,
   "metadata": {
    "collapsed": true
   },
   "outputs": [
    {
     "name": "stdout",
     "output_type": "stream",
     "text": [
      "<class 'pandas.core.frame.DataFrame'>\n",
      "RangeIndex: 15378 entries, 0 to 15377\n",
      "Data columns (total 13 columns):\n",
      " #   Column                     Non-Null Count  Dtype  \n",
      "---  ------                     --------------  -----  \n",
      " 0   Notes                      78 non-null     object \n",
      " 1   State                      15300 non-null  object \n",
      " 2   State Code                 15300 non-null  float64\n",
      " 3   Five-Year Age Groups       15300 non-null  object \n",
      " 4   Five-Year Age Groups Code  15300 non-null  object \n",
      " 5   Ethnicity                  15378 non-null  object \n",
      " 6   Gender                     15300 non-null  object \n",
      " 7   Gender Code                15300 non-null  object \n",
      " 8   Year                       15300 non-null  float64\n",
      " 9   Year Code                  15300 non-null  float64\n",
      " 10  Deaths                     15300 non-null  object \n",
      " 11  Population                 15300 non-null  object \n",
      " 12  Crude Rate                 15300 non-null  object \n",
      "dtypes: float64(3), object(10)\n",
      "memory usage: 1.5+ MB\n"
     ]
    }
   ],
   "source": [
    "asian_male.info()"
   ]
  },
  {
   "cell_type": "code",
   "execution_count": 13,
   "metadata": {
    "scrolled": true
   },
   "outputs": [
    {
     "name": "stdout",
     "output_type": "stream",
     "text": [
      "<class 'pandas.core.frame.DataFrame'>\n",
      "RangeIndex: 15378 entries, 0 to 15377\n",
      "Data columns (total 13 columns):\n",
      " #   Column                     Non-Null Count  Dtype  \n",
      "---  ------                     --------------  -----  \n",
      " 0   Notes                      78 non-null     object \n",
      " 1   State                      15300 non-null  object \n",
      " 2   State Code                 15300 non-null  float64\n",
      " 3   Five-Year Age Groups       15300 non-null  object \n",
      " 4   Five-Year Age Groups Code  15300 non-null  object \n",
      " 5   Ethnicity                  15378 non-null  object \n",
      " 6   Gender                     15300 non-null  object \n",
      " 7   Gender Code                15300 non-null  object \n",
      " 8   Year                       15300 non-null  float64\n",
      " 9   Year Code                  15300 non-null  float64\n",
      " 10  Deaths                     15300 non-null  object \n",
      " 11  Population                 15300 non-null  object \n",
      " 12  Crude Rate                 15300 non-null  object \n",
      "dtypes: float64(3), object(10)\n",
      "memory usage: 1.5+ MB\n"
     ]
    }
   ],
   "source": [
    "asian_female.info()"
   ]
  },
  {
   "cell_type": "code",
   "execution_count": null,
   "metadata": {},
   "outputs": [],
   "source": []
  }
 ],
 "metadata": {
  "kernelspec": {
   "display_name": "Python 3",
   "language": "python",
   "name": "python3"
  },
  "language_info": {
   "codemirror_mode": {
    "name": "ipython",
    "version": 3
   },
   "file_extension": ".py",
   "mimetype": "text/x-python",
   "name": "python",
   "nbconvert_exporter": "python",
   "pygments_lexer": "ipython3",
   "version": "3.8.3"
  }
 },
 "nbformat": 4,
 "nbformat_minor": 2
}
