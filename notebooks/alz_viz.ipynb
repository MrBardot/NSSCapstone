{
 "metadata": {
  "language_info": {
   "codemirror_mode": {
    "name": "ipython",
    "version": 3
   },
   "file_extension": ".py",
   "mimetype": "text/x-python",
   "name": "python",
   "nbconvert_exporter": "python",
   "pygments_lexer": "ipython3",
   "version": "3.8.3-final"
  },
  "orig_nbformat": 2,
  "kernelspec": {
   "name": "python3",
   "display_name": "Python 3",
   "language": "python"
  }
 },
 "nbformat": 4,
 "nbformat_minor": 2,
 "cells": [
  {
   "cell_type": "code",
   "execution_count": 1,
   "metadata": {},
   "outputs": [],
   "source": [
    "import pandas as pd \n",
    "import numpy as np \n",
    "import matplotlib.pyplot as plt \n",
    "import seaborn as sns \n",
    "\n",
    "%matplotlib inline"
   ]
  },
  {
   "source": [
    "### Read in demographic datasets"
   ],
   "cell_type": "markdown",
   "metadata": {}
  },
  {
   "cell_type": "code",
   "execution_count": 4,
   "metadata": {},
   "outputs": [],
   "source": [
    "white_male = pd.read_csv('../data/white_male_ad_edited.csv')\n",
    "white_female = pd.read_csv('../data/white_female_ad_edited.csv')\n",
    "black_male = pd.read_csv('../data/black_male_ad_edited.csv')\n",
    "black_female = pd.read_csv('../data/black_female_ad_edited.csv')\n",
    "hispanic_male = pd.read_csv('../data/hispanic_male_ad_edited.csv')\n",
    "hispanic_female = pd.read_csv('../data/hispanic_female_ad_edited.csv')\n",
    "american_indian_male = pd.read_csv('../data/american_indian_male_ad_edited.csv')\n",
    "american_indian_female = pd.read_csv('../data/american_indian_female_ad_edited.csv')\n",
    "asian_male = pd.read_csv('../data/asian_male_ad_edited.csv')\n",
    "asian_female = pd.read_csv('../data/asian_female_ad_edited.csv')"
   ]
  },
  {
   "cell_type": "code",
   "execution_count": 7,
   "metadata": {},
   "outputs": [
    {
     "output_type": "execute_result",
     "data": {
      "text/plain": [
       "Index(['Unnamed: 0', 'ï»¿Notes', 'State', 'age', 'Gender ', 'Ethnicity',\n",
       "       'Year', 'Deaths', 'Population', 'Crude Rate'],\n",
       "      dtype='object')"
      ]
     },
     "metadata": {},
     "execution_count": 7
    }
   ],
   "source": [
    "white_male.columns"
   ]
  },
  {
   "cell_type": "code",
   "execution_count": null,
   "metadata": {},
   "outputs": [],
   "source": []
  }
 ]
}