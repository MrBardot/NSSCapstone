{
 "metadata": {
  "language_info": {
   "codemirror_mode": {
    "name": "ipython",
    "version": 3
   },
   "file_extension": ".py",
   "mimetype": "text/x-python",
   "name": "python",
   "nbconvert_exporter": "python",
   "pygments_lexer": "ipython3",
   "version": "3.8.5-final"
  },
  "orig_nbformat": 2,
  "kernelspec": {
   "name": "python3",
   "display_name": "Python 3",
   "language": "python"
  }
 },
 "nbformat": 4,
 "nbformat_minor": 2,
 "cells": [
  {
   "cell_type": "code",
   "execution_count": 12,
   "metadata": {},
   "outputs": [],
   "source": [
    "import pandas as pd \n",
    "import numpy as np \n",
    "import matplotlib.pyplot as plt \n",
    "import seaborn as sns \n",
    "\n",
    "%matplotlib inline"
   ]
  },
  {
   "source": [
    "### Read in demographic datasets"
   ],
   "cell_type": "markdown",
   "metadata": {}
  },
  {
   "cell_type": "code",
   "execution_count": 13,
   "metadata": {},
   "outputs": [],
   "source": [
    "white_male = pd.read_csv('../data/white_male_ad_edited.csv')\n",
    "white_female = pd.read_csv('../data/white_female_ad_edited.csv')\n",
    "black_male = pd.read_csv('../data/black_male_ad_edited.csv')\n",
    "black_female = pd.read_csv('../data/black_female_ad_edited.csv')\n",
    "hispanic_male = pd.read_csv('../data/hispanic_male_ad_edited.csv')\n",
    "hispanic_female = pd.read_csv('../data/hispanic_female_ad_edited.csv')\n",
    "american_indian_male = pd.read_csv('../data/american_indian_male_ad_edited.csv')\n",
    "american_indian_female = pd.read_csv('../data/american_indian_female_ad_edited.csv')\n",
    "asian_male = pd.read_csv('../data/asian_male_ad_edited.csv')\n",
    "asian_female = pd.read_csv('../data/asian_female_ad_edited.csv')"
   ]
  },
  {
   "cell_type": "code",
   "execution_count": 14,
   "metadata": {},
   "outputs": [
    {
     "output_type": "execute_result",
     "data": {
      "text/plain": [
       "Index(['Unnamed: 0', 'ï»¿Notes', 'State', 'age', 'Gender ', 'Ethnicity',\n",
       "       'Year', 'Deaths', 'Population', 'Crude Rate'],\n",
       "      dtype='object')"
      ]
     },
     "metadata": {},
     "execution_count": 14
    }
   ],
   "source": [
    "white_male.columns"
   ]
  },
  {
   "cell_type": "code",
   "execution_count": 15,
   "metadata": {},
   "outputs": [
    {
     "output_type": "execute_result",
     "data": {
      "text/plain": [
       "   Unnamed: 0  ï»¿Notes    State    age Gender  Ethnicity  Year      Deaths  \\\n",
       "0           0       NaN  Alabama  35-39    Male     White  1999  Suppressed   \n",
       "1           1       NaN  Alabama  35-39    Male     White  2000  Suppressed   \n",
       "2           2       NaN  Alabama  35-39    Male     White  2001  Suppressed   \n",
       "3           3       NaN  Alabama  35-39    Male     White  2002  Suppressed   \n",
       "4           4       NaN  Alabama  35-39    Male     White  2003  Suppressed   \n",
       "5           5       NaN  Alabama  35-39    Male     White  2004  Suppressed   \n",
       "6           6       NaN  Alabama  35-39    Male     White  2005  Suppressed   \n",
       "7           7       NaN  Alabama  35-39    Male     White  2006  Suppressed   \n",
       "8           8       NaN  Alabama  35-39    Male     White  2007  Suppressed   \n",
       "9           9       NaN  Alabama  35-39    Male     White  2008  Suppressed   \n",
       "\n",
       "  Population  Crude Rate  \n",
       "0     123893  Suppressed  \n",
       "1     122289  Suppressed  \n",
       "2     117693  Suppressed  \n",
       "3     113632  Suppressed  \n",
       "4     110121  Suppressed  \n",
       "5     107364  Suppressed  \n",
       "6     106098  Suppressed  \n",
       "7     107492  Suppressed  \n",
       "8     107645  Suppressed  \n",
       "9     106833  Suppressed  "
      ],
      "text/html": "<div>\n<style scoped>\n    .dataframe tbody tr th:only-of-type {\n        vertical-align: middle;\n    }\n\n    .dataframe tbody tr th {\n        vertical-align: top;\n    }\n\n    .dataframe thead th {\n        text-align: right;\n    }\n</style>\n<table border=\"1\" class=\"dataframe\">\n  <thead>\n    <tr style=\"text-align: right;\">\n      <th></th>\n      <th>Unnamed: 0</th>\n      <th>ï»¿Notes</th>\n      <th>State</th>\n      <th>age</th>\n      <th>Gender</th>\n      <th>Ethnicity</th>\n      <th>Year</th>\n      <th>Deaths</th>\n      <th>Population</th>\n      <th>Crude Rate</th>\n    </tr>\n  </thead>\n  <tbody>\n    <tr>\n      <th>0</th>\n      <td>0</td>\n      <td>NaN</td>\n      <td>Alabama</td>\n      <td>35-39</td>\n      <td>Male</td>\n      <td>White</td>\n      <td>1999</td>\n      <td>Suppressed</td>\n      <td>123893</td>\n      <td>Suppressed</td>\n    </tr>\n    <tr>\n      <th>1</th>\n      <td>1</td>\n      <td>NaN</td>\n      <td>Alabama</td>\n      <td>35-39</td>\n      <td>Male</td>\n      <td>White</td>\n      <td>2000</td>\n      <td>Suppressed</td>\n      <td>122289</td>\n      <td>Suppressed</td>\n    </tr>\n    <tr>\n      <th>2</th>\n      <td>2</td>\n      <td>NaN</td>\n      <td>Alabama</td>\n      <td>35-39</td>\n      <td>Male</td>\n      <td>White</td>\n      <td>2001</td>\n      <td>Suppressed</td>\n      <td>117693</td>\n      <td>Suppressed</td>\n    </tr>\n    <tr>\n      <th>3</th>\n      <td>3</td>\n      <td>NaN</td>\n      <td>Alabama</td>\n      <td>35-39</td>\n      <td>Male</td>\n      <td>White</td>\n      <td>2002</td>\n      <td>Suppressed</td>\n      <td>113632</td>\n      <td>Suppressed</td>\n    </tr>\n    <tr>\n      <th>4</th>\n      <td>4</td>\n      <td>NaN</td>\n      <td>Alabama</td>\n      <td>35-39</td>\n      <td>Male</td>\n      <td>White</td>\n      <td>2003</td>\n      <td>Suppressed</td>\n      <td>110121</td>\n      <td>Suppressed</td>\n    </tr>\n    <tr>\n      <th>5</th>\n      <td>5</td>\n      <td>NaN</td>\n      <td>Alabama</td>\n      <td>35-39</td>\n      <td>Male</td>\n      <td>White</td>\n      <td>2004</td>\n      <td>Suppressed</td>\n      <td>107364</td>\n      <td>Suppressed</td>\n    </tr>\n    <tr>\n      <th>6</th>\n      <td>6</td>\n      <td>NaN</td>\n      <td>Alabama</td>\n      <td>35-39</td>\n      <td>Male</td>\n      <td>White</td>\n      <td>2005</td>\n      <td>Suppressed</td>\n      <td>106098</td>\n      <td>Suppressed</td>\n    </tr>\n    <tr>\n      <th>7</th>\n      <td>7</td>\n      <td>NaN</td>\n      <td>Alabama</td>\n      <td>35-39</td>\n      <td>Male</td>\n      <td>White</td>\n      <td>2006</td>\n      <td>Suppressed</td>\n      <td>107492</td>\n      <td>Suppressed</td>\n    </tr>\n    <tr>\n      <th>8</th>\n      <td>8</td>\n      <td>NaN</td>\n      <td>Alabama</td>\n      <td>35-39</td>\n      <td>Male</td>\n      <td>White</td>\n      <td>2007</td>\n      <td>Suppressed</td>\n      <td>107645</td>\n      <td>Suppressed</td>\n    </tr>\n    <tr>\n      <th>9</th>\n      <td>9</td>\n      <td>NaN</td>\n      <td>Alabama</td>\n      <td>35-39</td>\n      <td>Male</td>\n      <td>White</td>\n      <td>2008</td>\n      <td>Suppressed</td>\n      <td>106833</td>\n      <td>Suppressed</td>\n    </tr>\n  </tbody>\n</table>\n</div>"
     },
     "metadata": {},
     "execution_count": 15
    }
   ],
   "source": [
    "white_male.head(10)"
   ]
  },
  {
   "cell_type": "code",
   "execution_count": 16,
   "metadata": {},
   "outputs": [],
   "source": [
    "white_male = white_male.drop(columns= {'Unnamed: 0','ï»¿Notes','Crude Rate'})"
   ]
  },
  {
   "cell_type": "code",
   "execution_count": 17,
   "metadata": {},
   "outputs": [
    {
     "output_type": "execute_result",
     "data": {
      "text/plain": [
       "Index(['State', 'age', 'Gender ', 'Ethnicity', 'Year', 'Deaths', 'Population'], dtype='object')"
      ]
     },
     "metadata": {},
     "execution_count": 17
    }
   ],
   "source": [
    "white_male.columns"
   ]
  },
  {
   "cell_type": "code",
   "execution_count": 18,
   "metadata": {},
   "outputs": [
    {
     "output_type": "execute_result",
     "data": {
      "text/plain": [
       "     State    age Gender  Ethnicity  Year      Deaths Population\n",
       "0  Alabama  35-39    Male     White  1999  Suppressed     123893\n",
       "1  Alabama  35-39    Male     White  2000  Suppressed     122289\n",
       "2  Alabama  35-39    Male     White  2001  Suppressed     117693\n",
       "3  Alabama  35-39    Male     White  2002  Suppressed     113632\n",
       "4  Alabama  35-39    Male     White  2003  Suppressed     110121\n",
       "5  Alabama  35-39    Male     White  2004  Suppressed     107364\n",
       "6  Alabama  35-39    Male     White  2005  Suppressed     106098\n",
       "7  Alabama  35-39    Male     White  2006  Suppressed     107492\n",
       "8  Alabama  35-39    Male     White  2007  Suppressed     107645\n",
       "9  Alabama  35-39    Male     White  2008  Suppressed     106833"
      ],
      "text/html": "<div>\n<style scoped>\n    .dataframe tbody tr th:only-of-type {\n        vertical-align: middle;\n    }\n\n    .dataframe tbody tr th {\n        vertical-align: top;\n    }\n\n    .dataframe thead th {\n        text-align: right;\n    }\n</style>\n<table border=\"1\" class=\"dataframe\">\n  <thead>\n    <tr style=\"text-align: right;\">\n      <th></th>\n      <th>State</th>\n      <th>age</th>\n      <th>Gender</th>\n      <th>Ethnicity</th>\n      <th>Year</th>\n      <th>Deaths</th>\n      <th>Population</th>\n    </tr>\n  </thead>\n  <tbody>\n    <tr>\n      <th>0</th>\n      <td>Alabama</td>\n      <td>35-39</td>\n      <td>Male</td>\n      <td>White</td>\n      <td>1999</td>\n      <td>Suppressed</td>\n      <td>123893</td>\n    </tr>\n    <tr>\n      <th>1</th>\n      <td>Alabama</td>\n      <td>35-39</td>\n      <td>Male</td>\n      <td>White</td>\n      <td>2000</td>\n      <td>Suppressed</td>\n      <td>122289</td>\n    </tr>\n    <tr>\n      <th>2</th>\n      <td>Alabama</td>\n      <td>35-39</td>\n      <td>Male</td>\n      <td>White</td>\n      <td>2001</td>\n      <td>Suppressed</td>\n      <td>117693</td>\n    </tr>\n    <tr>\n      <th>3</th>\n      <td>Alabama</td>\n      <td>35-39</td>\n      <td>Male</td>\n      <td>White</td>\n      <td>2002</td>\n      <td>Suppressed</td>\n      <td>113632</td>\n    </tr>\n    <tr>\n      <th>4</th>\n      <td>Alabama</td>\n      <td>35-39</td>\n      <td>Male</td>\n      <td>White</td>\n      <td>2003</td>\n      <td>Suppressed</td>\n      <td>110121</td>\n    </tr>\n    <tr>\n      <th>5</th>\n      <td>Alabama</td>\n      <td>35-39</td>\n      <td>Male</td>\n      <td>White</td>\n      <td>2004</td>\n      <td>Suppressed</td>\n      <td>107364</td>\n    </tr>\n    <tr>\n      <th>6</th>\n      <td>Alabama</td>\n      <td>35-39</td>\n      <td>Male</td>\n      <td>White</td>\n      <td>2005</td>\n      <td>Suppressed</td>\n      <td>106098</td>\n    </tr>\n    <tr>\n      <th>7</th>\n      <td>Alabama</td>\n      <td>35-39</td>\n      <td>Male</td>\n      <td>White</td>\n      <td>2006</td>\n      <td>Suppressed</td>\n      <td>107492</td>\n    </tr>\n    <tr>\n      <th>8</th>\n      <td>Alabama</td>\n      <td>35-39</td>\n      <td>Male</td>\n      <td>White</td>\n      <td>2007</td>\n      <td>Suppressed</td>\n      <td>107645</td>\n    </tr>\n    <tr>\n      <th>9</th>\n      <td>Alabama</td>\n      <td>35-39</td>\n      <td>Male</td>\n      <td>White</td>\n      <td>2008</td>\n      <td>Suppressed</td>\n      <td>106833</td>\n    </tr>\n  </tbody>\n</table>\n</div>"
     },
     "metadata": {},
     "execution_count": 18
    }
   ],
   "source": [
    "white_male.head(10)"
   ]
  },
  {
   "cell_type": "code",
   "execution_count": 19,
   "metadata": {},
   "outputs": [
    {
     "output_type": "execute_result",
     "data": {
      "text/plain": [
       "Index(['Unnamed: 0', 'ï»¿Notes', 'State', 'age', 'Gender', 'Ethnicity', 'Year',\n",
       "       'Year Code', 'Deaths', 'Population', 'Crude Rate'],\n",
       "      dtype='object')"
      ]
     },
     "metadata": {},
     "execution_count": 19
    }
   ],
   "source": [
    "white_female.columns             "
   ]
  },
  {
   "cell_type": "code",
   "execution_count": 20,
   "metadata": {},
   "outputs": [
    {
     "output_type": "execute_result",
     "data": {
      "text/plain": [
       "     State    age  Gender Ethnicity  Year      Deaths Population\n",
       "0  Alabama  35-39  Female     White  1999  Suppressed     122659\n",
       "1  Alabama  35-39  Female     White  2000  Suppressed     121413\n",
       "2  Alabama  35-39  Female     White  2001  Suppressed     117197\n",
       "3  Alabama  35-39  Female     White  2002  Suppressed     113407\n",
       "4  Alabama  35-39  Female     White  2003  Suppressed     109786\n",
       "5  Alabama  35-39  Female     White  2004  Suppressed     106783\n",
       "6  Alabama  35-39  Female     White  2005  Suppressed     105602\n",
       "7  Alabama  35-39  Female     White  2006  Suppressed     106897\n",
       "8  Alabama  35-39  Female     White  2007  Suppressed     107355\n",
       "9  Alabama  35-39  Female     White  2008  Suppressed     106884"
      ],
      "text/html": "<div>\n<style scoped>\n    .dataframe tbody tr th:only-of-type {\n        vertical-align: middle;\n    }\n\n    .dataframe tbody tr th {\n        vertical-align: top;\n    }\n\n    .dataframe thead th {\n        text-align: right;\n    }\n</style>\n<table border=\"1\" class=\"dataframe\">\n  <thead>\n    <tr style=\"text-align: right;\">\n      <th></th>\n      <th>State</th>\n      <th>age</th>\n      <th>Gender</th>\n      <th>Ethnicity</th>\n      <th>Year</th>\n      <th>Deaths</th>\n      <th>Population</th>\n    </tr>\n  </thead>\n  <tbody>\n    <tr>\n      <th>0</th>\n      <td>Alabama</td>\n      <td>35-39</td>\n      <td>Female</td>\n      <td>White</td>\n      <td>1999</td>\n      <td>Suppressed</td>\n      <td>122659</td>\n    </tr>\n    <tr>\n      <th>1</th>\n      <td>Alabama</td>\n      <td>35-39</td>\n      <td>Female</td>\n      <td>White</td>\n      <td>2000</td>\n      <td>Suppressed</td>\n      <td>121413</td>\n    </tr>\n    <tr>\n      <th>2</th>\n      <td>Alabama</td>\n      <td>35-39</td>\n      <td>Female</td>\n      <td>White</td>\n      <td>2001</td>\n      <td>Suppressed</td>\n      <td>117197</td>\n    </tr>\n    <tr>\n      <th>3</th>\n      <td>Alabama</td>\n      <td>35-39</td>\n      <td>Female</td>\n      <td>White</td>\n      <td>2002</td>\n      <td>Suppressed</td>\n      <td>113407</td>\n    </tr>\n    <tr>\n      <th>4</th>\n      <td>Alabama</td>\n      <td>35-39</td>\n      <td>Female</td>\n      <td>White</td>\n      <td>2003</td>\n      <td>Suppressed</td>\n      <td>109786</td>\n    </tr>\n    <tr>\n      <th>5</th>\n      <td>Alabama</td>\n      <td>35-39</td>\n      <td>Female</td>\n      <td>White</td>\n      <td>2004</td>\n      <td>Suppressed</td>\n      <td>106783</td>\n    </tr>\n    <tr>\n      <th>6</th>\n      <td>Alabama</td>\n      <td>35-39</td>\n      <td>Female</td>\n      <td>White</td>\n      <td>2005</td>\n      <td>Suppressed</td>\n      <td>105602</td>\n    </tr>\n    <tr>\n      <th>7</th>\n      <td>Alabama</td>\n      <td>35-39</td>\n      <td>Female</td>\n      <td>White</td>\n      <td>2006</td>\n      <td>Suppressed</td>\n      <td>106897</td>\n    </tr>\n    <tr>\n      <th>8</th>\n      <td>Alabama</td>\n      <td>35-39</td>\n      <td>Female</td>\n      <td>White</td>\n      <td>2007</td>\n      <td>Suppressed</td>\n      <td>107355</td>\n    </tr>\n    <tr>\n      <th>9</th>\n      <td>Alabama</td>\n      <td>35-39</td>\n      <td>Female</td>\n      <td>White</td>\n      <td>2008</td>\n      <td>Suppressed</td>\n      <td>106884</td>\n    </tr>\n  </tbody>\n</table>\n</div>"
     },
     "metadata": {},
     "execution_count": 20
    }
   ],
   "source": [
    "white_female = white_female.drop(columns= {'Unnamed: 0','ï»¿Notes','Crude Rate','Year Code'})\n",
    "white_female.head(10)"
   ]
  },
  {
   "cell_type": "code",
   "execution_count": 21,
   "metadata": {},
   "outputs": [
    {
     "output_type": "execute_result",
     "data": {
      "text/plain": [
       "Index(['Unnamed: 0', 'ï»¿Notes', 'State', 'age', 'Ethnicity', 'Gender', 'Year',\n",
       "       'Deaths', 'Population', 'Crude Rate'],\n",
       "      dtype='object')"
      ]
     },
     "metadata": {},
     "execution_count": 21
    }
   ],
   "source": [
    "black_male.columns"
   ]
  },
  {
   "cell_type": "code",
   "execution_count": 22,
   "metadata": {},
   "outputs": [
    {
     "output_type": "execute_result",
     "data": {
      "text/plain": [
       "         State    age Ethnicity Gender  Year      Deaths      Population\n",
       "0      Alabama  30-34     Black   Male  1999  Suppressed           34931\n",
       "1      Alabama  30-34     Black   Male  2000  Suppressed           34821\n",
       "2      Alabama  30-34     Black   Male  2001  Suppressed           34582\n",
       "3      Alabama  30-34     Black   Male  2002  Suppressed           34999\n",
       "4      Alabama  30-34     Black   Male  2003  Suppressed           35431\n",
       "...        ...    ...       ...    ...   ...         ...             ...\n",
       "15295  Wyoming   100+     Black   Male  2014  Suppressed  Not Applicable\n",
       "15296  Wyoming   100+     Black   Male  2015  Suppressed  Not Applicable\n",
       "15297  Wyoming   100+     Black   Male  2016  Suppressed  Not Applicable\n",
       "15298  Wyoming   100+     Black   Male  2017  Suppressed  Not Applicable\n",
       "15299  Wyoming   100+     Black   Male  2018  Suppressed  Not Applicable\n",
       "\n",
       "[15300 rows x 7 columns]"
      ],
      "text/html": "<div>\n<style scoped>\n    .dataframe tbody tr th:only-of-type {\n        vertical-align: middle;\n    }\n\n    .dataframe tbody tr th {\n        vertical-align: top;\n    }\n\n    .dataframe thead th {\n        text-align: right;\n    }\n</style>\n<table border=\"1\" class=\"dataframe\">\n  <thead>\n    <tr style=\"text-align: right;\">\n      <th></th>\n      <th>State</th>\n      <th>age</th>\n      <th>Ethnicity</th>\n      <th>Gender</th>\n      <th>Year</th>\n      <th>Deaths</th>\n      <th>Population</th>\n    </tr>\n  </thead>\n  <tbody>\n    <tr>\n      <th>0</th>\n      <td>Alabama</td>\n      <td>30-34</td>\n      <td>Black</td>\n      <td>Male</td>\n      <td>1999</td>\n      <td>Suppressed</td>\n      <td>34931</td>\n    </tr>\n    <tr>\n      <th>1</th>\n      <td>Alabama</td>\n      <td>30-34</td>\n      <td>Black</td>\n      <td>Male</td>\n      <td>2000</td>\n      <td>Suppressed</td>\n      <td>34821</td>\n    </tr>\n    <tr>\n      <th>2</th>\n      <td>Alabama</td>\n      <td>30-34</td>\n      <td>Black</td>\n      <td>Male</td>\n      <td>2001</td>\n      <td>Suppressed</td>\n      <td>34582</td>\n    </tr>\n    <tr>\n      <th>3</th>\n      <td>Alabama</td>\n      <td>30-34</td>\n      <td>Black</td>\n      <td>Male</td>\n      <td>2002</td>\n      <td>Suppressed</td>\n      <td>34999</td>\n    </tr>\n    <tr>\n      <th>4</th>\n      <td>Alabama</td>\n      <td>30-34</td>\n      <td>Black</td>\n      <td>Male</td>\n      <td>2003</td>\n      <td>Suppressed</td>\n      <td>35431</td>\n    </tr>\n    <tr>\n      <th>...</th>\n      <td>...</td>\n      <td>...</td>\n      <td>...</td>\n      <td>...</td>\n      <td>...</td>\n      <td>...</td>\n      <td>...</td>\n    </tr>\n    <tr>\n      <th>15295</th>\n      <td>Wyoming</td>\n      <td>100+</td>\n      <td>Black</td>\n      <td>Male</td>\n      <td>2014</td>\n      <td>Suppressed</td>\n      <td>Not Applicable</td>\n    </tr>\n    <tr>\n      <th>15296</th>\n      <td>Wyoming</td>\n      <td>100+</td>\n      <td>Black</td>\n      <td>Male</td>\n      <td>2015</td>\n      <td>Suppressed</td>\n      <td>Not Applicable</td>\n    </tr>\n    <tr>\n      <th>15297</th>\n      <td>Wyoming</td>\n      <td>100+</td>\n      <td>Black</td>\n      <td>Male</td>\n      <td>2016</td>\n      <td>Suppressed</td>\n      <td>Not Applicable</td>\n    </tr>\n    <tr>\n      <th>15298</th>\n      <td>Wyoming</td>\n      <td>100+</td>\n      <td>Black</td>\n      <td>Male</td>\n      <td>2017</td>\n      <td>Suppressed</td>\n      <td>Not Applicable</td>\n    </tr>\n    <tr>\n      <th>15299</th>\n      <td>Wyoming</td>\n      <td>100+</td>\n      <td>Black</td>\n      <td>Male</td>\n      <td>2018</td>\n      <td>Suppressed</td>\n      <td>Not Applicable</td>\n    </tr>\n  </tbody>\n</table>\n<p>15300 rows × 7 columns</p>\n</div>"
     },
     "metadata": {},
     "execution_count": 22
    }
   ],
   "source": [
    "black_male = black_male.drop(columns={'Unnamed: 0','ï»¿Notes','Crude Rate'})\n",
    "black_male"
   ]
  },
  {
   "cell_type": "code",
   "execution_count": 23,
   "metadata": {},
   "outputs": [
    {
     "output_type": "execute_result",
     "data": {
      "text/plain": [
       "Index(['Unnamed: 0', 'ï»¿Notes', 'State', 'age', 'Ethnicity', 'Gender', 'Year',\n",
       "       'Deaths', 'Population', 'Crude Rate'],\n",
       "      dtype='object')"
      ]
     },
     "metadata": {},
     "execution_count": 23
    }
   ],
   "source": [
    "black_female.columns"
   ]
  },
  {
   "cell_type": "code",
   "execution_count": 24,
   "metadata": {},
   "outputs": [],
   "source": [
    "black_female = black_female.drop(columns= {'Unnamed: 0','ï»¿Notes','Crude Rate'})"
   ]
  },
  {
   "cell_type": "code",
   "execution_count": 25,
   "metadata": {},
   "outputs": [
    {
     "output_type": "execute_result",
     "data": {
      "text/plain": [
       "     State    age Ethnicity  Gender  Year      Deaths Population\n",
       "0  Alabama  30-34     Black  Female  1999  Suppressed      42324\n",
       "1  Alabama  30-34     Black  Female  2000  Suppressed      42199\n",
       "2  Alabama  30-34     Black  Female  2001  Suppressed      42199\n",
       "3  Alabama  30-34     Black  Female  2002  Suppressed      42531\n",
       "4  Alabama  30-34     Black  Female  2003  Suppressed      42992\n",
       "5  Alabama  30-34     Black  Female  2004  Suppressed      43494\n",
       "6  Alabama  30-34     Black  Female  2005  Suppressed      43407\n",
       "7  Alabama  30-34     Black  Female  2006  Suppressed      43109\n",
       "8  Alabama  30-34     Black  Female  2007  Suppressed      43353\n",
       "9  Alabama  30-34     Black  Female  2008  Suppressed      43877"
      ],
      "text/html": "<div>\n<style scoped>\n    .dataframe tbody tr th:only-of-type {\n        vertical-align: middle;\n    }\n\n    .dataframe tbody tr th {\n        vertical-align: top;\n    }\n\n    .dataframe thead th {\n        text-align: right;\n    }\n</style>\n<table border=\"1\" class=\"dataframe\">\n  <thead>\n    <tr style=\"text-align: right;\">\n      <th></th>\n      <th>State</th>\n      <th>age</th>\n      <th>Ethnicity</th>\n      <th>Gender</th>\n      <th>Year</th>\n      <th>Deaths</th>\n      <th>Population</th>\n    </tr>\n  </thead>\n  <tbody>\n    <tr>\n      <th>0</th>\n      <td>Alabama</td>\n      <td>30-34</td>\n      <td>Black</td>\n      <td>Female</td>\n      <td>1999</td>\n      <td>Suppressed</td>\n      <td>42324</td>\n    </tr>\n    <tr>\n      <th>1</th>\n      <td>Alabama</td>\n      <td>30-34</td>\n      <td>Black</td>\n      <td>Female</td>\n      <td>2000</td>\n      <td>Suppressed</td>\n      <td>42199</td>\n    </tr>\n    <tr>\n      <th>2</th>\n      <td>Alabama</td>\n      <td>30-34</td>\n      <td>Black</td>\n      <td>Female</td>\n      <td>2001</td>\n      <td>Suppressed</td>\n      <td>42199</td>\n    </tr>\n    <tr>\n      <th>3</th>\n      <td>Alabama</td>\n      <td>30-34</td>\n      <td>Black</td>\n      <td>Female</td>\n      <td>2002</td>\n      <td>Suppressed</td>\n      <td>42531</td>\n    </tr>\n    <tr>\n      <th>4</th>\n      <td>Alabama</td>\n      <td>30-34</td>\n      <td>Black</td>\n      <td>Female</td>\n      <td>2003</td>\n      <td>Suppressed</td>\n      <td>42992</td>\n    </tr>\n    <tr>\n      <th>5</th>\n      <td>Alabama</td>\n      <td>30-34</td>\n      <td>Black</td>\n      <td>Female</td>\n      <td>2004</td>\n      <td>Suppressed</td>\n      <td>43494</td>\n    </tr>\n    <tr>\n      <th>6</th>\n      <td>Alabama</td>\n      <td>30-34</td>\n      <td>Black</td>\n      <td>Female</td>\n      <td>2005</td>\n      <td>Suppressed</td>\n      <td>43407</td>\n    </tr>\n    <tr>\n      <th>7</th>\n      <td>Alabama</td>\n      <td>30-34</td>\n      <td>Black</td>\n      <td>Female</td>\n      <td>2006</td>\n      <td>Suppressed</td>\n      <td>43109</td>\n    </tr>\n    <tr>\n      <th>8</th>\n      <td>Alabama</td>\n      <td>30-34</td>\n      <td>Black</td>\n      <td>Female</td>\n      <td>2007</td>\n      <td>Suppressed</td>\n      <td>43353</td>\n    </tr>\n    <tr>\n      <th>9</th>\n      <td>Alabama</td>\n      <td>30-34</td>\n      <td>Black</td>\n      <td>Female</td>\n      <td>2008</td>\n      <td>Suppressed</td>\n      <td>43877</td>\n    </tr>\n  </tbody>\n</table>\n</div>"
     },
     "metadata": {},
     "execution_count": 25
    }
   ],
   "source": [
    "black_female.head(10)"
   ]
  },
  {
   "cell_type": "code",
   "execution_count": 26,
   "metadata": {},
   "outputs": [
    {
     "output_type": "execute_result",
     "data": {
      "text/plain": [
       "Index(['Unnamed: 0', 'ï»¿Notes', 'State', 'age', 'Ethnicity', 'Gender', 'Year',\n",
       "       'Deaths', 'Population', 'Crude Rate'],\n",
       "      dtype='object')"
      ]
     },
     "metadata": {},
     "execution_count": 26
    }
   ],
   "source": [
    "hispanic_male.columns"
   ]
  },
  {
   "cell_type": "code",
   "execution_count": 27,
   "metadata": {},
   "outputs": [
    {
     "output_type": "execute_result",
     "data": {
      "text/plain": [
       "     State    age Ethnicity Gender    Year      Deaths Population\n",
       "0  Alabama  30-34  Hispanic   Male  1999.0  Suppressed       3858\n",
       "1  Alabama  30-34  Hispanic   Male  2000.0  Suppressed       4307\n",
       "2  Alabama  30-34  Hispanic   Male  2001.0  Suppressed       5009\n",
       "3  Alabama  30-34  Hispanic   Male  2002.0  Suppressed       5775\n",
       "4  Alabama  30-34  Hispanic   Male  2003.0  Suppressed       6524"
      ],
      "text/html": "<div>\n<style scoped>\n    .dataframe tbody tr th:only-of-type {\n        vertical-align: middle;\n    }\n\n    .dataframe tbody tr th {\n        vertical-align: top;\n    }\n\n    .dataframe thead th {\n        text-align: right;\n    }\n</style>\n<table border=\"1\" class=\"dataframe\">\n  <thead>\n    <tr style=\"text-align: right;\">\n      <th></th>\n      <th>State</th>\n      <th>age</th>\n      <th>Ethnicity</th>\n      <th>Gender</th>\n      <th>Year</th>\n      <th>Deaths</th>\n      <th>Population</th>\n    </tr>\n  </thead>\n  <tbody>\n    <tr>\n      <th>0</th>\n      <td>Alabama</td>\n      <td>30-34</td>\n      <td>Hispanic</td>\n      <td>Male</td>\n      <td>1999.0</td>\n      <td>Suppressed</td>\n      <td>3858</td>\n    </tr>\n    <tr>\n      <th>1</th>\n      <td>Alabama</td>\n      <td>30-34</td>\n      <td>Hispanic</td>\n      <td>Male</td>\n      <td>2000.0</td>\n      <td>Suppressed</td>\n      <td>4307</td>\n    </tr>\n    <tr>\n      <th>2</th>\n      <td>Alabama</td>\n      <td>30-34</td>\n      <td>Hispanic</td>\n      <td>Male</td>\n      <td>2001.0</td>\n      <td>Suppressed</td>\n      <td>5009</td>\n    </tr>\n    <tr>\n      <th>3</th>\n      <td>Alabama</td>\n      <td>30-34</td>\n      <td>Hispanic</td>\n      <td>Male</td>\n      <td>2002.0</td>\n      <td>Suppressed</td>\n      <td>5775</td>\n    </tr>\n    <tr>\n      <th>4</th>\n      <td>Alabama</td>\n      <td>30-34</td>\n      <td>Hispanic</td>\n      <td>Male</td>\n      <td>2003.0</td>\n      <td>Suppressed</td>\n      <td>6524</td>\n    </tr>\n  </tbody>\n</table>\n</div>"
     },
     "metadata": {},
     "execution_count": 27
    }
   ],
   "source": [
    "hispanic_male = hispanic_male.drop(columns= {'Unnamed: 0','ï»¿Notes','Crude Rate'})\n",
    "hispanic_male.head()"
   ]
  },
  {
   "cell_type": "code",
   "execution_count": null,
   "metadata": {},
   "outputs": [],
   "source": []
  }
 ]
}