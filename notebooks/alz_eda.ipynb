{
 "metadata": {
  "language_info": {
   "codemirror_mode": {
    "name": "ipython",
    "version": 3
   },
   "file_extension": ".py",
   "mimetype": "text/x-python",
   "name": "python",
   "nbconvert_exporter": "python",
   "pygments_lexer": "ipython3",
   "version": "3.8.3-final"
  },
  "orig_nbformat": 2,
  "kernelspec": {
   "name": "python3",
   "display_name": "Python 3"
  }
 },
 "nbformat": 4,
 "nbformat_minor": 2,
 "cells": [
  {
   "cell_type": "code",
   "execution_count": 4,
   "metadata": {},
   "outputs": [],
   "source": [
    "import pandas as pd \n",
    "import numpy as np \n",
    "import matplotlib.pyplot as plt \n",
    "import seaborn as sns\n",
    "\n",
    "%matplotlib inline"
   ]
  },
  {
   "cell_type": "code",
   "execution_count": 12,
   "metadata": {},
   "outputs": [],
   "source": [
    "aging_data = pd.read_csv('../data/Alzheimer_s_Disease_And_Healthy_Aging_Data.csv')\n",
    "cog_dec = pd.read_csv('../data/Alzheimer_s_Disease_and_Healthy_Aging_Indicators__Cognitive_Decline.csv')"
   ]
  },
  {
   "cell_type": "code",
   "execution_count": 14,
   "metadata": {},
   "outputs": [
    {
     "output_type": "stream",
     "name": "stdout",
     "text": [
      "<class 'pandas.core.frame.DataFrame'>\nRangeIndex: 144173 entries, 0 to 144172\nData columns (total 38 columns):\n #   Column                      Non-Null Count   Dtype  \n---  ------                      --------------   -----  \n 0   YearStart                   144173 non-null  int64  \n 1   YearEnd                     144173 non-null  int64  \n 2   LocationAbbr                144173 non-null  object \n 3   LocationDesc                144173 non-null  object \n 4   Datasource                  144173 non-null  object \n 5   Class                       144173 non-null  object \n 6   Topic                       144173 non-null  object \n 7   Question                    144173 non-null  object \n 8   Response                    0 non-null       float64\n 9   Data_Value_Unit             144173 non-null  object \n 10  DataValueTypeID             144173 non-null  object \n 11  Data_Value_Type             144173 non-null  object \n 12  Data_Value                  97421 non-null   float64\n 13  Data_Value_Alt              97421 non-null   float64\n 14  Data_Value_Footnote_Symbol  57575 non-null   object \n 15  Data_Value_Footnote         57575 non-null   object \n 16  Low_Confidence_Limit        97266 non-null   float64\n 17  High_Confidence_Limit       97266 non-null   float64\n 18  Sample_Size                 0 non-null       float64\n 19  StratificationCategory1     144173 non-null  object \n 20  Stratification1             144173 non-null  object \n 21  StratificationCategory2     144173 non-null  object \n 22  Stratification2             144173 non-null  object \n 23  StratificationCategory3     0 non-null       float64\n 24  Stratification3             0 non-null       float64\n 25  GeoLocation                 128714 non-null  object \n 26  ClassID                     144173 non-null  object \n 27  TopicID                     144173 non-null  object \n 28  QuestionID                  144173 non-null  object \n 29  ResponseID                  0 non-null       float64\n 30  LocationID                  144173 non-null  int64  \n 31  StratificationCategoryID1   144173 non-null  object \n 32  StratificationID1           144173 non-null  object \n 33  StratificationCategoryID2   144173 non-null  object \n 34  StratificationID2           144173 non-null  object \n 35  StratificationCategoryID3   0 non-null       float64\n 36  StratificationID3           0 non-null       float64\n 37  Report                      0 non-null       float64\ndtypes: float64(12), int64(3), object(23)\nmemory usage: 41.8+ MB\n"
     ]
    }
   ],
   "source": [
    "aging_data.info()"
   ]
  },
  {
   "cell_type": "code",
   "execution_count": 15,
   "metadata": {},
   "outputs": [
    {
     "output_type": "stream",
     "name": "stdout",
     "text": [
      "<class 'pandas.core.frame.DataFrame'>\nRangeIndex: 13386 entries, 0 to 13385\nData columns (total 38 columns):\n #   Column                      Non-Null Count  Dtype  \n---  ------                      --------------  -----  \n 0   YearStart                   13386 non-null  int64  \n 1   YearEnd                     13386 non-null  int64  \n 2   LocationAbbr                13386 non-null  object \n 3   LocationDesc                13386 non-null  object \n 4   Datasource                  13386 non-null  object \n 5   Class                       13386 non-null  object \n 6   Topic                       13386 non-null  object \n 7   Question                    13386 non-null  object \n 8   Response                    0 non-null      float64\n 9   Data_Value_Unit             13386 non-null  object \n 10  DataValueTypeID             13386 non-null  object \n 11  Data_Value_Type             13386 non-null  object \n 12  Data_Value                  8478 non-null   float64\n 13  Data_Value_Alt              8478 non-null   float64\n 14  Data_Value_Footnote_Symbol  7044 non-null   object \n 15  Data_Value_Footnote         7044 non-null   object \n 16  Low_Confidence_Limit        8400 non-null   float64\n 17  High_Confidence_Limit       8400 non-null   float64\n 18  Sample_Size                 0 non-null      float64\n 19  StratificationCategory1     13386 non-null  object \n 20  Stratification1             13386 non-null  object \n 21  StratificationCategory2     13386 non-null  object \n 22  Stratification2             13386 non-null  object \n 23  StratificationCategory3     0 non-null      float64\n 24  Stratification3             0 non-null      float64\n 25  GeoLocation                 11094 non-null  object \n 26  ClassID                     13386 non-null  object \n 27  TopicID                     13386 non-null  object \n 28  QuestionID                  13386 non-null  object \n 29  ResponseID                  0 non-null      float64\n 30  LocationID                  13386 non-null  int64  \n 31  StratificationCategoryID1   13386 non-null  object \n 32  StratificationID1           13386 non-null  object \n 33  StratificationCategoryID2   13386 non-null  object \n 34  StratificationID2           13386 non-null  object \n 35  StratificationCategoryID3   0 non-null      float64\n 36  StratificationID3           0 non-null      float64\n 37  Report                      0 non-null      float64\ndtypes: float64(12), int64(3), object(23)\nmemory usage: 3.9+ MB\n"
     ]
    }
   ],
   "source": [
    "cog_dec.info()"
   ]
  },
  {
   "cell_type": "code",
   "execution_count": null,
   "metadata": {},
   "outputs": [],
   "source": []
  }
 ]
}