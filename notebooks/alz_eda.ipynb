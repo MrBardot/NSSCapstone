{
 "cells": [
  {
   "cell_type": "markdown",
   "metadata": {},
   "source": [
    "## Importing Packages"
   ]
  },
  {
   "cell_type": "code",
   "execution_count": 67,
   "metadata": {},
   "outputs": [],
   "source": [
    "import pandas as pd \n",
    "import numpy as np \n",
    "import matplotlib.pyplot as plt \n",
    "import seaborn as sns\n",
    "\n",
    "%matplotlib inline"
   ]
  },
  {
   "cell_type": "markdown",
   "metadata": {},
   "source": [
    "## Reading in datasets"
   ]
  },
  {
   "cell_type": "code",
   "execution_count": 113,
   "metadata": {},
   "outputs": [],
   "source": [
    "aging_data = pd.read_csv('../data/Alzheimer_s_Disease_And_Healthy_Aging_Data.csv')\n",
    "cog_dec = pd.read_csv('../data/Alzheimer_s_Disease_and_Healthy_Aging_Indicators__Cognitive_Decline.csv')\n",
    "caregiving =  pd.read_csv('../data/Alzheimer_s_Disease_and_Healthy_Aging_Indicators__Caregiving.csv')\n",
    "american_indian_female = pd.read_csv('../data/American Indian or Alaskan Native, Female, AD by State.csv',skipfooter = 76, engine = 'python')\n",
    "american_indian_male = pd.read_csv('../data/American Indian or Alaskan Native, Male, AD by State.csv',skipfooter = 76, engine = 'python')\n",
    "asian_male = pd.read_csv('../data/Asian or PI, Male, AD by State.csv', skipfooter = 78, engine = 'python')\n",
    "asian_female = pd.read_csv('../data/Asian or PI, Female, AD by State.csv', skipfooter = 78, engine = 'python')\n",
    "black_male = pd.read_csv('../data/Black, Male, AD by State.csv',skipfooter= 78,engine = 'python')\n",
    "black_female = pd.read_csv('../data/Black, Female, AD by State (1).csv',skipfooter = 78, engine = 'python')\n",
    "cumulative_72020 = pd.read_csv('../data/Cumulative_Provisional_Death_Counts_by_Sex__Race__and_Age_through_7_4_2020.csv')\n",
    "hispanic_male = pd.read_csv('../data/Hispanic, Male, AD by State.csv',skipfooter = 75, engine = 'python')\n",
    "hispanic_female = pd.read_csv('../data/Hispanic, Female, AD by State.csv',skipfooter = 77, engine = 'python')\n",
    "multiple_causes = pd.read_csv('../data/Multiple Cause of Death, 1999-2018.csv')\n",
    "white_male = pd.read_csv('../data/White, Male, AD by State.csv',skipfooter= 94, engine = 'python')\n",
    "white_female = pd.read_csv('../data/White, Female, AD by State.csv',skipfooter = 78, engine = 'python')"
   ]
  },
  {
   "source": [
    "## Data and Column Cleanup"
   ],
   "cell_type": "markdown",
   "metadata": {}
  },
  {
   "cell_type": "code",
   "execution_count": 81,
   "metadata": {},
   "outputs": [
    {
     "output_type": "execute_result",
     "data": {
      "text/plain": [
       "   ï»¿Notes    State    age  Gender Ethnicity  Year  Year Code      Deaths  \\\n",
       "0       NaN  Alabama  30-34  Female     White  1999       1999  Suppressed   \n",
       "1       NaN  Alabama  30-34  Female     White  2000       2000  Suppressed   \n",
       "2       NaN  Alabama  30-34  Female     White  2001       2001  Suppressed   \n",
       "3       NaN  Alabama  30-34  Female     White  2002       2002  Suppressed   \n",
       "4       NaN  Alabama  30-34  Female     White  2003       2003  Suppressed   \n",
       "\n",
       "  Population  Crude Rate  \n",
       "0     106046  Suppressed  \n",
       "1     105657  Suppressed  \n",
       "2     105165  Suppressed  \n",
       "3     104248  Suppressed  \n",
       "4     102860  Suppressed  "
      ],
      "text/html": "<div>\n<style scoped>\n    .dataframe tbody tr th:only-of-type {\n        vertical-align: middle;\n    }\n\n    .dataframe tbody tr th {\n        vertical-align: top;\n    }\n\n    .dataframe thead th {\n        text-align: right;\n    }\n</style>\n<table border=\"1\" class=\"dataframe\">\n  <thead>\n    <tr style=\"text-align: right;\">\n      <th></th>\n      <th>ï»¿Notes</th>\n      <th>State</th>\n      <th>age</th>\n      <th>Gender</th>\n      <th>Ethnicity</th>\n      <th>Year</th>\n      <th>Year Code</th>\n      <th>Deaths</th>\n      <th>Population</th>\n      <th>Crude Rate</th>\n    </tr>\n  </thead>\n  <tbody>\n    <tr>\n      <th>0</th>\n      <td>NaN</td>\n      <td>Alabama</td>\n      <td>30-34</td>\n      <td>Female</td>\n      <td>White</td>\n      <td>1999</td>\n      <td>1999</td>\n      <td>Suppressed</td>\n      <td>106046</td>\n      <td>Suppressed</td>\n    </tr>\n    <tr>\n      <th>1</th>\n      <td>NaN</td>\n      <td>Alabama</td>\n      <td>30-34</td>\n      <td>Female</td>\n      <td>White</td>\n      <td>2000</td>\n      <td>2000</td>\n      <td>Suppressed</td>\n      <td>105657</td>\n      <td>Suppressed</td>\n    </tr>\n    <tr>\n      <th>2</th>\n      <td>NaN</td>\n      <td>Alabama</td>\n      <td>30-34</td>\n      <td>Female</td>\n      <td>White</td>\n      <td>2001</td>\n      <td>2001</td>\n      <td>Suppressed</td>\n      <td>105165</td>\n      <td>Suppressed</td>\n    </tr>\n    <tr>\n      <th>3</th>\n      <td>NaN</td>\n      <td>Alabama</td>\n      <td>30-34</td>\n      <td>Female</td>\n      <td>White</td>\n      <td>2002</td>\n      <td>2002</td>\n      <td>Suppressed</td>\n      <td>104248</td>\n      <td>Suppressed</td>\n    </tr>\n    <tr>\n      <th>4</th>\n      <td>NaN</td>\n      <td>Alabama</td>\n      <td>30-34</td>\n      <td>Female</td>\n      <td>White</td>\n      <td>2003</td>\n      <td>2003</td>\n      <td>Suppressed</td>\n      <td>102860</td>\n      <td>Suppressed</td>\n    </tr>\n  </tbody>\n</table>\n</div>"
     },
     "metadata": {},
     "execution_count": 81
    }
   ],
   "source": [
    "white_female.head()"
   ]
  },
  {
   "cell_type": "code",
   "execution_count": 83,
   "metadata": {},
   "outputs": [
    {
     "output_type": "execute_result",
     "data": {
      "text/plain": [
       "       ï»¿Notes    State    age  Gender Ethnicity  Year  Year Code  \\\n",
       "0           NaN  Alabama  30-34  Female     White  1999       1999   \n",
       "1           NaN  Alabama  30-34  Female     White  2000       2000   \n",
       "2           NaN  Alabama  30-34  Female     White  2001       2001   \n",
       "3           NaN  Alabama  30-34  Female     White  2002       2002   \n",
       "4           NaN  Alabama  30-34  Female     White  2003       2003   \n",
       "...         ...      ...    ...     ...       ...   ...        ...   \n",
       "15295       NaN  Wyoming   100+  Female     White  2014       2014   \n",
       "15296       NaN  Wyoming   100+  Female     White  2015       2015   \n",
       "15297       NaN  Wyoming   100+  Female     White  2016       2016   \n",
       "15298       NaN  Wyoming   100+  Female     White  2017       2017   \n",
       "15299       NaN  Wyoming   100+  Female     White  2018       2018   \n",
       "\n",
       "           Deaths      Population      Crude Rate  \n",
       "0      Suppressed          106046      Suppressed  \n",
       "1      Suppressed          105657      Suppressed  \n",
       "2      Suppressed          105165      Suppressed  \n",
       "3      Suppressed          104248      Suppressed  \n",
       "4      Suppressed          102860      Suppressed  \n",
       "...           ...             ...             ...  \n",
       "15295  Suppressed  Not Applicable  Not Applicable  \n",
       "15296  Suppressed  Not Applicable  Not Applicable  \n",
       "15297  Suppressed  Not Applicable  Not Applicable  \n",
       "15298  Suppressed  Not Applicable  Not Applicable  \n",
       "15299          13  Not Applicable  Not Applicable  \n",
       "\n",
       "[15300 rows x 10 columns]"
      ],
      "text/html": "<div>\n<style scoped>\n    .dataframe tbody tr th:only-of-type {\n        vertical-align: middle;\n    }\n\n    .dataframe tbody tr th {\n        vertical-align: top;\n    }\n\n    .dataframe thead th {\n        text-align: right;\n    }\n</style>\n<table border=\"1\" class=\"dataframe\">\n  <thead>\n    <tr style=\"text-align: right;\">\n      <th></th>\n      <th>ï»¿Notes</th>\n      <th>State</th>\n      <th>age</th>\n      <th>Gender</th>\n      <th>Ethnicity</th>\n      <th>Year</th>\n      <th>Year Code</th>\n      <th>Deaths</th>\n      <th>Population</th>\n      <th>Crude Rate</th>\n    </tr>\n  </thead>\n  <tbody>\n    <tr>\n      <th>0</th>\n      <td>NaN</td>\n      <td>Alabama</td>\n      <td>30-34</td>\n      <td>Female</td>\n      <td>White</td>\n      <td>1999</td>\n      <td>1999</td>\n      <td>Suppressed</td>\n      <td>106046</td>\n      <td>Suppressed</td>\n    </tr>\n    <tr>\n      <th>1</th>\n      <td>NaN</td>\n      <td>Alabama</td>\n      <td>30-34</td>\n      <td>Female</td>\n      <td>White</td>\n      <td>2000</td>\n      <td>2000</td>\n      <td>Suppressed</td>\n      <td>105657</td>\n      <td>Suppressed</td>\n    </tr>\n    <tr>\n      <th>2</th>\n      <td>NaN</td>\n      <td>Alabama</td>\n      <td>30-34</td>\n      <td>Female</td>\n      <td>White</td>\n      <td>2001</td>\n      <td>2001</td>\n      <td>Suppressed</td>\n      <td>105165</td>\n      <td>Suppressed</td>\n    </tr>\n    <tr>\n      <th>3</th>\n      <td>NaN</td>\n      <td>Alabama</td>\n      <td>30-34</td>\n      <td>Female</td>\n      <td>White</td>\n      <td>2002</td>\n      <td>2002</td>\n      <td>Suppressed</td>\n      <td>104248</td>\n      <td>Suppressed</td>\n    </tr>\n    <tr>\n      <th>4</th>\n      <td>NaN</td>\n      <td>Alabama</td>\n      <td>30-34</td>\n      <td>Female</td>\n      <td>White</td>\n      <td>2003</td>\n      <td>2003</td>\n      <td>Suppressed</td>\n      <td>102860</td>\n      <td>Suppressed</td>\n    </tr>\n    <tr>\n      <th>...</th>\n      <td>...</td>\n      <td>...</td>\n      <td>...</td>\n      <td>...</td>\n      <td>...</td>\n      <td>...</td>\n      <td>...</td>\n      <td>...</td>\n      <td>...</td>\n      <td>...</td>\n    </tr>\n    <tr>\n      <th>15295</th>\n      <td>NaN</td>\n      <td>Wyoming</td>\n      <td>100+</td>\n      <td>Female</td>\n      <td>White</td>\n      <td>2014</td>\n      <td>2014</td>\n      <td>Suppressed</td>\n      <td>Not Applicable</td>\n      <td>Not Applicable</td>\n    </tr>\n    <tr>\n      <th>15296</th>\n      <td>NaN</td>\n      <td>Wyoming</td>\n      <td>100+</td>\n      <td>Female</td>\n      <td>White</td>\n      <td>2015</td>\n      <td>2015</td>\n      <td>Suppressed</td>\n      <td>Not Applicable</td>\n      <td>Not Applicable</td>\n    </tr>\n    <tr>\n      <th>15297</th>\n      <td>NaN</td>\n      <td>Wyoming</td>\n      <td>100+</td>\n      <td>Female</td>\n      <td>White</td>\n      <td>2016</td>\n      <td>2016</td>\n      <td>Suppressed</td>\n      <td>Not Applicable</td>\n      <td>Not Applicable</td>\n    </tr>\n    <tr>\n      <th>15298</th>\n      <td>NaN</td>\n      <td>Wyoming</td>\n      <td>100+</td>\n      <td>Female</td>\n      <td>White</td>\n      <td>2017</td>\n      <td>2017</td>\n      <td>Suppressed</td>\n      <td>Not Applicable</td>\n      <td>Not Applicable</td>\n    </tr>\n    <tr>\n      <th>15299</th>\n      <td>NaN</td>\n      <td>Wyoming</td>\n      <td>100+</td>\n      <td>Female</td>\n      <td>White</td>\n      <td>2018</td>\n      <td>2018</td>\n      <td>13</td>\n      <td>Not Applicable</td>\n      <td>Not Applicable</td>\n    </tr>\n  </tbody>\n</table>\n<p>15300 rows × 10 columns</p>\n</div>"
     },
     "metadata": {},
     "execution_count": 83
    }
   ],
   "source": [
    "white_female = white_female.rename(columns= {'Five-Year Age Groups':'age'})\n",
    "white_female"
   ]
  },
  {
   "cell_type": "code",
   "execution_count": 84,
   "metadata": {},
   "outputs": [
    {
     "output_type": "execute_result",
     "data": {
      "text/plain": [
       "       ï»¿Notes    State Five-Year Age Groups Code Gender  Ethnicity  Year  \\\n",
       "14275       NaN  Wyoming                      100+    Male     White  2014   \n",
       "14276       NaN  Wyoming                      100+    Male     White  2015   \n",
       "14277       NaN  Wyoming                      100+    Male     White  2016   \n",
       "14278       NaN  Wyoming                      100+    Male     White  2017   \n",
       "14279       NaN  Wyoming                      100+    Male     White  2018   \n",
       "\n",
       "           Deaths      Population      Crude Rate  \n",
       "14275  Suppressed  Not Applicable  Not Applicable  \n",
       "14276  Suppressed  Not Applicable  Not Applicable  \n",
       "14277  Suppressed  Not Applicable  Not Applicable  \n",
       "14278  Suppressed  Not Applicable  Not Applicable  \n",
       "14279  Suppressed  Not Applicable  Not Applicable  "
      ],
      "text/html": "<div>\n<style scoped>\n    .dataframe tbody tr th:only-of-type {\n        vertical-align: middle;\n    }\n\n    .dataframe tbody tr th {\n        vertical-align: top;\n    }\n\n    .dataframe thead th {\n        text-align: right;\n    }\n</style>\n<table border=\"1\" class=\"dataframe\">\n  <thead>\n    <tr style=\"text-align: right;\">\n      <th></th>\n      <th>ï»¿Notes</th>\n      <th>State</th>\n      <th>Five-Year Age Groups Code</th>\n      <th>Gender</th>\n      <th>Ethnicity</th>\n      <th>Year</th>\n      <th>Deaths</th>\n      <th>Population</th>\n      <th>Crude Rate</th>\n    </tr>\n  </thead>\n  <tbody>\n    <tr>\n      <th>14275</th>\n      <td>NaN</td>\n      <td>Wyoming</td>\n      <td>100+</td>\n      <td>Male</td>\n      <td>White</td>\n      <td>2014</td>\n      <td>Suppressed</td>\n      <td>Not Applicable</td>\n      <td>Not Applicable</td>\n    </tr>\n    <tr>\n      <th>14276</th>\n      <td>NaN</td>\n      <td>Wyoming</td>\n      <td>100+</td>\n      <td>Male</td>\n      <td>White</td>\n      <td>2015</td>\n      <td>Suppressed</td>\n      <td>Not Applicable</td>\n      <td>Not Applicable</td>\n    </tr>\n    <tr>\n      <th>14277</th>\n      <td>NaN</td>\n      <td>Wyoming</td>\n      <td>100+</td>\n      <td>Male</td>\n      <td>White</td>\n      <td>2016</td>\n      <td>Suppressed</td>\n      <td>Not Applicable</td>\n      <td>Not Applicable</td>\n    </tr>\n    <tr>\n      <th>14278</th>\n      <td>NaN</td>\n      <td>Wyoming</td>\n      <td>100+</td>\n      <td>Male</td>\n      <td>White</td>\n      <td>2017</td>\n      <td>Suppressed</td>\n      <td>Not Applicable</td>\n      <td>Not Applicable</td>\n    </tr>\n    <tr>\n      <th>14279</th>\n      <td>NaN</td>\n      <td>Wyoming</td>\n      <td>100+</td>\n      <td>Male</td>\n      <td>White</td>\n      <td>2018</td>\n      <td>Suppressed</td>\n      <td>Not Applicable</td>\n      <td>Not Applicable</td>\n    </tr>\n  </tbody>\n</table>\n</div>"
     },
     "metadata": {},
     "execution_count": 84
    }
   ],
   "source": [
    "white_male.tail()"
   ]
  },
  {
   "cell_type": "code",
   "execution_count": 116,
   "metadata": {},
   "outputs": [
    {
     "output_type": "execute_result",
     "data": {
      "text/plain": [
       "       ï»¿Notes    State    age Gender  Ethnicity  Year      Deaths  \\\n",
       "0           NaN  Alabama  35-39    Male     White  1999  Suppressed   \n",
       "1           NaN  Alabama  35-39    Male     White  2000  Suppressed   \n",
       "2           NaN  Alabama  35-39    Male     White  2001  Suppressed   \n",
       "3           NaN  Alabama  35-39    Male     White  2002  Suppressed   \n",
       "4           NaN  Alabama  35-39    Male     White  2003  Suppressed   \n",
       "...         ...      ...    ...     ...       ...   ...         ...   \n",
       "14275       NaN  Wyoming   100+    Male     White  2014  Suppressed   \n",
       "14276       NaN  Wyoming   100+    Male     White  2015  Suppressed   \n",
       "14277       NaN  Wyoming   100+    Male     White  2016  Suppressed   \n",
       "14278       NaN  Wyoming   100+    Male     White  2017  Suppressed   \n",
       "14279       NaN  Wyoming   100+    Male     White  2018  Suppressed   \n",
       "\n",
       "           Population      Crude Rate  \n",
       "0              123893      Suppressed  \n",
       "1              122289      Suppressed  \n",
       "2              117693      Suppressed  \n",
       "3              113632      Suppressed  \n",
       "4              110121      Suppressed  \n",
       "...               ...             ...  \n",
       "14275  Not Applicable  Not Applicable  \n",
       "14276  Not Applicable  Not Applicable  \n",
       "14277  Not Applicable  Not Applicable  \n",
       "14278  Not Applicable  Not Applicable  \n",
       "14279  Not Applicable  Not Applicable  \n",
       "\n",
       "[14280 rows x 9 columns]"
      ],
      "text/html": "<div>\n<style scoped>\n    .dataframe tbody tr th:only-of-type {\n        vertical-align: middle;\n    }\n\n    .dataframe tbody tr th {\n        vertical-align: top;\n    }\n\n    .dataframe thead th {\n        text-align: right;\n    }\n</style>\n<table border=\"1\" class=\"dataframe\">\n  <thead>\n    <tr style=\"text-align: right;\">\n      <th></th>\n      <th>ï»¿Notes</th>\n      <th>State</th>\n      <th>age</th>\n      <th>Gender</th>\n      <th>Ethnicity</th>\n      <th>Year</th>\n      <th>Deaths</th>\n      <th>Population</th>\n      <th>Crude Rate</th>\n    </tr>\n  </thead>\n  <tbody>\n    <tr>\n      <th>0</th>\n      <td>NaN</td>\n      <td>Alabama</td>\n      <td>35-39</td>\n      <td>Male</td>\n      <td>White</td>\n      <td>1999</td>\n      <td>Suppressed</td>\n      <td>123893</td>\n      <td>Suppressed</td>\n    </tr>\n    <tr>\n      <th>1</th>\n      <td>NaN</td>\n      <td>Alabama</td>\n      <td>35-39</td>\n      <td>Male</td>\n      <td>White</td>\n      <td>2000</td>\n      <td>Suppressed</td>\n      <td>122289</td>\n      <td>Suppressed</td>\n    </tr>\n    <tr>\n      <th>2</th>\n      <td>NaN</td>\n      <td>Alabama</td>\n      <td>35-39</td>\n      <td>Male</td>\n      <td>White</td>\n      <td>2001</td>\n      <td>Suppressed</td>\n      <td>117693</td>\n      <td>Suppressed</td>\n    </tr>\n    <tr>\n      <th>3</th>\n      <td>NaN</td>\n      <td>Alabama</td>\n      <td>35-39</td>\n      <td>Male</td>\n      <td>White</td>\n      <td>2002</td>\n      <td>Suppressed</td>\n      <td>113632</td>\n      <td>Suppressed</td>\n    </tr>\n    <tr>\n      <th>4</th>\n      <td>NaN</td>\n      <td>Alabama</td>\n      <td>35-39</td>\n      <td>Male</td>\n      <td>White</td>\n      <td>2003</td>\n      <td>Suppressed</td>\n      <td>110121</td>\n      <td>Suppressed</td>\n    </tr>\n    <tr>\n      <th>...</th>\n      <td>...</td>\n      <td>...</td>\n      <td>...</td>\n      <td>...</td>\n      <td>...</td>\n      <td>...</td>\n      <td>...</td>\n      <td>...</td>\n      <td>...</td>\n    </tr>\n    <tr>\n      <th>14275</th>\n      <td>NaN</td>\n      <td>Wyoming</td>\n      <td>100+</td>\n      <td>Male</td>\n      <td>White</td>\n      <td>2014</td>\n      <td>Suppressed</td>\n      <td>Not Applicable</td>\n      <td>Not Applicable</td>\n    </tr>\n    <tr>\n      <th>14276</th>\n      <td>NaN</td>\n      <td>Wyoming</td>\n      <td>100+</td>\n      <td>Male</td>\n      <td>White</td>\n      <td>2015</td>\n      <td>Suppressed</td>\n      <td>Not Applicable</td>\n      <td>Not Applicable</td>\n    </tr>\n    <tr>\n      <th>14277</th>\n      <td>NaN</td>\n      <td>Wyoming</td>\n      <td>100+</td>\n      <td>Male</td>\n      <td>White</td>\n      <td>2016</td>\n      <td>Suppressed</td>\n      <td>Not Applicable</td>\n      <td>Not Applicable</td>\n    </tr>\n    <tr>\n      <th>14278</th>\n      <td>NaN</td>\n      <td>Wyoming</td>\n      <td>100+</td>\n      <td>Male</td>\n      <td>White</td>\n      <td>2017</td>\n      <td>Suppressed</td>\n      <td>Not Applicable</td>\n      <td>Not Applicable</td>\n    </tr>\n    <tr>\n      <th>14279</th>\n      <td>NaN</td>\n      <td>Wyoming</td>\n      <td>100+</td>\n      <td>Male</td>\n      <td>White</td>\n      <td>2018</td>\n      <td>Suppressed</td>\n      <td>Not Applicable</td>\n      <td>Not Applicable</td>\n    </tr>\n  </tbody>\n</table>\n<p>14280 rows × 9 columns</p>\n</div>"
     },
     "metadata": {},
     "execution_count": 116
    }
   ],
   "source": [
    "white_male.rename(columns = {'Five-Year Age Groups Code':'age'})"
   ]
  },
  {
   "cell_type": "code",
   "execution_count": 118,
   "metadata": {},
   "outputs": [
    {
     "output_type": "execute_result",
     "data": {
      "text/plain": [
       "       ï»¿Notes    State  State Code Five-Year Age Groups  \\\n",
       "15295       NaN  Wyoming          56           100+ years   \n",
       "15296       NaN  Wyoming          56           100+ years   \n",
       "15297       NaN  Wyoming          56           100+ years   \n",
       "15298       NaN  Wyoming          56           100+ years   \n",
       "15299       NaN  Wyoming          56           100+ years   \n",
       "\n",
       "      Five-Year Age Groups Code Ethnicity Gender Gender Code  Year  Year Code  \\\n",
       "15295                      100+     Black   Male           M  2014       2014   \n",
       "15296                      100+     Black   Male           M  2015       2015   \n",
       "15297                      100+     Black   Male           M  2016       2016   \n",
       "15298                      100+     Black   Male           M  2017       2017   \n",
       "15299                      100+     Black   Male           M  2018       2018   \n",
       "\n",
       "           Deaths      Population      Crude Rate  \n",
       "15295  Suppressed  Not Applicable  Not Applicable  \n",
       "15296  Suppressed  Not Applicable  Not Applicable  \n",
       "15297  Suppressed  Not Applicable  Not Applicable  \n",
       "15298  Suppressed  Not Applicable  Not Applicable  \n",
       "15299  Suppressed  Not Applicable  Not Applicable  "
      ],
      "text/html": "<div>\n<style scoped>\n    .dataframe tbody tr th:only-of-type {\n        vertical-align: middle;\n    }\n\n    .dataframe tbody tr th {\n        vertical-align: top;\n    }\n\n    .dataframe thead th {\n        text-align: right;\n    }\n</style>\n<table border=\"1\" class=\"dataframe\">\n  <thead>\n    <tr style=\"text-align: right;\">\n      <th></th>\n      <th>ï»¿Notes</th>\n      <th>State</th>\n      <th>State Code</th>\n      <th>Five-Year Age Groups</th>\n      <th>Five-Year Age Groups Code</th>\n      <th>Ethnicity</th>\n      <th>Gender</th>\n      <th>Gender Code</th>\n      <th>Year</th>\n      <th>Year Code</th>\n      <th>Deaths</th>\n      <th>Population</th>\n      <th>Crude Rate</th>\n    </tr>\n  </thead>\n  <tbody>\n    <tr>\n      <th>15295</th>\n      <td>NaN</td>\n      <td>Wyoming</td>\n      <td>56</td>\n      <td>100+ years</td>\n      <td>100+</td>\n      <td>Black</td>\n      <td>Male</td>\n      <td>M</td>\n      <td>2014</td>\n      <td>2014</td>\n      <td>Suppressed</td>\n      <td>Not Applicable</td>\n      <td>Not Applicable</td>\n    </tr>\n    <tr>\n      <th>15296</th>\n      <td>NaN</td>\n      <td>Wyoming</td>\n      <td>56</td>\n      <td>100+ years</td>\n      <td>100+</td>\n      <td>Black</td>\n      <td>Male</td>\n      <td>M</td>\n      <td>2015</td>\n      <td>2015</td>\n      <td>Suppressed</td>\n      <td>Not Applicable</td>\n      <td>Not Applicable</td>\n    </tr>\n    <tr>\n      <th>15297</th>\n      <td>NaN</td>\n      <td>Wyoming</td>\n      <td>56</td>\n      <td>100+ years</td>\n      <td>100+</td>\n      <td>Black</td>\n      <td>Male</td>\n      <td>M</td>\n      <td>2016</td>\n      <td>2016</td>\n      <td>Suppressed</td>\n      <td>Not Applicable</td>\n      <td>Not Applicable</td>\n    </tr>\n    <tr>\n      <th>15298</th>\n      <td>NaN</td>\n      <td>Wyoming</td>\n      <td>56</td>\n      <td>100+ years</td>\n      <td>100+</td>\n      <td>Black</td>\n      <td>Male</td>\n      <td>M</td>\n      <td>2017</td>\n      <td>2017</td>\n      <td>Suppressed</td>\n      <td>Not Applicable</td>\n      <td>Not Applicable</td>\n    </tr>\n    <tr>\n      <th>15299</th>\n      <td>NaN</td>\n      <td>Wyoming</td>\n      <td>56</td>\n      <td>100+ years</td>\n      <td>100+</td>\n      <td>Black</td>\n      <td>Male</td>\n      <td>M</td>\n      <td>2018</td>\n      <td>2018</td>\n      <td>Suppressed</td>\n      <td>Not Applicable</td>\n      <td>Not Applicable</td>\n    </tr>\n  </tbody>\n</table>\n</div>"
     },
     "metadata": {},
     "execution_count": 118
    }
   ],
   "source": [
    "black_male.tail()"
   ]
  },
  {
   "cell_type": "code",
   "execution_count": 122,
   "metadata": {},
   "outputs": [
    {
     "output_type": "execute_result",
     "data": {
      "text/plain": [
       "   ï»¿Notes    State Five-Year Age Groups Code Ethnicity Gender  Year  \\\n",
       "0       NaN  Alabama                     30-34     Black   Male  1999   \n",
       "1       NaN  Alabama                     30-34     Black   Male  2000   \n",
       "2       NaN  Alabama                     30-34     Black   Male  2001   \n",
       "3       NaN  Alabama                     30-34     Black   Male  2002   \n",
       "4       NaN  Alabama                     30-34     Black   Male  2003   \n",
       "\n",
       "       Deaths Population  Crude Rate  \n",
       "0  Suppressed      34931  Suppressed  \n",
       "1  Suppressed      34821  Suppressed  \n",
       "2  Suppressed      34582  Suppressed  \n",
       "3  Suppressed      34999  Suppressed  \n",
       "4  Suppressed      35431  Suppressed  "
      ],
      "text/html": "<div>\n<style scoped>\n    .dataframe tbody tr th:only-of-type {\n        vertical-align: middle;\n    }\n\n    .dataframe tbody tr th {\n        vertical-align: top;\n    }\n\n    .dataframe thead th {\n        text-align: right;\n    }\n</style>\n<table border=\"1\" class=\"dataframe\">\n  <thead>\n    <tr style=\"text-align: right;\">\n      <th></th>\n      <th>ï»¿Notes</th>\n      <th>State</th>\n      <th>Five-Year Age Groups Code</th>\n      <th>Ethnicity</th>\n      <th>Gender</th>\n      <th>Year</th>\n      <th>Deaths</th>\n      <th>Population</th>\n      <th>Crude Rate</th>\n    </tr>\n  </thead>\n  <tbody>\n    <tr>\n      <th>0</th>\n      <td>NaN</td>\n      <td>Alabama</td>\n      <td>30-34</td>\n      <td>Black</td>\n      <td>Male</td>\n      <td>1999</td>\n      <td>Suppressed</td>\n      <td>34931</td>\n      <td>Suppressed</td>\n    </tr>\n    <tr>\n      <th>1</th>\n      <td>NaN</td>\n      <td>Alabama</td>\n      <td>30-34</td>\n      <td>Black</td>\n      <td>Male</td>\n      <td>2000</td>\n      <td>Suppressed</td>\n      <td>34821</td>\n      <td>Suppressed</td>\n    </tr>\n    <tr>\n      <th>2</th>\n      <td>NaN</td>\n      <td>Alabama</td>\n      <td>30-34</td>\n      <td>Black</td>\n      <td>Male</td>\n      <td>2001</td>\n      <td>Suppressed</td>\n      <td>34582</td>\n      <td>Suppressed</td>\n    </tr>\n    <tr>\n      <th>3</th>\n      <td>NaN</td>\n      <td>Alabama</td>\n      <td>30-34</td>\n      <td>Black</td>\n      <td>Male</td>\n      <td>2002</td>\n      <td>Suppressed</td>\n      <td>34999</td>\n      <td>Suppressed</td>\n    </tr>\n    <tr>\n      <th>4</th>\n      <td>NaN</td>\n      <td>Alabama</td>\n      <td>30-34</td>\n      <td>Black</td>\n      <td>Male</td>\n      <td>2003</td>\n      <td>Suppressed</td>\n      <td>35431</td>\n      <td>Suppressed</td>\n    </tr>\n  </tbody>\n</table>\n</div>"
     },
     "metadata": {},
     "execution_count": 122
    }
   ],
   "source": [
    "#black_male = black_male.drop(columns = ['State Code','Five-Year Age Groups','Gender Code','Year Code']) Dropping columns\n",
    "black_male.head()"
   ]
  },
  {
   "cell_type": "code",
   "execution_count": 127,
   "metadata": {},
   "outputs": [
    {
     "output_type": "execute_result",
     "data": {
      "text/plain": [
       "   ï»¿Notes    State    age Ethnicity Gender  Year      Deaths Population  \\\n",
       "0       NaN  Alabama  30-34     Black   Male  1999  Suppressed      34931   \n",
       "1       NaN  Alabama  30-34     Black   Male  2000  Suppressed      34821   \n",
       "2       NaN  Alabama  30-34     Black   Male  2001  Suppressed      34582   \n",
       "3       NaN  Alabama  30-34     Black   Male  2002  Suppressed      34999   \n",
       "4       NaN  Alabama  30-34     Black   Male  2003  Suppressed      35431   \n",
       "\n",
       "   Crude Rate  \n",
       "0  Suppressed  \n",
       "1  Suppressed  \n",
       "2  Suppressed  \n",
       "3  Suppressed  \n",
       "4  Suppressed  "
      ],
      "text/html": "<div>\n<style scoped>\n    .dataframe tbody tr th:only-of-type {\n        vertical-align: middle;\n    }\n\n    .dataframe tbody tr th {\n        vertical-align: top;\n    }\n\n    .dataframe thead th {\n        text-align: right;\n    }\n</style>\n<table border=\"1\" class=\"dataframe\">\n  <thead>\n    <tr style=\"text-align: right;\">\n      <th></th>\n      <th>ï»¿Notes</th>\n      <th>State</th>\n      <th>age</th>\n      <th>Ethnicity</th>\n      <th>Gender</th>\n      <th>Year</th>\n      <th>Deaths</th>\n      <th>Population</th>\n      <th>Crude Rate</th>\n    </tr>\n  </thead>\n  <tbody>\n    <tr>\n      <th>0</th>\n      <td>NaN</td>\n      <td>Alabama</td>\n      <td>30-34</td>\n      <td>Black</td>\n      <td>Male</td>\n      <td>1999</td>\n      <td>Suppressed</td>\n      <td>34931</td>\n      <td>Suppressed</td>\n    </tr>\n    <tr>\n      <th>1</th>\n      <td>NaN</td>\n      <td>Alabama</td>\n      <td>30-34</td>\n      <td>Black</td>\n      <td>Male</td>\n      <td>2000</td>\n      <td>Suppressed</td>\n      <td>34821</td>\n      <td>Suppressed</td>\n    </tr>\n    <tr>\n      <th>2</th>\n      <td>NaN</td>\n      <td>Alabama</td>\n      <td>30-34</td>\n      <td>Black</td>\n      <td>Male</td>\n      <td>2001</td>\n      <td>Suppressed</td>\n      <td>34582</td>\n      <td>Suppressed</td>\n    </tr>\n    <tr>\n      <th>3</th>\n      <td>NaN</td>\n      <td>Alabama</td>\n      <td>30-34</td>\n      <td>Black</td>\n      <td>Male</td>\n      <td>2002</td>\n      <td>Suppressed</td>\n      <td>34999</td>\n      <td>Suppressed</td>\n    </tr>\n    <tr>\n      <th>4</th>\n      <td>NaN</td>\n      <td>Alabama</td>\n      <td>30-34</td>\n      <td>Black</td>\n      <td>Male</td>\n      <td>2003</td>\n      <td>Suppressed</td>\n      <td>35431</td>\n      <td>Suppressed</td>\n    </tr>\n  </tbody>\n</table>\n</div>"
     },
     "metadata": {},
     "execution_count": 127
    }
   ],
   "source": [
    "black_male = black_male.rename(columns = {'Five-Year Age Groups Code': 'age'})\n",
    "black_male.head()"
   ]
  },
  {
   "cell_type": "code",
   "execution_count": 96,
   "metadata": {},
   "outputs": [
    {
     "output_type": "execute_result",
     "data": {
      "text/plain": [
       "       ï»¿Notes    State  State Code Five-Year Age Groups  \\\n",
       "15295       NaN  Wyoming          56           100+ years   \n",
       "15296       NaN  Wyoming          56           100+ years   \n",
       "15297       NaN  Wyoming          56           100+ years   \n",
       "15298       NaN  Wyoming          56           100+ years   \n",
       "15299       NaN  Wyoming          56           100+ years   \n",
       "\n",
       "      Five-Year Age Groups Code Ethnicity  Gender Gender Code  Year  \\\n",
       "15295                      100+     Black  Female           F  2014   \n",
       "15296                      100+     Black  Female           F  2015   \n",
       "15297                      100+     Black  Female           F  2016   \n",
       "15298                      100+     Black  Female           F  2017   \n",
       "15299                      100+     Black  Female           F  2018   \n",
       "\n",
       "       Year Code      Deaths      Population      Crude Rate  \n",
       "15295       2014  Suppressed  Not Applicable  Not Applicable  \n",
       "15296       2015  Suppressed  Not Applicable  Not Applicable  \n",
       "15297       2016  Suppressed  Not Applicable  Not Applicable  \n",
       "15298       2017  Suppressed  Not Applicable  Not Applicable  \n",
       "15299       2018  Suppressed  Not Applicable  Not Applicable  "
      ],
      "text/html": "<div>\n<style scoped>\n    .dataframe tbody tr th:only-of-type {\n        vertical-align: middle;\n    }\n\n    .dataframe tbody tr th {\n        vertical-align: top;\n    }\n\n    .dataframe thead th {\n        text-align: right;\n    }\n</style>\n<table border=\"1\" class=\"dataframe\">\n  <thead>\n    <tr style=\"text-align: right;\">\n      <th></th>\n      <th>ï»¿Notes</th>\n      <th>State</th>\n      <th>State Code</th>\n      <th>Five-Year Age Groups</th>\n      <th>Five-Year Age Groups Code</th>\n      <th>Ethnicity</th>\n      <th>Gender</th>\n      <th>Gender Code</th>\n      <th>Year</th>\n      <th>Year Code</th>\n      <th>Deaths</th>\n      <th>Population</th>\n      <th>Crude Rate</th>\n    </tr>\n  </thead>\n  <tbody>\n    <tr>\n      <th>15295</th>\n      <td>NaN</td>\n      <td>Wyoming</td>\n      <td>56</td>\n      <td>100+ years</td>\n      <td>100+</td>\n      <td>Black</td>\n      <td>Female</td>\n      <td>F</td>\n      <td>2014</td>\n      <td>2014</td>\n      <td>Suppressed</td>\n      <td>Not Applicable</td>\n      <td>Not Applicable</td>\n    </tr>\n    <tr>\n      <th>15296</th>\n      <td>NaN</td>\n      <td>Wyoming</td>\n      <td>56</td>\n      <td>100+ years</td>\n      <td>100+</td>\n      <td>Black</td>\n      <td>Female</td>\n      <td>F</td>\n      <td>2015</td>\n      <td>2015</td>\n      <td>Suppressed</td>\n      <td>Not Applicable</td>\n      <td>Not Applicable</td>\n    </tr>\n    <tr>\n      <th>15297</th>\n      <td>NaN</td>\n      <td>Wyoming</td>\n      <td>56</td>\n      <td>100+ years</td>\n      <td>100+</td>\n      <td>Black</td>\n      <td>Female</td>\n      <td>F</td>\n      <td>2016</td>\n      <td>2016</td>\n      <td>Suppressed</td>\n      <td>Not Applicable</td>\n      <td>Not Applicable</td>\n    </tr>\n    <tr>\n      <th>15298</th>\n      <td>NaN</td>\n      <td>Wyoming</td>\n      <td>56</td>\n      <td>100+ years</td>\n      <td>100+</td>\n      <td>Black</td>\n      <td>Female</td>\n      <td>F</td>\n      <td>2017</td>\n      <td>2017</td>\n      <td>Suppressed</td>\n      <td>Not Applicable</td>\n      <td>Not Applicable</td>\n    </tr>\n    <tr>\n      <th>15299</th>\n      <td>NaN</td>\n      <td>Wyoming</td>\n      <td>56</td>\n      <td>100+ years</td>\n      <td>100+</td>\n      <td>Black</td>\n      <td>Female</td>\n      <td>F</td>\n      <td>2018</td>\n      <td>2018</td>\n      <td>Suppressed</td>\n      <td>Not Applicable</td>\n      <td>Not Applicable</td>\n    </tr>\n  </tbody>\n</table>\n</div>"
     },
     "metadata": {},
     "execution_count": 96
    }
   ],
   "source": [
    "black_female.tail()"
   ]
  },
  {
   "cell_type": "code",
   "execution_count": 128,
   "metadata": {},
   "outputs": [
    {
     "output_type": "execute_result",
     "data": {
      "text/plain": [
       "   ï»¿Notes    State    age Ethnicity  Gender  Year      Deaths Population  \\\n",
       "0       NaN  Alabama  30-34     Black  Female  1999  Suppressed      42324   \n",
       "1       NaN  Alabama  30-34     Black  Female  2000  Suppressed      42199   \n",
       "2       NaN  Alabama  30-34     Black  Female  2001  Suppressed      42199   \n",
       "3       NaN  Alabama  30-34     Black  Female  2002  Suppressed      42531   \n",
       "4       NaN  Alabama  30-34     Black  Female  2003  Suppressed      42992   \n",
       "\n",
       "   Crude Rate  \n",
       "0  Suppressed  \n",
       "1  Suppressed  \n",
       "2  Suppressed  \n",
       "3  Suppressed  \n",
       "4  Suppressed  "
      ],
      "text/html": "<div>\n<style scoped>\n    .dataframe tbody tr th:only-of-type {\n        vertical-align: middle;\n    }\n\n    .dataframe tbody tr th {\n        vertical-align: top;\n    }\n\n    .dataframe thead th {\n        text-align: right;\n    }\n</style>\n<table border=\"1\" class=\"dataframe\">\n  <thead>\n    <tr style=\"text-align: right;\">\n      <th></th>\n      <th>ï»¿Notes</th>\n      <th>State</th>\n      <th>age</th>\n      <th>Ethnicity</th>\n      <th>Gender</th>\n      <th>Year</th>\n      <th>Deaths</th>\n      <th>Population</th>\n      <th>Crude Rate</th>\n    </tr>\n  </thead>\n  <tbody>\n    <tr>\n      <th>0</th>\n      <td>NaN</td>\n      <td>Alabama</td>\n      <td>30-34</td>\n      <td>Black</td>\n      <td>Female</td>\n      <td>1999</td>\n      <td>Suppressed</td>\n      <td>42324</td>\n      <td>Suppressed</td>\n    </tr>\n    <tr>\n      <th>1</th>\n      <td>NaN</td>\n      <td>Alabama</td>\n      <td>30-34</td>\n      <td>Black</td>\n      <td>Female</td>\n      <td>2000</td>\n      <td>Suppressed</td>\n      <td>42199</td>\n      <td>Suppressed</td>\n    </tr>\n    <tr>\n      <th>2</th>\n      <td>NaN</td>\n      <td>Alabama</td>\n      <td>30-34</td>\n      <td>Black</td>\n      <td>Female</td>\n      <td>2001</td>\n      <td>Suppressed</td>\n      <td>42199</td>\n      <td>Suppressed</td>\n    </tr>\n    <tr>\n      <th>3</th>\n      <td>NaN</td>\n      <td>Alabama</td>\n      <td>30-34</td>\n      <td>Black</td>\n      <td>Female</td>\n      <td>2002</td>\n      <td>Suppressed</td>\n      <td>42531</td>\n      <td>Suppressed</td>\n    </tr>\n    <tr>\n      <th>4</th>\n      <td>NaN</td>\n      <td>Alabama</td>\n      <td>30-34</td>\n      <td>Black</td>\n      <td>Female</td>\n      <td>2003</td>\n      <td>Suppressed</td>\n      <td>42992</td>\n      <td>Suppressed</td>\n    </tr>\n  </tbody>\n</table>\n</div>"
     },
     "metadata": {},
     "execution_count": 128
    }
   ],
   "source": [
    "black_female = black_female.drop(columns = ['State Code','Five-Year Age Groups','Gender Code','Year Code'])\n",
    "black_female = black_female.rename(columns = {'Five-Year Age Groups Code':'age'})\n",
    "black_female.head()"
   ]
  },
  {
   "cell_type": "code",
   "execution_count": 99,
   "metadata": {},
   "outputs": [
    {
     "output_type": "execute_result",
     "data": {
      "text/plain": [
       "      ï»¿Notes    State  State Code Five-Year Age Groups  \\\n",
       "16875      NaN  Wyoming          56           100+ years   \n",
       "16876      NaN  Wyoming          56           100+ years   \n",
       "16877      NaN  Wyoming          56           100+ years   \n",
       "16878    Total  Wyoming          56           100+ years   \n",
       "16879    Total  Wyoming          56           100+ years   \n",
       "\n",
       "      Five-Year Age Groups Code Ethnicity Gender Gender Code    Year  \\\n",
       "16875                      100+  Hispanic   Male           M  2016.0   \n",
       "16876                      100+  Hispanic   Male           M  2017.0   \n",
       "16877                      100+  Hispanic   Male           M  2018.0   \n",
       "16878                      100+  Hispanic   Male           M     NaN   \n",
       "16879                      100+  Hispanic    NaN         NaN     NaN   \n",
       "\n",
       "       Year Code      Deaths      Population      Crude Rate  \n",
       "16875     2016.0  Suppressed  Not Applicable  Not Applicable  \n",
       "16876     2017.0  Suppressed  Not Applicable  Not Applicable  \n",
       "16877     2018.0  Suppressed  Not Applicable  Not Applicable  \n",
       "16878        NaN  Suppressed  Not Applicable  Not Applicable  \n",
       "16879        NaN  Suppressed  Not Applicable  Not Applicable  "
      ],
      "text/html": "<div>\n<style scoped>\n    .dataframe tbody tr th:only-of-type {\n        vertical-align: middle;\n    }\n\n    .dataframe tbody tr th {\n        vertical-align: top;\n    }\n\n    .dataframe thead th {\n        text-align: right;\n    }\n</style>\n<table border=\"1\" class=\"dataframe\">\n  <thead>\n    <tr style=\"text-align: right;\">\n      <th></th>\n      <th>ï»¿Notes</th>\n      <th>State</th>\n      <th>State Code</th>\n      <th>Five-Year Age Groups</th>\n      <th>Five-Year Age Groups Code</th>\n      <th>Ethnicity</th>\n      <th>Gender</th>\n      <th>Gender Code</th>\n      <th>Year</th>\n      <th>Year Code</th>\n      <th>Deaths</th>\n      <th>Population</th>\n      <th>Crude Rate</th>\n    </tr>\n  </thead>\n  <tbody>\n    <tr>\n      <th>16875</th>\n      <td>NaN</td>\n      <td>Wyoming</td>\n      <td>56</td>\n      <td>100+ years</td>\n      <td>100+</td>\n      <td>Hispanic</td>\n      <td>Male</td>\n      <td>M</td>\n      <td>2016.0</td>\n      <td>2016.0</td>\n      <td>Suppressed</td>\n      <td>Not Applicable</td>\n      <td>Not Applicable</td>\n    </tr>\n    <tr>\n      <th>16876</th>\n      <td>NaN</td>\n      <td>Wyoming</td>\n      <td>56</td>\n      <td>100+ years</td>\n      <td>100+</td>\n      <td>Hispanic</td>\n      <td>Male</td>\n      <td>M</td>\n      <td>2017.0</td>\n      <td>2017.0</td>\n      <td>Suppressed</td>\n      <td>Not Applicable</td>\n      <td>Not Applicable</td>\n    </tr>\n    <tr>\n      <th>16877</th>\n      <td>NaN</td>\n      <td>Wyoming</td>\n      <td>56</td>\n      <td>100+ years</td>\n      <td>100+</td>\n      <td>Hispanic</td>\n      <td>Male</td>\n      <td>M</td>\n      <td>2018.0</td>\n      <td>2018.0</td>\n      <td>Suppressed</td>\n      <td>Not Applicable</td>\n      <td>Not Applicable</td>\n    </tr>\n    <tr>\n      <th>16878</th>\n      <td>Total</td>\n      <td>Wyoming</td>\n      <td>56</td>\n      <td>100+ years</td>\n      <td>100+</td>\n      <td>Hispanic</td>\n      <td>Male</td>\n      <td>M</td>\n      <td>NaN</td>\n      <td>NaN</td>\n      <td>Suppressed</td>\n      <td>Not Applicable</td>\n      <td>Not Applicable</td>\n    </tr>\n    <tr>\n      <th>16879</th>\n      <td>Total</td>\n      <td>Wyoming</td>\n      <td>56</td>\n      <td>100+ years</td>\n      <td>100+</td>\n      <td>Hispanic</td>\n      <td>NaN</td>\n      <td>NaN</td>\n      <td>NaN</td>\n      <td>NaN</td>\n      <td>Suppressed</td>\n      <td>Not Applicable</td>\n      <td>Not Applicable</td>\n    </tr>\n  </tbody>\n</table>\n</div>"
     },
     "metadata": {},
     "execution_count": 99
    }
   ],
   "source": [
    "hispanic_male.tail()"
   ]
  },
  {
   "cell_type": "code",
   "execution_count": 129,
   "metadata": {},
   "outputs": [
    {
     "output_type": "execute_result",
     "data": {
      "text/plain": [
       "  ï»¿Notes    State    age Ethnicity Gender    Year      Deaths Population  \\\n",
       "0      NaN  Alabama  30-34  Hispanic   Male  1999.0  Suppressed       3858   \n",
       "1      NaN  Alabama  30-34  Hispanic   Male  2000.0  Suppressed       4307   \n",
       "2      NaN  Alabama  30-34  Hispanic   Male  2001.0  Suppressed       5009   \n",
       "3      NaN  Alabama  30-34  Hispanic   Male  2002.0  Suppressed       5775   \n",
       "4      NaN  Alabama  30-34  Hispanic   Male  2003.0  Suppressed       6524   \n",
       "\n",
       "   Crude Rate  \n",
       "0  Suppressed  \n",
       "1  Suppressed  \n",
       "2  Suppressed  \n",
       "3  Suppressed  \n",
       "4  Suppressed  "
      ],
      "text/html": "<div>\n<style scoped>\n    .dataframe tbody tr th:only-of-type {\n        vertical-align: middle;\n    }\n\n    .dataframe tbody tr th {\n        vertical-align: top;\n    }\n\n    .dataframe thead th {\n        text-align: right;\n    }\n</style>\n<table border=\"1\" class=\"dataframe\">\n  <thead>\n    <tr style=\"text-align: right;\">\n      <th></th>\n      <th>ï»¿Notes</th>\n      <th>State</th>\n      <th>age</th>\n      <th>Ethnicity</th>\n      <th>Gender</th>\n      <th>Year</th>\n      <th>Deaths</th>\n      <th>Population</th>\n      <th>Crude Rate</th>\n    </tr>\n  </thead>\n  <tbody>\n    <tr>\n      <th>0</th>\n      <td>NaN</td>\n      <td>Alabama</td>\n      <td>30-34</td>\n      <td>Hispanic</td>\n      <td>Male</td>\n      <td>1999.0</td>\n      <td>Suppressed</td>\n      <td>3858</td>\n      <td>Suppressed</td>\n    </tr>\n    <tr>\n      <th>1</th>\n      <td>NaN</td>\n      <td>Alabama</td>\n      <td>30-34</td>\n      <td>Hispanic</td>\n      <td>Male</td>\n      <td>2000.0</td>\n      <td>Suppressed</td>\n      <td>4307</td>\n      <td>Suppressed</td>\n    </tr>\n    <tr>\n      <th>2</th>\n      <td>NaN</td>\n      <td>Alabama</td>\n      <td>30-34</td>\n      <td>Hispanic</td>\n      <td>Male</td>\n      <td>2001.0</td>\n      <td>Suppressed</td>\n      <td>5009</td>\n      <td>Suppressed</td>\n    </tr>\n    <tr>\n      <th>3</th>\n      <td>NaN</td>\n      <td>Alabama</td>\n      <td>30-34</td>\n      <td>Hispanic</td>\n      <td>Male</td>\n      <td>2002.0</td>\n      <td>Suppressed</td>\n      <td>5775</td>\n      <td>Suppressed</td>\n    </tr>\n    <tr>\n      <th>4</th>\n      <td>NaN</td>\n      <td>Alabama</td>\n      <td>30-34</td>\n      <td>Hispanic</td>\n      <td>Male</td>\n      <td>2003.0</td>\n      <td>Suppressed</td>\n      <td>6524</td>\n      <td>Suppressed</td>\n    </tr>\n  </tbody>\n</table>\n</div>"
     },
     "metadata": {},
     "execution_count": 129
    }
   ],
   "source": [
    "hispanic_male = hispanic_male.drop(columns = ['State Code','Five-Year Age Groups','Gender Code','Year Code'])\n",
    "hispanic_male = hispanic_male.rename(columns = {'Five-Year Age Groups Code':'age'})\n",
    "hispanic_male.head()"
   ]
  },
  {
   "cell_type": "code",
   "execution_count": 103,
   "metadata": {},
   "outputs": [
    {
     "output_type": "execute_result",
     "data": {
      "text/plain": [
       "       ï»¿Notes    State  State Code Five-Year Age Groups  \\\n",
       "15295       NaN  Wyoming          56           100+ years   \n",
       "15296       NaN  Wyoming          56           100+ years   \n",
       "15297       NaN  Wyoming          56           100+ years   \n",
       "15298       NaN  Wyoming          56           100+ years   \n",
       "15299       NaN  Wyoming          56           100+ years   \n",
       "\n",
       "      Five-Year Age Groups Code Ethnicity  Gender Gender Code  Year  \\\n",
       "15295                      100+  Hispanic  Female           F  2014   \n",
       "15296                      100+  Hispanic  Female           F  2015   \n",
       "15297                      100+  Hispanic  Female           F  2016   \n",
       "15298                      100+  Hispanic  Female           F  2017   \n",
       "15299                      100+  Hispanic  Female           F  2018   \n",
       "\n",
       "       Year Code      Deaths      Population      Crude Rate  \n",
       "15295       2014  Suppressed  Not Applicable  Not Applicable  \n",
       "15296       2015  Suppressed  Not Applicable  Not Applicable  \n",
       "15297       2016  Suppressed  Not Applicable  Not Applicable  \n",
       "15298       2017  Suppressed  Not Applicable  Not Applicable  \n",
       "15299       2018  Suppressed  Not Applicable  Not Applicable  "
      ],
      "text/html": "<div>\n<style scoped>\n    .dataframe tbody tr th:only-of-type {\n        vertical-align: middle;\n    }\n\n    .dataframe tbody tr th {\n        vertical-align: top;\n    }\n\n    .dataframe thead th {\n        text-align: right;\n    }\n</style>\n<table border=\"1\" class=\"dataframe\">\n  <thead>\n    <tr style=\"text-align: right;\">\n      <th></th>\n      <th>ï»¿Notes</th>\n      <th>State</th>\n      <th>State Code</th>\n      <th>Five-Year Age Groups</th>\n      <th>Five-Year Age Groups Code</th>\n      <th>Ethnicity</th>\n      <th>Gender</th>\n      <th>Gender Code</th>\n      <th>Year</th>\n      <th>Year Code</th>\n      <th>Deaths</th>\n      <th>Population</th>\n      <th>Crude Rate</th>\n    </tr>\n  </thead>\n  <tbody>\n    <tr>\n      <th>15295</th>\n      <td>NaN</td>\n      <td>Wyoming</td>\n      <td>56</td>\n      <td>100+ years</td>\n      <td>100+</td>\n      <td>Hispanic</td>\n      <td>Female</td>\n      <td>F</td>\n      <td>2014</td>\n      <td>2014</td>\n      <td>Suppressed</td>\n      <td>Not Applicable</td>\n      <td>Not Applicable</td>\n    </tr>\n    <tr>\n      <th>15296</th>\n      <td>NaN</td>\n      <td>Wyoming</td>\n      <td>56</td>\n      <td>100+ years</td>\n      <td>100+</td>\n      <td>Hispanic</td>\n      <td>Female</td>\n      <td>F</td>\n      <td>2015</td>\n      <td>2015</td>\n      <td>Suppressed</td>\n      <td>Not Applicable</td>\n      <td>Not Applicable</td>\n    </tr>\n    <tr>\n      <th>15297</th>\n      <td>NaN</td>\n      <td>Wyoming</td>\n      <td>56</td>\n      <td>100+ years</td>\n      <td>100+</td>\n      <td>Hispanic</td>\n      <td>Female</td>\n      <td>F</td>\n      <td>2016</td>\n      <td>2016</td>\n      <td>Suppressed</td>\n      <td>Not Applicable</td>\n      <td>Not Applicable</td>\n    </tr>\n    <tr>\n      <th>15298</th>\n      <td>NaN</td>\n      <td>Wyoming</td>\n      <td>56</td>\n      <td>100+ years</td>\n      <td>100+</td>\n      <td>Hispanic</td>\n      <td>Female</td>\n      <td>F</td>\n      <td>2017</td>\n      <td>2017</td>\n      <td>Suppressed</td>\n      <td>Not Applicable</td>\n      <td>Not Applicable</td>\n    </tr>\n    <tr>\n      <th>15299</th>\n      <td>NaN</td>\n      <td>Wyoming</td>\n      <td>56</td>\n      <td>100+ years</td>\n      <td>100+</td>\n      <td>Hispanic</td>\n      <td>Female</td>\n      <td>F</td>\n      <td>2018</td>\n      <td>2018</td>\n      <td>Suppressed</td>\n      <td>Not Applicable</td>\n      <td>Not Applicable</td>\n    </tr>\n  </tbody>\n</table>\n</div>"
     },
     "metadata": {},
     "execution_count": 103
    }
   ],
   "source": [
    "hispanic_female.tail()"
   ]
  },
  {
   "cell_type": "code",
   "execution_count": 134,
   "metadata": {},
   "outputs": [
    {
     "output_type": "execute_result",
     "data": {
      "text/plain": [
       "   ï»¿Notes    State    age Ethnicity  Gender  Year      Deaths Population  \\\n",
       "0       NaN  Alabama  30-34  Hispanic  Female  1999  Suppressed       2339   \n",
       "1       NaN  Alabama  30-34  Hispanic  Female  2000  Suppressed       2742   \n",
       "2       NaN  Alabama  30-34  Hispanic  Female  2001  Suppressed       3272   \n",
       "3       NaN  Alabama  30-34  Hispanic  Female  2002  Suppressed       3592   \n",
       "4       NaN  Alabama  30-34  Hispanic  Female  2003  Suppressed       4217   \n",
       "\n",
       "   Crude Rate  \n",
       "0  Suppressed  \n",
       "1  Suppressed  \n",
       "2  Suppressed  \n",
       "3  Suppressed  \n",
       "4  Suppressed  "
      ],
      "text/html": "<div>\n<style scoped>\n    .dataframe tbody tr th:only-of-type {\n        vertical-align: middle;\n    }\n\n    .dataframe tbody tr th {\n        vertical-align: top;\n    }\n\n    .dataframe thead th {\n        text-align: right;\n    }\n</style>\n<table border=\"1\" class=\"dataframe\">\n  <thead>\n    <tr style=\"text-align: right;\">\n      <th></th>\n      <th>ï»¿Notes</th>\n      <th>State</th>\n      <th>age</th>\n      <th>Ethnicity</th>\n      <th>Gender</th>\n      <th>Year</th>\n      <th>Deaths</th>\n      <th>Population</th>\n      <th>Crude Rate</th>\n    </tr>\n  </thead>\n  <tbody>\n    <tr>\n      <th>0</th>\n      <td>NaN</td>\n      <td>Alabama</td>\n      <td>30-34</td>\n      <td>Hispanic</td>\n      <td>Female</td>\n      <td>1999</td>\n      <td>Suppressed</td>\n      <td>2339</td>\n      <td>Suppressed</td>\n    </tr>\n    <tr>\n      <th>1</th>\n      <td>NaN</td>\n      <td>Alabama</td>\n      <td>30-34</td>\n      <td>Hispanic</td>\n      <td>Female</td>\n      <td>2000</td>\n      <td>Suppressed</td>\n      <td>2742</td>\n      <td>Suppressed</td>\n    </tr>\n    <tr>\n      <th>2</th>\n      <td>NaN</td>\n      <td>Alabama</td>\n      <td>30-34</td>\n      <td>Hispanic</td>\n      <td>Female</td>\n      <td>2001</td>\n      <td>Suppressed</td>\n      <td>3272</td>\n      <td>Suppressed</td>\n    </tr>\n    <tr>\n      <th>3</th>\n      <td>NaN</td>\n      <td>Alabama</td>\n      <td>30-34</td>\n      <td>Hispanic</td>\n      <td>Female</td>\n      <td>2002</td>\n      <td>Suppressed</td>\n      <td>3592</td>\n      <td>Suppressed</td>\n    </tr>\n    <tr>\n      <th>4</th>\n      <td>NaN</td>\n      <td>Alabama</td>\n      <td>30-34</td>\n      <td>Hispanic</td>\n      <td>Female</td>\n      <td>2003</td>\n      <td>Suppressed</td>\n      <td>4217</td>\n      <td>Suppressed</td>\n    </tr>\n  </tbody>\n</table>\n</div>"
     },
     "metadata": {},
     "execution_count": 134
    }
   ],
   "source": [
    "#hispanic_female = hispanic_female.drop(columns = ['State Code','Five-Year Age Groups','Gender Code','Year Code'])\n",
    "#hispanic_female = hispanic_female.rename(columns = {'Five-Year Age Groups Code':'age'})\n",
    "hispanic_female.head()\n"
   ]
  },
  {
   "cell_type": "code",
   "execution_count": 105,
   "metadata": {},
   "outputs": [
    {
     "output_type": "execute_result",
     "data": {
      "text/plain": [
       "      ï»¿Notes    State  State Code Five-Year Age Groups  \\\n",
       "16875      NaN  Wyoming          56           100+ years   \n",
       "16876      NaN  Wyoming          56           100+ years   \n",
       "16877      NaN  Wyoming          56           100+ years   \n",
       "16878    Total  Wyoming          56           100+ years   \n",
       "16879    Total  Wyoming          56           100+ years   \n",
       "\n",
       "      Five-Year Age Groups Code                          Ethnicity  Gender  \\\n",
       "16875                      100+  American Indian or Alaskan Native  Female   \n",
       "16876                      100+  American Indian or Alaskan Native  Female   \n",
       "16877                      100+  American Indian or Alaskan Native  Female   \n",
       "16878                      100+  American Indian or Alaskan Native  Female   \n",
       "16879                      100+  American Indian or Alaskan Native     NaN   \n",
       "\n",
       "      Gender Code    Year  Year Code      Deaths      Population  \\\n",
       "16875           F  2016.0     2016.0  Suppressed  Not Applicable   \n",
       "16876           F  2017.0     2017.0  Suppressed  Not Applicable   \n",
       "16877           F  2018.0     2018.0  Suppressed  Not Applicable   \n",
       "16878           F     NaN        NaN  Suppressed  Not Applicable   \n",
       "16879         NaN     NaN        NaN  Suppressed  Not Applicable   \n",
       "\n",
       "           Crude Rate  \n",
       "16875  Not Applicable  \n",
       "16876  Not Applicable  \n",
       "16877  Not Applicable  \n",
       "16878  Not Applicable  \n",
       "16879  Not Applicable  "
      ],
      "text/html": "<div>\n<style scoped>\n    .dataframe tbody tr th:only-of-type {\n        vertical-align: middle;\n    }\n\n    .dataframe tbody tr th {\n        vertical-align: top;\n    }\n\n    .dataframe thead th {\n        text-align: right;\n    }\n</style>\n<table border=\"1\" class=\"dataframe\">\n  <thead>\n    <tr style=\"text-align: right;\">\n      <th></th>\n      <th>ï»¿Notes</th>\n      <th>State</th>\n      <th>State Code</th>\n      <th>Five-Year Age Groups</th>\n      <th>Five-Year Age Groups Code</th>\n      <th>Ethnicity</th>\n      <th>Gender</th>\n      <th>Gender Code</th>\n      <th>Year</th>\n      <th>Year Code</th>\n      <th>Deaths</th>\n      <th>Population</th>\n      <th>Crude Rate</th>\n    </tr>\n  </thead>\n  <tbody>\n    <tr>\n      <th>16875</th>\n      <td>NaN</td>\n      <td>Wyoming</td>\n      <td>56</td>\n      <td>100+ years</td>\n      <td>100+</td>\n      <td>American Indian or Alaskan Native</td>\n      <td>Female</td>\n      <td>F</td>\n      <td>2016.0</td>\n      <td>2016.0</td>\n      <td>Suppressed</td>\n      <td>Not Applicable</td>\n      <td>Not Applicable</td>\n    </tr>\n    <tr>\n      <th>16876</th>\n      <td>NaN</td>\n      <td>Wyoming</td>\n      <td>56</td>\n      <td>100+ years</td>\n      <td>100+</td>\n      <td>American Indian or Alaskan Native</td>\n      <td>Female</td>\n      <td>F</td>\n      <td>2017.0</td>\n      <td>2017.0</td>\n      <td>Suppressed</td>\n      <td>Not Applicable</td>\n      <td>Not Applicable</td>\n    </tr>\n    <tr>\n      <th>16877</th>\n      <td>NaN</td>\n      <td>Wyoming</td>\n      <td>56</td>\n      <td>100+ years</td>\n      <td>100+</td>\n      <td>American Indian or Alaskan Native</td>\n      <td>Female</td>\n      <td>F</td>\n      <td>2018.0</td>\n      <td>2018.0</td>\n      <td>Suppressed</td>\n      <td>Not Applicable</td>\n      <td>Not Applicable</td>\n    </tr>\n    <tr>\n      <th>16878</th>\n      <td>Total</td>\n      <td>Wyoming</td>\n      <td>56</td>\n      <td>100+ years</td>\n      <td>100+</td>\n      <td>American Indian or Alaskan Native</td>\n      <td>Female</td>\n      <td>F</td>\n      <td>NaN</td>\n      <td>NaN</td>\n      <td>Suppressed</td>\n      <td>Not Applicable</td>\n      <td>Not Applicable</td>\n    </tr>\n    <tr>\n      <th>16879</th>\n      <td>Total</td>\n      <td>Wyoming</td>\n      <td>56</td>\n      <td>100+ years</td>\n      <td>100+</td>\n      <td>American Indian or Alaskan Native</td>\n      <td>NaN</td>\n      <td>NaN</td>\n      <td>NaN</td>\n      <td>NaN</td>\n      <td>Suppressed</td>\n      <td>Not Applicable</td>\n      <td>Not Applicable</td>\n    </tr>\n  </tbody>\n</table>\n</div>"
     },
     "metadata": {},
     "execution_count": 105
    }
   ],
   "source": [
    "american_indian_female.tail()"
   ]
  },
  {
   "cell_type": "code",
   "execution_count": 135,
   "metadata": {},
   "outputs": [
    {
     "output_type": "execute_result",
     "data": {
      "text/plain": [
       "  ï»¿Notes    State    age                          Ethnicity  Gender    Year  \\\n",
       "0      NaN  Alabama  30-34  American Indian or Alaskan Native  Female  1999.0   \n",
       "1      NaN  Alabama  30-34  American Indian or Alaskan Native  Female  2000.0   \n",
       "2      NaN  Alabama  30-34  American Indian or Alaskan Native  Female  2001.0   \n",
       "3      NaN  Alabama  30-34  American Indian or Alaskan Native  Female  2002.0   \n",
       "4      NaN  Alabama  30-34  American Indian or Alaskan Native  Female  2003.0   \n",
       "\n",
       "       Deaths Population  Crude Rate  \n",
       "0  Suppressed        770  Suppressed  \n",
       "1  Suppressed        826  Suppressed  \n",
       "2  Suppressed        766  Suppressed  \n",
       "3  Suppressed        776  Suppressed  \n",
       "4  Suppressed        798  Suppressed  "
      ],
      "text/html": "<div>\n<style scoped>\n    .dataframe tbody tr th:only-of-type {\n        vertical-align: middle;\n    }\n\n    .dataframe tbody tr th {\n        vertical-align: top;\n    }\n\n    .dataframe thead th {\n        text-align: right;\n    }\n</style>\n<table border=\"1\" class=\"dataframe\">\n  <thead>\n    <tr style=\"text-align: right;\">\n      <th></th>\n      <th>ï»¿Notes</th>\n      <th>State</th>\n      <th>age</th>\n      <th>Ethnicity</th>\n      <th>Gender</th>\n      <th>Year</th>\n      <th>Deaths</th>\n      <th>Population</th>\n      <th>Crude Rate</th>\n    </tr>\n  </thead>\n  <tbody>\n    <tr>\n      <th>0</th>\n      <td>NaN</td>\n      <td>Alabama</td>\n      <td>30-34</td>\n      <td>American Indian or Alaskan Native</td>\n      <td>Female</td>\n      <td>1999.0</td>\n      <td>Suppressed</td>\n      <td>770</td>\n      <td>Suppressed</td>\n    </tr>\n    <tr>\n      <th>1</th>\n      <td>NaN</td>\n      <td>Alabama</td>\n      <td>30-34</td>\n      <td>American Indian or Alaskan Native</td>\n      <td>Female</td>\n      <td>2000.0</td>\n      <td>Suppressed</td>\n      <td>826</td>\n      <td>Suppressed</td>\n    </tr>\n    <tr>\n      <th>2</th>\n      <td>NaN</td>\n      <td>Alabama</td>\n      <td>30-34</td>\n      <td>American Indian or Alaskan Native</td>\n      <td>Female</td>\n      <td>2001.0</td>\n      <td>Suppressed</td>\n      <td>766</td>\n      <td>Suppressed</td>\n    </tr>\n    <tr>\n      <th>3</th>\n      <td>NaN</td>\n      <td>Alabama</td>\n      <td>30-34</td>\n      <td>American Indian or Alaskan Native</td>\n      <td>Female</td>\n      <td>2002.0</td>\n      <td>Suppressed</td>\n      <td>776</td>\n      <td>Suppressed</td>\n    </tr>\n    <tr>\n      <th>4</th>\n      <td>NaN</td>\n      <td>Alabama</td>\n      <td>30-34</td>\n      <td>American Indian or Alaskan Native</td>\n      <td>Female</td>\n      <td>2003.0</td>\n      <td>Suppressed</td>\n      <td>798</td>\n      <td>Suppressed</td>\n    </tr>\n  </tbody>\n</table>\n</div>"
     },
     "metadata": {},
     "execution_count": 135
    }
   ],
   "source": [
    "american_indian_female = american_indian_female.drop(columns = ['State Code','Five-Year Age Groups','Gender Code','Year Code'])\n",
    "american_indian_female = american_indian_female.rename(columns = {'Five-Year Age Groups Code':'age'})\n",
    "american_indian_female.head()"
   ]
  },
  {
   "cell_type": "code",
   "execution_count": 108,
   "metadata": {},
   "outputs": [
    {
     "output_type": "execute_result",
     "data": {
      "text/plain": [
       "      ï»¿Notes    State  State Code Five-Year Age Groups  \\\n",
       "16875      NaN  Wyoming          56           100+ years   \n",
       "16876      NaN  Wyoming          56           100+ years   \n",
       "16877      NaN  Wyoming          56           100+ years   \n",
       "16878    Total  Wyoming          56           100+ years   \n",
       "16879    Total  Wyoming          56           100+ years   \n",
       "\n",
       "      Five-Year Age Groups Code                          Ethnicity Gender  \\\n",
       "16875                      100+  American Indian or Alaskan Native   Male   \n",
       "16876                      100+  American Indian or Alaskan Native   Male   \n",
       "16877                      100+  American Indian or Alaskan Native   Male   \n",
       "16878                      100+  American Indian or Alaskan Native   Male   \n",
       "16879                      100+  American Indian or Alaskan Native    NaN   \n",
       "\n",
       "      Gender Code    Year  Year Code      Deaths      Population  \\\n",
       "16875           M  2016.0     2016.0  Suppressed  Not Applicable   \n",
       "16876           M  2017.0     2017.0  Suppressed  Not Applicable   \n",
       "16877           M  2018.0     2018.0  Suppressed  Not Applicable   \n",
       "16878           M     NaN        NaN  Suppressed  Not Applicable   \n",
       "16879         NaN     NaN        NaN  Suppressed  Not Applicable   \n",
       "\n",
       "           Crude Rate  \n",
       "16875  Not Applicable  \n",
       "16876  Not Applicable  \n",
       "16877  Not Applicable  \n",
       "16878  Not Applicable  \n",
       "16879  Not Applicable  "
      ],
      "text/html": "<div>\n<style scoped>\n    .dataframe tbody tr th:only-of-type {\n        vertical-align: middle;\n    }\n\n    .dataframe tbody tr th {\n        vertical-align: top;\n    }\n\n    .dataframe thead th {\n        text-align: right;\n    }\n</style>\n<table border=\"1\" class=\"dataframe\">\n  <thead>\n    <tr style=\"text-align: right;\">\n      <th></th>\n      <th>ï»¿Notes</th>\n      <th>State</th>\n      <th>State Code</th>\n      <th>Five-Year Age Groups</th>\n      <th>Five-Year Age Groups Code</th>\n      <th>Ethnicity</th>\n      <th>Gender</th>\n      <th>Gender Code</th>\n      <th>Year</th>\n      <th>Year Code</th>\n      <th>Deaths</th>\n      <th>Population</th>\n      <th>Crude Rate</th>\n    </tr>\n  </thead>\n  <tbody>\n    <tr>\n      <th>16875</th>\n      <td>NaN</td>\n      <td>Wyoming</td>\n      <td>56</td>\n      <td>100+ years</td>\n      <td>100+</td>\n      <td>American Indian or Alaskan Native</td>\n      <td>Male</td>\n      <td>M</td>\n      <td>2016.0</td>\n      <td>2016.0</td>\n      <td>Suppressed</td>\n      <td>Not Applicable</td>\n      <td>Not Applicable</td>\n    </tr>\n    <tr>\n      <th>16876</th>\n      <td>NaN</td>\n      <td>Wyoming</td>\n      <td>56</td>\n      <td>100+ years</td>\n      <td>100+</td>\n      <td>American Indian or Alaskan Native</td>\n      <td>Male</td>\n      <td>M</td>\n      <td>2017.0</td>\n      <td>2017.0</td>\n      <td>Suppressed</td>\n      <td>Not Applicable</td>\n      <td>Not Applicable</td>\n    </tr>\n    <tr>\n      <th>16877</th>\n      <td>NaN</td>\n      <td>Wyoming</td>\n      <td>56</td>\n      <td>100+ years</td>\n      <td>100+</td>\n      <td>American Indian or Alaskan Native</td>\n      <td>Male</td>\n      <td>M</td>\n      <td>2018.0</td>\n      <td>2018.0</td>\n      <td>Suppressed</td>\n      <td>Not Applicable</td>\n      <td>Not Applicable</td>\n    </tr>\n    <tr>\n      <th>16878</th>\n      <td>Total</td>\n      <td>Wyoming</td>\n      <td>56</td>\n      <td>100+ years</td>\n      <td>100+</td>\n      <td>American Indian or Alaskan Native</td>\n      <td>Male</td>\n      <td>M</td>\n      <td>NaN</td>\n      <td>NaN</td>\n      <td>Suppressed</td>\n      <td>Not Applicable</td>\n      <td>Not Applicable</td>\n    </tr>\n    <tr>\n      <th>16879</th>\n      <td>Total</td>\n      <td>Wyoming</td>\n      <td>56</td>\n      <td>100+ years</td>\n      <td>100+</td>\n      <td>American Indian or Alaskan Native</td>\n      <td>NaN</td>\n      <td>NaN</td>\n      <td>NaN</td>\n      <td>NaN</td>\n      <td>Suppressed</td>\n      <td>Not Applicable</td>\n      <td>Not Applicable</td>\n    </tr>\n  </tbody>\n</table>\n</div>"
     },
     "metadata": {},
     "execution_count": 108
    }
   ],
   "source": [
    "american_indian_male.tail()"
   ]
  },
  {
   "cell_type": "code",
   "execution_count": 136,
   "metadata": {},
   "outputs": [
    {
     "output_type": "execute_result",
     "data": {
      "text/plain": [
       "  ï»¿Notes    State    age                          Ethnicity Gender    Year  \\\n",
       "0      NaN  Alabama  30-34  American Indian or Alaskan Native   Male  1999.0   \n",
       "1      NaN  Alabama  30-34  American Indian or Alaskan Native   Male  2000.0   \n",
       "2      NaN  Alabama  30-34  American Indian or Alaskan Native   Male  2001.0   \n",
       "3      NaN  Alabama  30-34  American Indian or Alaskan Native   Male  2002.0   \n",
       "4      NaN  Alabama  30-34  American Indian or Alaskan Native   Male  2003.0   \n",
       "\n",
       "       Deaths Population  Crude Rate  \n",
       "0  Suppressed        763  Suppressed  \n",
       "1  Suppressed        822  Suppressed  \n",
       "2  Suppressed        801  Suppressed  \n",
       "3  Suppressed        814  Suppressed  \n",
       "4  Suppressed        827  Suppressed  "
      ],
      "text/html": "<div>\n<style scoped>\n    .dataframe tbody tr th:only-of-type {\n        vertical-align: middle;\n    }\n\n    .dataframe tbody tr th {\n        vertical-align: top;\n    }\n\n    .dataframe thead th {\n        text-align: right;\n    }\n</style>\n<table border=\"1\" class=\"dataframe\">\n  <thead>\n    <tr style=\"text-align: right;\">\n      <th></th>\n      <th>ï»¿Notes</th>\n      <th>State</th>\n      <th>age</th>\n      <th>Ethnicity</th>\n      <th>Gender</th>\n      <th>Year</th>\n      <th>Deaths</th>\n      <th>Population</th>\n      <th>Crude Rate</th>\n    </tr>\n  </thead>\n  <tbody>\n    <tr>\n      <th>0</th>\n      <td>NaN</td>\n      <td>Alabama</td>\n      <td>30-34</td>\n      <td>American Indian or Alaskan Native</td>\n      <td>Male</td>\n      <td>1999.0</td>\n      <td>Suppressed</td>\n      <td>763</td>\n      <td>Suppressed</td>\n    </tr>\n    <tr>\n      <th>1</th>\n      <td>NaN</td>\n      <td>Alabama</td>\n      <td>30-34</td>\n      <td>American Indian or Alaskan Native</td>\n      <td>Male</td>\n      <td>2000.0</td>\n      <td>Suppressed</td>\n      <td>822</td>\n      <td>Suppressed</td>\n    </tr>\n    <tr>\n      <th>2</th>\n      <td>NaN</td>\n      <td>Alabama</td>\n      <td>30-34</td>\n      <td>American Indian or Alaskan Native</td>\n      <td>Male</td>\n      <td>2001.0</td>\n      <td>Suppressed</td>\n      <td>801</td>\n      <td>Suppressed</td>\n    </tr>\n    <tr>\n      <th>3</th>\n      <td>NaN</td>\n      <td>Alabama</td>\n      <td>30-34</td>\n      <td>American Indian or Alaskan Native</td>\n      <td>Male</td>\n      <td>2002.0</td>\n      <td>Suppressed</td>\n      <td>814</td>\n      <td>Suppressed</td>\n    </tr>\n    <tr>\n      <th>4</th>\n      <td>NaN</td>\n      <td>Alabama</td>\n      <td>30-34</td>\n      <td>American Indian or Alaskan Native</td>\n      <td>Male</td>\n      <td>2003.0</td>\n      <td>Suppressed</td>\n      <td>827</td>\n      <td>Suppressed</td>\n    </tr>\n  </tbody>\n</table>\n</div>"
     },
     "metadata": {},
     "execution_count": 136
    }
   ],
   "source": [
    "american_indian_male = american_indian_male.drop(columns = ['State Code','Five-Year Age Groups','Gender Code','Year Code'])\n",
    "american_indian_male = american_indian_male.rename(columns = {'Five-Year Age Groups Code':'age'})\n",
    "american_indian_male.head()"
   ]
  },
  {
   "cell_type": "code",
   "execution_count": 111,
   "metadata": {},
   "outputs": [
    {
     "output_type": "execute_result",
     "data": {
      "text/plain": [
       "       ï»¿Notes    State  State Code Five-Year Age Groups  \\\n",
       "15295       NaN  Wyoming          56           100+ years   \n",
       "15296       NaN  Wyoming          56           100+ years   \n",
       "15297       NaN  Wyoming          56           100+ years   \n",
       "15298       NaN  Wyoming          56           100+ years   \n",
       "15299       NaN  Wyoming          56           100+ years   \n",
       "\n",
       "      Five-Year Age Groups Code    Ethnicity  Gender Gender Code  Year  \\\n",
       "15295                      100+  Asian or PI  Female           F  2014   \n",
       "15296                      100+  Asian or PI  Female           F  2015   \n",
       "15297                      100+  Asian or PI  Female           F  2016   \n",
       "15298                      100+  Asian or PI  Female           F  2017   \n",
       "15299                      100+  Asian or PI  Female           F  2018   \n",
       "\n",
       "       Year Code      Deaths      Population      Crude Rate  \n",
       "15295       2014  Suppressed  Not Applicable  Not Applicable  \n",
       "15296       2015  Suppressed  Not Applicable  Not Applicable  \n",
       "15297       2016  Suppressed  Not Applicable  Not Applicable  \n",
       "15298       2017  Suppressed  Not Applicable  Not Applicable  \n",
       "15299       2018  Suppressed  Not Applicable  Not Applicable  "
      ],
      "text/html": "<div>\n<style scoped>\n    .dataframe tbody tr th:only-of-type {\n        vertical-align: middle;\n    }\n\n    .dataframe tbody tr th {\n        vertical-align: top;\n    }\n\n    .dataframe thead th {\n        text-align: right;\n    }\n</style>\n<table border=\"1\" class=\"dataframe\">\n  <thead>\n    <tr style=\"text-align: right;\">\n      <th></th>\n      <th>ï»¿Notes</th>\n      <th>State</th>\n      <th>State Code</th>\n      <th>Five-Year Age Groups</th>\n      <th>Five-Year Age Groups Code</th>\n      <th>Ethnicity</th>\n      <th>Gender</th>\n      <th>Gender Code</th>\n      <th>Year</th>\n      <th>Year Code</th>\n      <th>Deaths</th>\n      <th>Population</th>\n      <th>Crude Rate</th>\n    </tr>\n  </thead>\n  <tbody>\n    <tr>\n      <th>15295</th>\n      <td>NaN</td>\n      <td>Wyoming</td>\n      <td>56</td>\n      <td>100+ years</td>\n      <td>100+</td>\n      <td>Asian or PI</td>\n      <td>Female</td>\n      <td>F</td>\n      <td>2014</td>\n      <td>2014</td>\n      <td>Suppressed</td>\n      <td>Not Applicable</td>\n      <td>Not Applicable</td>\n    </tr>\n    <tr>\n      <th>15296</th>\n      <td>NaN</td>\n      <td>Wyoming</td>\n      <td>56</td>\n      <td>100+ years</td>\n      <td>100+</td>\n      <td>Asian or PI</td>\n      <td>Female</td>\n      <td>F</td>\n      <td>2015</td>\n      <td>2015</td>\n      <td>Suppressed</td>\n      <td>Not Applicable</td>\n      <td>Not Applicable</td>\n    </tr>\n    <tr>\n      <th>15297</th>\n      <td>NaN</td>\n      <td>Wyoming</td>\n      <td>56</td>\n      <td>100+ years</td>\n      <td>100+</td>\n      <td>Asian or PI</td>\n      <td>Female</td>\n      <td>F</td>\n      <td>2016</td>\n      <td>2016</td>\n      <td>Suppressed</td>\n      <td>Not Applicable</td>\n      <td>Not Applicable</td>\n    </tr>\n    <tr>\n      <th>15298</th>\n      <td>NaN</td>\n      <td>Wyoming</td>\n      <td>56</td>\n      <td>100+ years</td>\n      <td>100+</td>\n      <td>Asian or PI</td>\n      <td>Female</td>\n      <td>F</td>\n      <td>2017</td>\n      <td>2017</td>\n      <td>Suppressed</td>\n      <td>Not Applicable</td>\n      <td>Not Applicable</td>\n    </tr>\n    <tr>\n      <th>15299</th>\n      <td>NaN</td>\n      <td>Wyoming</td>\n      <td>56</td>\n      <td>100+ years</td>\n      <td>100+</td>\n      <td>Asian or PI</td>\n      <td>Female</td>\n      <td>F</td>\n      <td>2018</td>\n      <td>2018</td>\n      <td>Suppressed</td>\n      <td>Not Applicable</td>\n      <td>Not Applicable</td>\n    </tr>\n  </tbody>\n</table>\n</div>"
     },
     "metadata": {},
     "execution_count": 111
    }
   ],
   "source": [
    "asian_female.tail()"
   ]
  },
  {
   "cell_type": "code",
   "execution_count": 137,
   "metadata": {},
   "outputs": [
    {
     "output_type": "execute_result",
     "data": {
      "text/plain": [
       "   ï»¿Notes    State    age    Ethnicity  Gender  Year      Deaths Population  \\\n",
       "0       NaN  Alabama  30-34  Asian or PI  Female  1999  Suppressed       1620   \n",
       "1       NaN  Alabama  30-34  Asian or PI  Female  2000  Suppressed       1725   \n",
       "2       NaN  Alabama  30-34  Asian or PI  Female  2001  Suppressed       1860   \n",
       "3       NaN  Alabama  30-34  Asian or PI  Female  2002  Suppressed       2042   \n",
       "4       NaN  Alabama  30-34  Asian or PI  Female  2003  Suppressed       2139   \n",
       "\n",
       "   Crude Rate  \n",
       "0  Suppressed  \n",
       "1  Suppressed  \n",
       "2  Suppressed  \n",
       "3  Suppressed  \n",
       "4  Suppressed  "
      ],
      "text/html": "<div>\n<style scoped>\n    .dataframe tbody tr th:only-of-type {\n        vertical-align: middle;\n    }\n\n    .dataframe tbody tr th {\n        vertical-align: top;\n    }\n\n    .dataframe thead th {\n        text-align: right;\n    }\n</style>\n<table border=\"1\" class=\"dataframe\">\n  <thead>\n    <tr style=\"text-align: right;\">\n      <th></th>\n      <th>ï»¿Notes</th>\n      <th>State</th>\n      <th>age</th>\n      <th>Ethnicity</th>\n      <th>Gender</th>\n      <th>Year</th>\n      <th>Deaths</th>\n      <th>Population</th>\n      <th>Crude Rate</th>\n    </tr>\n  </thead>\n  <tbody>\n    <tr>\n      <th>0</th>\n      <td>NaN</td>\n      <td>Alabama</td>\n      <td>30-34</td>\n      <td>Asian or PI</td>\n      <td>Female</td>\n      <td>1999</td>\n      <td>Suppressed</td>\n      <td>1620</td>\n      <td>Suppressed</td>\n    </tr>\n    <tr>\n      <th>1</th>\n      <td>NaN</td>\n      <td>Alabama</td>\n      <td>30-34</td>\n      <td>Asian or PI</td>\n      <td>Female</td>\n      <td>2000</td>\n      <td>Suppressed</td>\n      <td>1725</td>\n      <td>Suppressed</td>\n    </tr>\n    <tr>\n      <th>2</th>\n      <td>NaN</td>\n      <td>Alabama</td>\n      <td>30-34</td>\n      <td>Asian or PI</td>\n      <td>Female</td>\n      <td>2001</td>\n      <td>Suppressed</td>\n      <td>1860</td>\n      <td>Suppressed</td>\n    </tr>\n    <tr>\n      <th>3</th>\n      <td>NaN</td>\n      <td>Alabama</td>\n      <td>30-34</td>\n      <td>Asian or PI</td>\n      <td>Female</td>\n      <td>2002</td>\n      <td>Suppressed</td>\n      <td>2042</td>\n      <td>Suppressed</td>\n    </tr>\n    <tr>\n      <th>4</th>\n      <td>NaN</td>\n      <td>Alabama</td>\n      <td>30-34</td>\n      <td>Asian or PI</td>\n      <td>Female</td>\n      <td>2003</td>\n      <td>Suppressed</td>\n      <td>2139</td>\n      <td>Suppressed</td>\n    </tr>\n  </tbody>\n</table>\n</div>"
     },
     "metadata": {},
     "execution_count": 137
    }
   ],
   "source": [
    "asian_female = asian_female.drop(columns = ['State Code','Five-Year Age Groups','Gender Code','Year Code'])\n",
    "asian_female = asian_female.rename(columns = {'Five-Year Age Groups Code':'age'})\n",
    "asian_female.head()"
   ]
  },
  {
   "cell_type": "code",
   "execution_count": 114,
   "metadata": {},
   "outputs": [
    {
     "output_type": "execute_result",
     "data": {
      "text/plain": [
       "       ï»¿Notes    State  State Code Five-Year Age Groups  \\\n",
       "15295       NaN  Wyoming          56           100+ years   \n",
       "15296       NaN  Wyoming          56           100+ years   \n",
       "15297       NaN  Wyoming          56           100+ years   \n",
       "15298       NaN  Wyoming          56           100+ years   \n",
       "15299       NaN  Wyoming          56           100+ years   \n",
       "\n",
       "      Five-Year Age Groups Code    Ethnicity Gender Gender Code  Year  \\\n",
       "15295                      100+  Asian or PI   Male           M  2014   \n",
       "15296                      100+  Asian or PI   Male           M  2015   \n",
       "15297                      100+  Asian or PI   Male           M  2016   \n",
       "15298                      100+  Asian or PI   Male           M  2017   \n",
       "15299                      100+  Asian or PI   Male           M  2018   \n",
       "\n",
       "       Year Code      Deaths      Population      Crude Rate  \n",
       "15295       2014  Suppressed  Not Applicable  Not Applicable  \n",
       "15296       2015  Suppressed  Not Applicable  Not Applicable  \n",
       "15297       2016  Suppressed  Not Applicable  Not Applicable  \n",
       "15298       2017  Suppressed  Not Applicable  Not Applicable  \n",
       "15299       2018  Suppressed  Not Applicable  Not Applicable  "
      ],
      "text/html": "<div>\n<style scoped>\n    .dataframe tbody tr th:only-of-type {\n        vertical-align: middle;\n    }\n\n    .dataframe tbody tr th {\n        vertical-align: top;\n    }\n\n    .dataframe thead th {\n        text-align: right;\n    }\n</style>\n<table border=\"1\" class=\"dataframe\">\n  <thead>\n    <tr style=\"text-align: right;\">\n      <th></th>\n      <th>ï»¿Notes</th>\n      <th>State</th>\n      <th>State Code</th>\n      <th>Five-Year Age Groups</th>\n      <th>Five-Year Age Groups Code</th>\n      <th>Ethnicity</th>\n      <th>Gender</th>\n      <th>Gender Code</th>\n      <th>Year</th>\n      <th>Year Code</th>\n      <th>Deaths</th>\n      <th>Population</th>\n      <th>Crude Rate</th>\n    </tr>\n  </thead>\n  <tbody>\n    <tr>\n      <th>15295</th>\n      <td>NaN</td>\n      <td>Wyoming</td>\n      <td>56</td>\n      <td>100+ years</td>\n      <td>100+</td>\n      <td>Asian or PI</td>\n      <td>Male</td>\n      <td>M</td>\n      <td>2014</td>\n      <td>2014</td>\n      <td>Suppressed</td>\n      <td>Not Applicable</td>\n      <td>Not Applicable</td>\n    </tr>\n    <tr>\n      <th>15296</th>\n      <td>NaN</td>\n      <td>Wyoming</td>\n      <td>56</td>\n      <td>100+ years</td>\n      <td>100+</td>\n      <td>Asian or PI</td>\n      <td>Male</td>\n      <td>M</td>\n      <td>2015</td>\n      <td>2015</td>\n      <td>Suppressed</td>\n      <td>Not Applicable</td>\n      <td>Not Applicable</td>\n    </tr>\n    <tr>\n      <th>15297</th>\n      <td>NaN</td>\n      <td>Wyoming</td>\n      <td>56</td>\n      <td>100+ years</td>\n      <td>100+</td>\n      <td>Asian or PI</td>\n      <td>Male</td>\n      <td>M</td>\n      <td>2016</td>\n      <td>2016</td>\n      <td>Suppressed</td>\n      <td>Not Applicable</td>\n      <td>Not Applicable</td>\n    </tr>\n    <tr>\n      <th>15298</th>\n      <td>NaN</td>\n      <td>Wyoming</td>\n      <td>56</td>\n      <td>100+ years</td>\n      <td>100+</td>\n      <td>Asian or PI</td>\n      <td>Male</td>\n      <td>M</td>\n      <td>2017</td>\n      <td>2017</td>\n      <td>Suppressed</td>\n      <td>Not Applicable</td>\n      <td>Not Applicable</td>\n    </tr>\n    <tr>\n      <th>15299</th>\n      <td>NaN</td>\n      <td>Wyoming</td>\n      <td>56</td>\n      <td>100+ years</td>\n      <td>100+</td>\n      <td>Asian or PI</td>\n      <td>Male</td>\n      <td>M</td>\n      <td>2018</td>\n      <td>2018</td>\n      <td>Suppressed</td>\n      <td>Not Applicable</td>\n      <td>Not Applicable</td>\n    </tr>\n  </tbody>\n</table>\n</div>"
     },
     "metadata": {},
     "execution_count": 114
    }
   ],
   "source": [
    "asian_male.tail()"
   ]
  },
  {
   "cell_type": "code",
   "execution_count": 138,
   "metadata": {},
   "outputs": [
    {
     "output_type": "execute_result",
     "data": {
      "text/plain": [
       "   ï»¿Notes    State    age    Ethnicity Gender  Year      Deaths Population  \\\n",
       "0       NaN  Alabama  30-34  Asian or PI   Male  1999  Suppressed       1532   \n",
       "1       NaN  Alabama  30-34  Asian or PI   Male  2000  Suppressed       1665   \n",
       "2       NaN  Alabama  30-34  Asian or PI   Male  2001  Suppressed       1768   \n",
       "3       NaN  Alabama  30-34  Asian or PI   Male  2002  Suppressed       1947   \n",
       "4       NaN  Alabama  30-34  Asian or PI   Male  2003  Suppressed       2154   \n",
       "\n",
       "   Crude Rate  \n",
       "0  Suppressed  \n",
       "1  Suppressed  \n",
       "2  Suppressed  \n",
       "3  Suppressed  \n",
       "4  Suppressed  "
      ],
      "text/html": "<div>\n<style scoped>\n    .dataframe tbody tr th:only-of-type {\n        vertical-align: middle;\n    }\n\n    .dataframe tbody tr th {\n        vertical-align: top;\n    }\n\n    .dataframe thead th {\n        text-align: right;\n    }\n</style>\n<table border=\"1\" class=\"dataframe\">\n  <thead>\n    <tr style=\"text-align: right;\">\n      <th></th>\n      <th>ï»¿Notes</th>\n      <th>State</th>\n      <th>age</th>\n      <th>Ethnicity</th>\n      <th>Gender</th>\n      <th>Year</th>\n      <th>Deaths</th>\n      <th>Population</th>\n      <th>Crude Rate</th>\n    </tr>\n  </thead>\n  <tbody>\n    <tr>\n      <th>0</th>\n      <td>NaN</td>\n      <td>Alabama</td>\n      <td>30-34</td>\n      <td>Asian or PI</td>\n      <td>Male</td>\n      <td>1999</td>\n      <td>Suppressed</td>\n      <td>1532</td>\n      <td>Suppressed</td>\n    </tr>\n    <tr>\n      <th>1</th>\n      <td>NaN</td>\n      <td>Alabama</td>\n      <td>30-34</td>\n      <td>Asian or PI</td>\n      <td>Male</td>\n      <td>2000</td>\n      <td>Suppressed</td>\n      <td>1665</td>\n      <td>Suppressed</td>\n    </tr>\n    <tr>\n      <th>2</th>\n      <td>NaN</td>\n      <td>Alabama</td>\n      <td>30-34</td>\n      <td>Asian or PI</td>\n      <td>Male</td>\n      <td>2001</td>\n      <td>Suppressed</td>\n      <td>1768</td>\n      <td>Suppressed</td>\n    </tr>\n    <tr>\n      <th>3</th>\n      <td>NaN</td>\n      <td>Alabama</td>\n      <td>30-34</td>\n      <td>Asian or PI</td>\n      <td>Male</td>\n      <td>2002</td>\n      <td>Suppressed</td>\n      <td>1947</td>\n      <td>Suppressed</td>\n    </tr>\n    <tr>\n      <th>4</th>\n      <td>NaN</td>\n      <td>Alabama</td>\n      <td>30-34</td>\n      <td>Asian or PI</td>\n      <td>Male</td>\n      <td>2003</td>\n      <td>Suppressed</td>\n      <td>2154</td>\n      <td>Suppressed</td>\n    </tr>\n  </tbody>\n</table>\n</div>"
     },
     "metadata": {},
     "execution_count": 138
    }
   ],
   "source": [
    "asian_male = asian_male.drop(columns = ['State Code','Five-Year Age Groups','Gender Code','Year Code'])\n",
    "asian_male = asian_male.rename(columns = {'Five-Year Age Groups Code':'age'})\n",
    "asian_male.head()"
   ]
  },
  {
   "cell_type": "code",
   "execution_count": null,
   "metadata": {},
   "outputs": [],
   "source": []
  }
 ],
 "metadata": {
  "kernelspec": {
   "display_name": "Python 3",
   "language": "python",
   "name": "python3"
  },
  "language_info": {
   "codemirror_mode": {
    "name": "ipython",
    "version": 3
   },
   "file_extension": ".py",
   "mimetype": "text/x-python",
   "name": "python",
   "nbconvert_exporter": "python",
   "pygments_lexer": "ipython3",
   "version": "3.8.5-final"
  }
 },
 "nbformat": 4,
 "nbformat_minor": 2
}